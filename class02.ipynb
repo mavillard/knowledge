{
 "cells": [
  {
   "cell_type": "markdown",
   "metadata": {},
   "source": [
    "<div align=\"center\">\n",
    "    <h1><a href=\"index.ipynb\">Knowledge Discovery in Digital Humanities</a></h1>\n",
    "</div>"
   ]
  },
  {
   "cell_type": "markdown",
   "metadata": {},
   "source": [
    "<div align=\"center\">\n",
    "    <h2>Class 02: What is knowledge?</h2>\n",
    "    <img src=\"img/plato.jpg\" width=\"300\">\n",
    "</div>"
   ]
  },
  {
   "cell_type": "markdown",
   "metadata": {},
   "source": [
    "###Table of contents\n",
    "\n",
    "- [Definition](#Definition)\n",
    "- [Areas of knowledge](#Areas-of-knowledge)\n",
    "- [Types of knowledge](#Types-of-knowledge)\n",
    "- [Levels of knowing](#Levels-of-knowing)\n",
    "- [Sources of knowledge](#Sources-of-knowledge)\n",
    "- [Sources of information](#Sources-of-information)"
   ]
  },
  {
   "cell_type": "markdown",
   "metadata": {},
   "source": [
    "###Definition\n",
    "\n",
    "Knowledge is *\"justified true belief\"*. **(Plato, *Theaetetus*, 201c-d)**"
   ]
  },
  {
   "cell_type": "markdown",
   "metadata": {},
   "source": [
    "###Areas of knowledge\n",
    "\n",
    "The definition of knowledge and its role depend, at least in part, on the field in question. Below is a non-enhaustive discussion of the rol of knowledge in some of the most important areas for the human being.\n",
    "\n",
    "####Art\n",
    "Art is sometimes seen as having no relation to knowledge at all. An increasingly familiar view is that art is purely subjective: a matter of taste, unreasoned opinion, or emotional response. But is that all there is to it? What distinguishes art from non-art? Can there be a correct understanding of a work of art? If so, can an artwork be understood in isolation from other knowledge, or is it necessary some previous knowledge to grasp the work's significance? Is beauty really in the eye of the beholder? Are all interpretations of equal worth, or are some critics better qualified than others?\n",
    "\n",
    "####Humanities\n",
    "Humanists aim, through the different disciplines that compose the humanities, to understand and record the world. Knowledge of these records of human experience gives us the opportunity to feel a sense of connection to those who have come before us, as well as to our contemporaries. In a broad sense, the humanities can be described as the study of how people process and document the human experience. How do the ways in which documents are recorded influence our\n",
    "understanding of them? Does this process follow the scientific method? Are the humanities science? If so, how reliable are their knowledge?\n",
    "\n",
    "####Mathematics\n",
    "It has been suggested that the laws of nature are written into the language of mathematics. Mathematics gives certainty, but can they tell anything about the world? What exactly is the relationship between mathematics and the world? Is mathematics discovered or invented? What is a mathematical truth?\n",
    "\n",
    "####Natural sciences\n",
    "Scientific knowledge and progress is measurable in the way that it has provided success in many areas. For instance, thanks to science, humanity has developed technology, traveled in outer space, or made medicines. But how are these achievements reached? Why is science regarded as the paradigm of all knowledge? Is there a scientific method? If so, does this scientific method result in knowledge?\n",
    "\n",
    "####Social sciences\n",
    "How can human behavior be explained? Are there universal constants or laws?\n",
    "\n",
    "####Creativity and innovation\n",
    "Social networks have strongly shaped social scientific knowledge of creativity and innovation. But how do social networks and ideas influence one another? Can state of the art theory and research describe where new ideas come from? How do we recognize excellence and creativity, and strategies for generating new ideas and theories? How do copyright laws enable and constrain creativity and innovation? Is there a relation between copyright and knowledge?"
   ]
  },
  {
   "cell_type": "markdown",
   "metadata": {},
   "source": [
    "###Types of knowledge\n",
    "\n",
    "Epistemology traditionally distinguishes among three kinds of knowledge:\n",
    "- **Personal knowledge** or *familiarity*. Familiarity of an entity by direct interaction (acquaintance knowledge). For example, knowing a person or visiting a city.\n",
    "- **Propositional knowledge** or *knowing-that*. Knowledge of a fact by a declarative sentence (theoretical knowledge). For example, \"dogs are mammals\" or \"2 + 2 = 4\".\n",
    "- **Procedural knowledge** or *know-how*. Acquiring skills and abilities by doing (practical knowledge). For example, cooking a meal or riding a bike.\n",
    "\n",
    "Other possible criteria to classify knowledge:\n",
    "- By its content structure:\n",
    " - **Formal**. Defined in a formal way. For example, logics or a programming language.\n",
    " - **Material**. Expressed in a non-formal way. For example, a report or a map.\n",
    "- By its social character:\n",
    " - **Individual**. Owned by an individual. For example, an idea or memories.\n",
    " - **Collective**. Shared by a group. For example, a lecture or the proceedings of a conference.\n",
    "- By its way of dissemination:\n",
    " - **Tacit**. Contained in the individuals' minds. For example, using a computer or playing tennis.\n",
    " - **Explicit**. Coded in a physical media. For example, the content in a book or on a hard disk."
   ]
  },
  {
   "cell_type": "markdown",
   "metadata": {},
   "source": [
    "###Levels of knowing\n",
    "\n",
    "<div align=\"center\">\n",
    "    <figure>\n",
    "        <img src=\"img/knowledge-pyramid.png\">\n",
    "        <figcaption>Knowledge pyramid</figcaption>\n",
    "    </figure>\n",
    "</div>\n",
    "\n",
    "- **Data** : Facts.\n",
    "- **Information**: Collected, contextualized, and categorized data.\n",
    "- Faith: Confidence or trust in a person or thing.\n",
    "- Opinion: Judgement that cannot be verified.\n",
    "- Belief: Opinion or conviction in that some information may be the truth.\n",
    "- **Knowledge**: Analyzed and interpreted information.\n",
    "- Wisdom: Integrated knowledge, assimilated through experience.\n",
    "\n",
    "Example:\n",
    "<table align=\"left\">\n",
    "    <caption>Difference between data, information, and knowledge</caption>\n",
    "    <tr>\n",
    "        <td>\n",
    "            <table>\n",
    "                <caption>Data</caption>\n",
    "                <tr><td>1</td><td>90</td></tr>\n",
    "                <tr><td>2</td><td>85</td></tr>\n",
    "                <tr><td>3</td><td>95</td></tr>\n",
    "            </table>\n",
    "        </td>\n",
    "        <td>\n",
    "            <table>\n",
    "                <caption>Information</caption>\n",
    "                <thead>\n",
    "                    <th>Student id</th><th>Grade</th><th>Course</th><th>University</th>\n",
    "                </thead>\n",
    "                <tbody>\n",
    "                    <tr><td>student 1</td><td>90%</td><td>Spanish 1030</td><td>Western</td></tr>\n",
    "                    <tr><td>student 2</td><td>85%</td><td>Spanish 1030</td><td>Western</td></tr>\n",
    "                    <tr><td>student 3</td><td>95%</td><td>Spanish 1030</td><td>Western</td></tr>\n",
    "                </tbody>\n",
    "            </table>\n",
    "        </td>\n",
    "        <td>\n",
    "            <table>\n",
    "                <caption>Knowledge</caption>\n",
    "                <tr><td>The <b>average</b> for Spanish 1030 at Western University is 90%.</td></tr>\n",
    "            </table>\n",
    "        </td>\n",
    "    </tr>\n",
    "</table>"
   ]
  },
  {
   "cell_type": "markdown",
   "metadata": {},
   "source": [
    "###Sources of knowledge\n",
    "\n",
    "Psychological factors that favor beliefs to arise:\n",
    "- desires\n",
    "- emotional needs\n",
    "- prejudice\n",
    "- biases of various kinds\n",
    "\n",
    "These sources of beliefs do not qualify as knowledge even if true. For true beliefs to count as knowledge, it is necessary that they originate in sources considered reliable *for a good reason*.\n",
    "\n",
    "Sources of knowledge in epistemology:\n",
    "- **Perception**. Knowledge is acquired through the experience of the senses. This is the base of empiricism.\n",
    "- **Reason**. Knowledge, at least in part, is derived from previous knowledge through pure reasoning. This is the base of rationalism.\n",
    "- **Introspection**. Knowledge of one's self can be found through internal self-evalution.\n",
    "- **Memory**. Knowledge arises by remembering past information or events.\n",
    "- **Testimony**. Knowledge is directly obtained from others' knowledge.\n",
    "\n",
    "Empiricism fits well with Humanism's theses:\n",
    "\n",
    "*\"Knowledge of the world is derived by observation, experimentation, and rational analysis.\"* ***(Humanism and Its Aspirations - Humanist Manifesto III, a successor to the Humanist Manifesto of 1933)***"
   ]
  },
  {
   "cell_type": "markdown",
   "metadata": {},
   "source": [
    "###Sources of information\n",
    "\n",
    "<table align=\"left\">\n",
    "    <caption>Popular sources of information liable to be analyzed</caption>\n",
    "    <thead>\n",
    "        <th>Source</th><th>Information</th><th>Example</th>\n",
    "    </thead>\n",
    "    <tbody>\n",
    "        <tr><td>academic journals</td><td>Narrow information on a specific area</td><td><i><a href=\"http://llc.oxfordjournals.org/\">Literary &amp; Linguistic Computing</a></i></td></tr>\n",
    "        <tr><td>books</td><td>In-depth coverage of a subject</td><td><i><a href=\"http://shop.oreilly.com/product/9780596516499.do\">Natural language processing with Python</a></i></td></tr>\n",
    "        <tr><td>databases</td><td>Collection of other sources<td><i><a href=\"http://www.jstor.org/\">JSTOR</a></i></td></tr>\n",
    "        <tr><td>encyclopedias</td><td>Comprehensive information on a topic</td><td><i><a href=\"http://www.britannica.com/\">Encyclopaedia Britannica</a></i></td></tr>\n",
    "        <tr><td>magazines</td><td>Popular culture<br/>Up-to-date events</td><td><i><a href=\"http://www.people.com/\">People</a></i></td></tr>\n",
    "        <tr><td>newspapers</td><td>Daily information<br/>International,  national, and local news<br/>People's opinions<td><i><a href=\"http://www.nytimes.com/\">The New York Times</a></i></td></tr>\n",
    "        <tr><td>websites</td><td>All possible topics<br/>Institutional information<br/>People's knowledge, interests and opinions</td><td><i><a href=\"http://uwo.ca/\">uwo.ca</a></i></td></tr>\n",
    "    </tbody>\n",
    "</table>"
   ]
  }
 ],
 "metadata": {
  "kernelspec": {
   "display_name": "Python 2",
   "language": "python",
   "name": "python2"
  },
  "language_info": {
   "codemirror_mode": {
    "name": "ipython",
    "version": 2
   },
   "file_extension": ".py",
   "mimetype": "text/x-python",
   "name": "python",
   "nbconvert_exporter": "python",
   "pygments_lexer": "ipython2",
   "version": "2.7.6"
  }
 },
 "nbformat": 4,
 "nbformat_minor": 0
}
