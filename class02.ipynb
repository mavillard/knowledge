{
 "cells": [
  {
   "cell_type": "markdown",
   "metadata": {},
   "source": [
    "<div align=\"center\">\n",
    "    <h1><a href=\"index.ipynb\">Knowledge Discovery in Digital Humanities</a></h1>\n",
    "</div>"
   ]
  },
  {
   "cell_type": "markdown",
   "metadata": {},
   "source": [
    "<div align=\"center\">\n",
    "    <h2>Class 02: Introduction to knowledge</h2>\n",
    "    <img src=\"img/class02.jpg\">\n",
    "</div>"
   ]
  },
  {
   "cell_type": "markdown",
   "metadata": {},
   "source": [
    "###Table of contents"
   ]
  },
  {
   "cell_type": "markdown",
   "metadata": {},
   "source": [
    "* [Definition](#Definition)\n",
    "* [Types of knowledge](#Types-of-knowledge)\n",
    "* [Levels of knowing](#Levels-of-knowing)\n",
    "* [Knowledge in different disciplines](#Knowledge-in-different-disciplines)\n",
    "* [Acquisition](#Acquisition)\n",
    "* [Sources of knowledge](#Sources-of-knowledge)"
   ]
  },
  {
   "cell_type": "markdown",
   "metadata": {},
   "source": [
    "###Definition"
   ]
  },
  {
   "cell_type": "markdown",
   "metadata": {},
   "source": [
    "Knowledge is a *\"justified true belief.\"* **--Plato, _Theaetetus_, 201 c-d**"
   ]
  },
  {
   "cell_type": "markdown",
   "metadata": {},
   "source": [
    "###Types of knowledge"
   ]
  },
  {
   "cell_type": "markdown",
   "metadata": {},
   "source": [
    "Epistemology traditionally distinguishes among three kinds of knowledge:\n",
    "- **Acquaintance knowledge** or *familiarity*. Familiarity of an entity by direct interaction (personal knowledge). For example, knowing a person or visiting a city.\n",
    "- **Propositional knowledge** or *knowing-that*. Knowledge of a fact by a declarative sentence (theoretical knowledge). For example, \"dogs are mammals\" or \"2 + 2 = 4\".\n",
    "- **Procedural knowledge** or *know-how*. Acquiring skills and abilities by doing (practical knowledge). For example, cooking a meal or riding a bike.\n",
    "\n",
    "Other possible criteria to classify knowledge:\n",
    "- By its content structure:\n",
    " - **Formal**. Defined in a formal way. For example, logics or a programming language.\n",
    " - **Material**. Expressed in a non-formal way. For example, a report or a map.\n",
    "- By its social character:\n",
    " - **Individual**. Owned by an individual. For example, an idea or memories.\n",
    " - **Collective**. Shared by a group. For example, a lecture or the proceedings of a conference.\n",
    "- By its way of dissemination:\n",
    " - **Tacit**. Contained in the individuals' minds. For example, using a computer or playing tennis.\n",
    " - **Explicit**. Coded in a physical media. For example, the content in a book or on a hard disk."
   ]
  },
  {
   "cell_type": "markdown",
   "metadata": {},
   "source": [
    "###Levels of knowing"
   ]
  },
  {
   "cell_type": "markdown",
   "metadata": {},
   "source": [
    "<div align=\"center\">\n",
    "    <figure>\n",
    "        <img src=\"img/knowledge-pyramid.png\">\n",
    "        <figcaption>Fig.01 Knowledge pyramid</figcaption>\n",
    "    </figure>\n",
    "</div>"
   ]
  },
  {
   "cell_type": "markdown",
   "metadata": {},
   "source": [
    "- **Data** : Facts.\n",
    "- **Information**: Collected, contextualized, and categorized data.\n",
    "- Faith: Confidence or trust in a person or thing.\n",
    "- Opinion: Judgement that cannot be verified.\n",
    "- Belief: Opinion or conviction in what may be the truth.\n",
    "- **Knowledge**: Interpreted information that supports decision making.\n",
    "- Wisdom: Integrated knowledge, assimilated through experience."
   ]
  },
  {
   "cell_type": "markdown",
   "metadata": {},
   "source": [
    "Example:\n",
    "<br/>\n",
    "<table align=\"left\">\n",
    "    <tr>\n",
    "        <td>\n",
    "            <table>\n",
    "                <caption>Data</caption>\n",
    "                <tr><td>1</td><td>90</td></tr>\n",
    "                <tr><td>2</td><td>85</td></tr>\n",
    "                <tr><td>3</td><td>95</td></tr>\n",
    "            </table>\n",
    "        </td>\n",
    "        <td>\n",
    "            <table>\n",
    "                <caption>Information</caption>\n",
    "                <thead>\n",
    "                    <th>Student id</th><th>Grade</th><th>Course</th><th>University</th>\n",
    "                </thead>\n",
    "                <tbody>\n",
    "                    <tr><td>student 1</td><td>90%</td><td>Spanish 1030</td><td>Western</td></tr>\n",
    "                    <tr><td>student 2</td><td>85%</td><td>Spanish 1030</td><td>Western</td></tr>\n",
    "                    <tr><td>student 3</td><td>95%</td><td>Spanish 1030</td><td>Western</td></tr>\n",
    "                </tbody>\n",
    "            </table>\n",
    "        </td>\n",
    "        <td>\n",
    "            <table>\n",
    "                <caption>Knowledge</caption>\n",
    "                <tr><td>The average for Spanish 1030 at Western University is 90%.</td></tr>\n",
    "            </table>\n",
    "        </td>\n",
    "    </tr>\n",
    "</table>"
   ]
  }
 ],
 "metadata": {
  "kernelspec": {
   "display_name": "Python 2",
   "language": "python",
   "name": "python2"
  },
  "language_info": {
   "codemirror_mode": {
    "name": "ipython",
    "version": 2
   },
   "file_extension": ".py",
   "mimetype": "text/x-python",
   "name": "python",
   "nbconvert_exporter": "python",
   "pygments_lexer": "ipython2",
   "version": "2.7.6"
  }
 },
 "nbformat": 4,
 "nbformat_minor": 0
}
