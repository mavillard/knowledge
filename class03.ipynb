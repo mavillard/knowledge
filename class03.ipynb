{
 "cells": [
  {
   "cell_type": "markdown",
   "metadata": {},
   "source": [
    "<div align=\"center\">\n",
    "    <h1><a href=\"index.ipynb\">Knowledge Discovery in Digital Humanities</a></h1>\n",
    "</div>"
   ]
  },
  {
   "cell_type": "markdown",
   "metadata": {},
   "source": [
    "<div align=\"center\">\n",
    "    <h2>Class 03: The social nature of knowledge</h2>\n",
    "    <img src=\"img/ants.jpg\" width=\"600\">\n",
    "</div>"
   ]
  },
  {
   "cell_type": "markdown",
   "metadata": {},
   "source": [
    "###Table of contents\n",
    "\n",
    "- [Social knowledge](#Social-knowledge)\n",
    "- [The nature of collaboration](#The-nature-of-collaboration)"
   ]
  },
  {
   "cell_type": "markdown",
   "metadata": {},
   "source": [
    "###Social knowledge\n",
    "\n",
    "####Traditional theories of knowledge\n",
    "-  Focused on individuals as the producers of knowledge.\n",
    "\n",
    "####Social epistemology\n",
    "- Knowledge is not produced by individuals.\n",
    "- Detached people do not produce *objective* knowledge (objectivity is due to diversity).\n",
    "- Most of the knowledge is created and transmitted through social processes. \n",
    "\n",
    "Therefore, we must pay attention to how these processes work in order to understand the nature of knowledge."
   ]
  },
  {
   "cell_type": "markdown",
   "metadata": {},
   "source": [
    "###The nature of collaboration\n",
    "\n",
    "Collaboration is one of the main processes to create knowledge collectively. It has usually been ubiquitous in the natural and social sciences, and now more and more in other disciplines. But it was not always so, especially in the Humanities.\n",
    "\n",
    "<br/>\n",
    "<div align=\"center\">\n",
    "    <figure>\n",
    "        <img src=\"img/collaboration1.png\">\n",
    "        <figcaption>Percentage of multiauthored papers in the physical and biological sciences (top line), social sciences (middle line), and humanities (bottom line)</figcaption>\n",
    "    </figure>\n",
    "</div>\n",
    "\n",
    "<br/>\n",
    "<div align=\"center\">\n",
    "    <figure>\n",
    "        <img src=\"img/collaboration2.png\">\n",
    "        <figcaption>Percentage of multiauthored papers in selected journals in 1992 (PMLA stands for <i>Proceedings of the Modern Language Association</i>)</figcaption>\n",
    "    </figure>\n",
    "</div>\n",
    "\n",
    "<br/>\n",
    "<div align=\"center\">\n",
    "    <figure>\n",
    "        <img src=\"img/collaboration3.png\">\n",
    "        <figcaption>Mean number of coauthors in selected journals in 1992</figcaption>\n",
    "    </figure>\n",
    "</div>\n",
    "\n",
    "Kinds of collaboration by backgrounds and roles of the collaborators:\n",
    "- **Employer/employee**. The employee performs a task for the employer.\n",
    "- **Teacher/apprentice**. The apprentice perform work for the teacher to acquire the skills that will enable them to do the work themselves.\n",
    "- **Peer-similar**. Collaborators with similar background (usually researchers from the same discipline).\n",
    "- **Peer-different**. Collaborators with different background (usually researchers from different disciplines).\n",
    "\n",
    "Kinds of collaboration by interaction of the collaborators' disciplines:\n",
    "- **Monodisciplinary or intradisciplinary collaboration**: collaboration in the same (one) discipline.\n",
    "- **Multidisciplinary collaboration**:, multi- (additive), inter- (interactive) and trans- (holistic), cross- disciplinary collaboration"
   ]
  }
 ],
 "metadata": {
  "kernelspec": {
   "display_name": "Python 2",
   "language": "python",
   "name": "python2"
  },
  "language_info": {
   "codemirror_mode": {
    "name": "ipython",
    "version": 2
   },
   "file_extension": ".py",
   "mimetype": "text/x-python",
   "name": "python",
   "nbconvert_exporter": "python",
   "pygments_lexer": "ipython2",
   "version": "2.7.6"
  }
 },
 "nbformat": 4,
 "nbformat_minor": 0
}
