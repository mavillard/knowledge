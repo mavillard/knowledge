{
 "cells": [
  {
   "cell_type": "markdown",
   "metadata": {},
   "source": [
    "<div align=\"center\">\n",
    "    <h1><a href=\"index.ipynb\">Knowledge Discovery in Digital Humanities</a></h1>\n",
    "</div>"
   ]
  },
  {
   "cell_type": "markdown",
   "metadata": {},
   "source": [
    "<div align=\"center\">\n",
    "    <h2>Class 04. Python I: Preliminary</h2>\n",
    "    <img src=\"img/python.png\" width=\"300\">\n",
    "</div>"
   ]
  },
  {
   "cell_type": "markdown",
   "metadata": {},
   "source": [
    "###Table of contents\n",
    "\n",
    "- [Setup](#Setup)\n",
    "- [IPython notebook](#IPython-notebook)\n",
    "- [*Hello world!*, the first program in Python](#Hello-world!,-the-first-program-in-Python)\n",
    "- [Variables, expressions, and statements](#Variables,-expressions,-and-statements)"
   ]
  },
  {
   "cell_type": "markdown",
   "metadata": {},
   "source": [
    "###Setup\n",
    "\n",
    "####Python\n",
    "Python is the programming language for this course. It is installed by default on Linux.\n",
    "\n",
    "####Install pip\n",
    "APT is a package manager for Linux. PIP is a package manager used to handle packages written in Python.\n",
    "\n",
    "    $ sudo apt-get install python-pip\n",
    "\n",
    "####Install virtualenv\n",
    "Virtualenv is a tool to create isolated Python environments.\n",
    "\n",
    "    $ sudo pip install virtualenv\n",
    "\n",
    "####Install virtualenvwrapper\n",
    "Virtualenvwrapper is a set of extensions to virtualenv tool for creating and deleting virtual environments.\n",
    "\n",
    "    $ sudo pip install virtualenvwrapper\n",
    "\n",
    "Go to the home folder:\n",
    "\n",
    "    $ cd ~\n",
    "\n",
    "Create the folder `.bash`:\n",
    "\n",
    "    $ mkdir .bash\n",
    "\n",
    "Create the file `virtualenv.sh` in the folder `.bash`:\n",
    "\n",
    "    $ nano .bash/virtualenv.sh\n",
    "\n",
    "Add the next lines to the file:\n",
    "```\n",
    "export WORKON_HOME=~/.virtualenvs\n",
    "source /usr/local/bin/virtualenvwrapper.sh\n",
    "```\n",
    "\n",
    "Save and close the file.\n",
    "\n",
    "Open the file `.bashrc`:\n",
    "\n",
    "    $ nano .bashrc\n",
    "\n",
    "Add the next lines at the end of the file:\n",
    "```\n",
    "# My sources:\n",
    "source ~/.bash/virtualenv.sh\n",
    "```\n",
    "\n",
    "Reload the file `.bashrc`:\n",
    "\n",
    "    $ . .bashrc\n",
    "\n",
    "####Create a virtual environment for the course\n",
    "mkvirtualenv is a command used to create virtual environments.\n",
    "\n",
    "    $ mkvirtualenv <virtualenv name>\n",
    "\n",
    "If necessary, execute:\n",
    "\n",
    "    $ workon <virtualenv name>\n",
    "\n",
    "####Install the package freetype\n",
    "\n",
    "    $ sudo apt-get install libfreetype6-dev\n",
    "\n",
    "####Upgrade pip\n",
    "\n",
    "    $ pip install --upgrade pip\n",
    "\n",
    "####Install requirements\n",
    "\n",
    "    $ pip install -r --upgrade requirements.txt\n",
    "\n",
    "The requirements include:\n",
    "- IPython: interactive console for Python\n",
    "- IPython notebook: powerful interactive shell for Python\n",
    "- ipdb: library used to access the IPython debugger\n",
    "\n",
    "####Create a folder for the course\n",
    "```\n",
    "$ cd <path to the folder>\n",
    "$ mkdir <folder name>\n",
    "$ cd knowledge\n",
    "```"
   ]
  },
  {
   "cell_type": "markdown",
   "metadata": {},
   "source": [
    "###IPython notebook\n",
    "\n",
    "####Start IPython notebook\n",
    "Go to the folder created for the course:\n",
    "\n",
    "    $ cd ~/<folder name>\n",
    "\n",
    "Activate the virtual environment created for the course:\n",
    "\n",
    "    $ workon <virtualenv name>\n",
    "\n",
    "Start IPython notebook:\n",
    "\n",
    "    $ ipython notebook\n",
    "\n",
    "Your browser should open a new tab or window and go to the url localhost:8888 automatically. If not, do it manually.\n",
    "\n",
    "The first time, the list of notebooks is empty. Click on New and select Python 2\n",
    "\n",
    "<br/>\n",
    "<div align=\"center\">\n",
    "    <figure>\n",
    "        <img src=\"img/ipython-notebook-list.png\">\n",
    "        <figcaption>IPython: notebook list</figcaption>\n",
    "    </figure>\n",
    "</div>\n",
    "\n",
    "The new notebook contains an empty cell. These cells are used as shells to write Python code and comments mostly. Rename the Untitled notebook. Everything is ready to start now.\n",
    "\n",
    "<br/>\n",
    "<div align=\"center\">\n",
    "    <figure>\n",
    "        <img src=\"img/ipython-notebook-first.png\">\n",
    "        <figcaption>IPython: first notebook</figcaption>\n",
    "    </figure>\n",
    "</div>"
   ]
  },
  {
   "cell_type": "markdown",
   "metadata": {},
   "source": [
    "###*Hello world!*, the first program in Python"
   ]
  },
  {
   "cell_type": "code",
   "execution_count": 1,
   "metadata": {
    "collapsed": false
   },
   "outputs": [
    {
     "name": "stdout",
     "output_type": "stream",
     "text": [
      "Hello world!\n"
     ]
    }
   ],
   "source": [
    "print 'Hello world!'"
   ]
  },
  {
   "cell_type": "markdown",
   "metadata": {},
   "source": [
    "####Notes on debugging\n",
    "\n",
    "A program can contain errors. Debugging is the process of finding and fixing them. There are three kind of errors:\n",
    "- **Syntax errors**. A program does not follow the syntax rules of Python; for example, a missing *:* after an *if* statement.\n",
    "- **Runtime** or **logic errors**. A program is syntactically correct but it perfom an illegal operation while running; for example, a division by 0.\n",
    "- **Semantic errors**. A program is syntactically and logically correct but it does not do what it is intended to do; for example, printing the number of elements in a list instead of printing the elements themselves in the list."
   ]
  },
  {
   "cell_type": "markdown",
   "metadata": {},
   "source": [
    "###Variables, expressions, and statements\n",
    "\n",
    "####Notes on debugging\n",
    "Common errors:\n",
    "- Syntax:\n",
    "    - illegal variable name\n",
    "- Logic:\n",
    "    - use before definition\n",
    "- Semantic:\n",
    "    - order of operators\n",
    "\n",
    "####Values\n",
    "- Basic unit of data\n",
    "- Examples: 7, 3.1416, 'Hello world!'\n",
    "- A value belong to a type\n",
    "\n",
    "####Types\n",
    "- Category of values\n",
    "- Examples: int, float, str, bool"
   ]
  },
  {
   "cell_type": "markdown",
   "metadata": {},
   "source": [
    "####Exercise 1\n",
    "The *instruction* `type` tells the type of a value. Check the types of these values: `7` , `3.1416` , `'Hello world!'`, `True`."
   ]
  },
  {
   "cell_type": "code",
   "execution_count": 2,
   "metadata": {
    "collapsed": false
   },
   "outputs": [
    {
     "data": {
      "text/plain": [
       "int"
      ]
     },
     "execution_count": 2,
     "metadata": {},
     "output_type": "execute_result"
    }
   ],
   "source": [
    "type(7)"
   ]
  },
  {
   "cell_type": "code",
   "execution_count": 3,
   "metadata": {
    "collapsed": false
   },
   "outputs": [
    {
     "data": {
      "text/plain": [
       "float"
      ]
     },
     "execution_count": 3,
     "metadata": {},
     "output_type": "execute_result"
    }
   ],
   "source": [
    "type(3.1416)"
   ]
  },
  {
   "cell_type": "code",
   "execution_count": 4,
   "metadata": {
    "collapsed": false
   },
   "outputs": [
    {
     "data": {
      "text/plain": [
       "str"
      ]
     },
     "execution_count": 4,
     "metadata": {},
     "output_type": "execute_result"
    }
   ],
   "source": [
    "type('Hello world!')"
   ]
  },
  {
   "cell_type": "code",
   "execution_count": 5,
   "metadata": {
    "collapsed": false
   },
   "outputs": [
    {
     "data": {
      "text/plain": [
       "bool"
      ]
     },
     "execution_count": 5,
     "metadata": {},
     "output_type": "execute_result"
    }
   ],
   "source": [
    "type(True)"
   ]
  },
  {
   "cell_type": "markdown",
   "metadata": {
    "collapsed": true
   },
   "source": [
    "####Variables\n",
    "- Name that refers to a value\n",
    "- Its type is the type of its value\n",
    "\n",
    "#####Variables and the *assignment* statement\n",
    "- Syntax: `variable_name = value`\n",
    "- Creates a variable and assigns a value to its name\n",
    "\n",
    "#####Variables and memory\n",
    "- Provides an abstraction for a memory address\n",
    "- For example: `n = 27`\n",
    "\n",
    "<br/>\n",
    "<div align=\"center\">\n",
    "    <figure>\n",
    "        <img src=\"img/memory.png\" width=\"400\">\n",
    "        <figcaption>Variables and memory</figcaption>\n",
    "    </figure>\n",
    "</div>"
   ]
  },
  {
   "cell_type": "markdown",
   "metadata": {
    "collapsed": true
   },
   "source": [
    "####Exercise 2\n",
    "Create four variables, choose appropiate names for them and assign them the values `7`, `3.1416`, `'Hello world!'`, and `True`, respectively. Check their values and types."
   ]
  },
  {
   "cell_type": "code",
   "execution_count": 6,
   "metadata": {
    "collapsed": true
   },
   "outputs": [],
   "source": [
    "number = 7"
   ]
  },
  {
   "cell_type": "code",
   "execution_count": 7,
   "metadata": {
    "collapsed": true
   },
   "outputs": [],
   "source": [
    "pi = 3.1416"
   ]
  },
  {
   "cell_type": "code",
   "execution_count": 8,
   "metadata": {
    "collapsed": true
   },
   "outputs": [],
   "source": [
    "message = 'Hello world!'"
   ]
  },
  {
   "cell_type": "code",
   "execution_count": 9,
   "metadata": {
    "collapsed": true
   },
   "outputs": [],
   "source": [
    "boolean = True"
   ]
  },
  {
   "cell_type": "code",
   "execution_count": 10,
   "metadata": {
    "collapsed": false
   },
   "outputs": [
    {
     "data": {
      "text/plain": [
       "7"
      ]
     },
     "execution_count": 10,
     "metadata": {},
     "output_type": "execute_result"
    }
   ],
   "source": [
    "number"
   ]
  },
  {
   "cell_type": "code",
   "execution_count": 11,
   "metadata": {
    "collapsed": false
   },
   "outputs": [
    {
     "data": {
      "text/plain": [
       "3.1416"
      ]
     },
     "execution_count": 11,
     "metadata": {},
     "output_type": "execute_result"
    }
   ],
   "source": [
    "pi"
   ]
  },
  {
   "cell_type": "code",
   "execution_count": 12,
   "metadata": {
    "collapsed": false
   },
   "outputs": [
    {
     "data": {
      "text/plain": [
       "'Hello world!'"
      ]
     },
     "execution_count": 12,
     "metadata": {},
     "output_type": "execute_result"
    }
   ],
   "source": [
    "message"
   ]
  },
  {
   "cell_type": "code",
   "execution_count": 13,
   "metadata": {
    "collapsed": false
   },
   "outputs": [
    {
     "data": {
      "text/plain": [
       "True"
      ]
     },
     "execution_count": 13,
     "metadata": {},
     "output_type": "execute_result"
    }
   ],
   "source": [
    "boolean"
   ]
  },
  {
   "cell_type": "code",
   "execution_count": 14,
   "metadata": {
    "collapsed": false
   },
   "outputs": [
    {
     "data": {
      "text/plain": [
       "int"
      ]
     },
     "execution_count": 14,
     "metadata": {},
     "output_type": "execute_result"
    }
   ],
   "source": [
    "type(number)"
   ]
  },
  {
   "cell_type": "code",
   "execution_count": 15,
   "metadata": {
    "collapsed": false
   },
   "outputs": [
    {
     "data": {
      "text/plain": [
       "float"
      ]
     },
     "execution_count": 15,
     "metadata": {},
     "output_type": "execute_result"
    }
   ],
   "source": [
    "type(pi)"
   ]
  },
  {
   "cell_type": "code",
   "execution_count": 16,
   "metadata": {
    "collapsed": false
   },
   "outputs": [
    {
     "data": {
      "text/plain": [
       "str"
      ]
     },
     "execution_count": 16,
     "metadata": {},
     "output_type": "execute_result"
    }
   ],
   "source": [
    "type(message)"
   ]
  },
  {
   "cell_type": "code",
   "execution_count": 17,
   "metadata": {
    "collapsed": false
   },
   "outputs": [
    {
     "data": {
      "text/plain": [
       "bool"
      ]
     },
     "execution_count": 17,
     "metadata": {},
     "output_type": "execute_result"
    }
   ],
   "source": [
    "type(boolean)"
   ]
  },
  {
   "cell_type": "markdown",
   "metadata": {
    "collapsed": true
   },
   "source": [
    "####Operators\n",
    "- Special symbol that represents computational operations\n",
    "- Examples: `+`, `-`, `*`, `/`, `**`, `=`\n",
    "\n",
    "####Operands\n",
    "- Values that the operator is applied to\n",
    "- Examples: `7+1`, `double_pi = 2*pi`"
   ]
  },
  {
   "cell_type": "markdown",
   "metadata": {},
   "source": [
    "####Exercise 3\n",
    "Given a circle with a radius of 4,\n",
    "- assign the values of the radius and pi to variables,\n",
    "- calculate the length of the circumference, and\n",
    "- calculate the area of the circle."
   ]
  },
  {
   "cell_type": "code",
   "execution_count": 18,
   "metadata": {
    "collapsed": true
   },
   "outputs": [],
   "source": [
    "radius = 4\n",
    "pi = 3.1416"
   ]
  },
  {
   "cell_type": "code",
   "execution_count": 19,
   "metadata": {
    "collapsed": false
   },
   "outputs": [
    {
     "data": {
      "text/plain": [
       "25.1328"
      ]
     },
     "execution_count": 19,
     "metadata": {},
     "output_type": "execute_result"
    }
   ],
   "source": [
    "2*pi*radius"
   ]
  },
  {
   "cell_type": "code",
   "execution_count": 20,
   "metadata": {
    "collapsed": false
   },
   "outputs": [
    {
     "data": {
      "text/plain": [
       "50.2656"
      ]
     },
     "execution_count": 20,
     "metadata": {},
     "output_type": "execute_result"
    }
   ],
   "source": [
    "pi*radius**2"
   ]
  },
  {
   "cell_type": "markdown",
   "metadata": {},
   "source": [
    "####Exercise 4\n",
    "- Assign the values `'Hello'` and `'world!'` to variables.\n",
    "- Concatenate them to get the string `'Hello world!'`.\n",
    "- Repeat the message 3 times to get `'Hello world!Hello world!Hello world!'`."
   ]
  },
  {
   "cell_type": "code",
   "execution_count": 21,
   "metadata": {
    "collapsed": true
   },
   "outputs": [],
   "source": [
    "hello = 'Hello'\n",
    "world = 'world!'"
   ]
  },
  {
   "cell_type": "code",
   "execution_count": 22,
   "metadata": {
    "collapsed": false
   },
   "outputs": [
    {
     "data": {
      "text/plain": [
       "'Hello world!'"
      ]
     },
     "execution_count": 22,
     "metadata": {},
     "output_type": "execute_result"
    }
   ],
   "source": [
    "hello + ' ' + world"
   ]
  },
  {
   "cell_type": "code",
   "execution_count": 23,
   "metadata": {
    "collapsed": false
   },
   "outputs": [
    {
     "data": {
      "text/plain": [
       "'Hello world!Hello world!Hello world!'"
      ]
     },
     "execution_count": 23,
     "metadata": {},
     "output_type": "execute_result"
    }
   ],
   "source": [
    "(hello + ' ' + world) * 3"
   ]
  },
  {
   "cell_type": "markdown",
   "metadata": {},
   "source": [
    "####Expressions\n",
    "- Combination of values, variables and operators\n",
    "- Examples: `7`, `x`, `x+7`\n",
    "\n",
    "####Statements\n",
    "- A unit of code that the Python interpreter can execute\n",
    "- Combination of expressions and Python keywords\n",
    "- Examples: `double_pi = 2*pi`, `print pi`\n",
    "\n",
    "#####Keywords\n",
    "<table align=\"left\">\n",
    "    <caption>Keywords in Python</caption>\n",
    "    <tr><td>and</td><td>elif</td><td>if</td><td>pass</td></tr>\n",
    "    <tr><td>as</td><td>else</td><td>import</td><td>print</td></tr>\n",
    "    <tr><td>assert</td><td>except</td><td>in</td><td>raise</td></tr>\n",
    "    <tr><td>break</td><td>exec<sup>1</sup></td><td>is</td><td>return</td></tr>\n",
    "    <tr><td>class</td><td>finally</td><td>lambda</td><td>try</tr>\n",
    "    <tr><td>continue</td><td>for</td><td>nonlocal<sup>2</sup></td><td>while</td></tr>\n",
    "    <tr><td>def</td><td>from</td><td>not</td><td>with</td></tr>\n",
    "    <tr><td>del</td><td>global</td><td>or</td><td>yield</td></tr>\n",
    "</table>\n",
    "<br/><br/><br/><br/><br/><br/><br/><br/><br/><br/><br/><br/><br/><br/>\n",
    "\n",
    "1. Only in Python 2\n",
    "2. Also in Python 3\n",
    "\n",
    "#####Expressions vs statements\n",
    "- Expressions have values\n",
    "- Statements do not\n",
    "\n",
    "####Scripts\n",
    "- Sequence of statements"
   ]
  },
  {
   "cell_type": "markdown",
   "metadata": {},
   "source": [
    "####Exercise 5\n",
    "- Write the exercise 3 on a script file called [circle.py](exercises/circle.py) and display the results on screen.\n",
    "- Write the exercise 4 on a script file called [message.py](exercises/message.py) and display the results on screen."
   ]
  },
  {
   "cell_type": "code",
   "execution_count": 24,
   "metadata": {
    "collapsed": false
   },
   "outputs": [
    {
     "name": "stdout",
     "output_type": "stream",
     "text": [
      "25.1328\n",
      "50.2656\n"
     ]
    }
   ],
   "source": [
    "%run exercises/ex04-05_circle.py"
   ]
  },
  {
   "cell_type": "code",
   "execution_count": 25,
   "metadata": {
    "collapsed": false
   },
   "outputs": [
    {
     "name": "stdout",
     "output_type": "stream",
     "text": [
      "Hello world!\n",
      "Hello world!Hello world!Hello world!\n"
     ]
    }
   ],
   "source": [
    "%run exercises/ex04-05_message.py"
   ]
  }
 ],
 "metadata": {
  "kernelspec": {
   "display_name": "Python 2",
   "language": "python",
   "name": "python2"
  },
  "language_info": {
   "codemirror_mode": {
    "name": "ipython",
    "version": 2
   },
   "file_extension": ".py",
   "mimetype": "text/x-python",
   "name": "python",
   "nbconvert_exporter": "python",
   "pygments_lexer": "ipython2",
   "version": "2.7.6"
  }
 },
 "nbformat": 4,
 "nbformat_minor": 0
}
