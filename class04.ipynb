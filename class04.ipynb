{
 "cells": [
  {
   "cell_type": "markdown",
   "metadata": {},
   "source": [
    "<div align=\"center\">\n",
    "    <h1><a href=\"index.ipynb\">Knowledge Discovery in Digital Humanities</a></h1>\n",
    "</div>"
   ]
  },
  {
   "cell_type": "markdown",
   "metadata": {},
   "source": [
    "<div align=\"center\">\n",
    "    <h2>Class 04. Python I: Preliminary</h2>\n",
    "    <img src=\"img/python.png\" width=\"300\">\n",
    "</div>"
   ]
  },
  {
   "cell_type": "markdown",
   "metadata": {},
   "source": [
    "###Table of contents\n",
    "\n",
    "- [Setup](#Setup)\n",
    "- Python syntax\n",
    "- Python, IPython, and IPython Notebook\n",
    "- Variables, expressions, and statements"
   ]
  },
  {
   "cell_type": "markdown",
   "metadata": {},
   "source": [
    "###Setup\n",
    "\n",
    "####Python\n",
    "Python is the programming language for this course. It is installed by default on Linux.\n",
    "\n",
    "####Install pip\n",
    "APT is a package manager for Linux. PIP is a package manager used to handle packages written in Python.\n",
    "\n",
    "    $ sudo apt-get install python-pip\n",
    "\n",
    "####Install virtualenv\n",
    "Virtualenv is a tool to create isolated Python environments.\n",
    "\n",
    "    $ sudo pip install virtualenv\n",
    "\n",
    "####Install virtualenvwrapper\n",
    "Virtualenvwrapper is a set of extensions to virtualenv tool for creating and deleting virtual environments.\n",
    "\n",
    "    $ sudo pip install virtualenvwrapper\n",
    "\n",
    "Go to the home folder:\n",
    "\n",
    "    $ cd ~\n",
    "\n",
    "Create the folder `.bash`:\n",
    "\n",
    "    $ mkdir .bash\n",
    "\n",
    "Create the file `virtualenv.sh` in the folder `.bash`:\n",
    "\n",
    "    $ nano .bash/virtualenv.sh\n",
    "\n",
    "Add the next lines to the file:\n",
    "```\n",
    "export WORKON_HOME=~/.virtualenvs\n",
    "source /usr/local/bin/virtualenvwrapper.sh\n",
    "```\n",
    "\n",
    "Save and close the file.\n",
    "\n",
    "Open the file `.bashrc`:\n",
    "\n",
    "    $ nano .bashrc\n",
    "\n",
    "Add the next lines at the end of the file:\n",
    "```\n",
    "# My sources:\n",
    "source ~/.bash/virtualenv.sh\n",
    "```\n",
    "\n",
    "Reload the file `.bashrc`:\n",
    "\n",
    "    $ . .bashrc\n",
    "\n",
    "####Create a virtual environment\n",
    "`mkvirtualenv` is a command used to create virtual environments. For example, `knowledge`:\n",
    "\n",
    "    $ mkvirtualenv knowledge\n",
    "\n",
    "####Update pip\n",
    "\n",
    "    $ pip install --upgrade pip\n",
    "\n",
    "####Install IPython\n",
    "IPython is the interactive console for Python.\n",
    "\n",
    "    $ pip install ipython\n",
    "\n",
    "####Install IPython notebook\n",
    "IPython notebook is a powerful interactive shell for Python.\n",
    "\n",
    "    $ pip install ipython[notebook]\n",
    "\n",
    "####Install ipdb\n",
    "`ipdb` is a library used to access the IPython debugger.\n",
    "\n",
    "    $ pip install ipdb\n",
    "\n",
    "####Create a folder for the course\n",
    "For example:\n",
    "```\n",
    "$ cd ~\n",
    "$ mkdir knowledge\n",
    "$ cd knowledge\n",
    "```"
   ]
  },
  {
   "cell_type": "markdown",
   "metadata": {},
   "source": [
    "###Content samples\n",
    "\n",
    "####Knowledge\n",
    "> Knowledge is *\"justified true belief\"*. **(Plato, *Theaetetus*, 201c-d)**\n",
    "\n",
    "> Trust is a firm belief in the reliability, truth, ability, or strength of someone or something. ***(Oxford Dictionaries)***\n",
    "\n",
    "Sources of knowledge in epistemology:\n",
    "- **Perception**. Knowledge is acquired through the experience of the senses. This is the base of empiricism.\n",
    "- **Reason**. Knowledge, at least in part, is derived from previous knowledge through pure reasoning. This is the base of rationalism.\n",
    "- **Introspection**. Knowledge of one's self can be found through internal self-evalution.\n",
    "- **Memory**. Knowledge arises by remembering past information or events.\n",
    "- **Testimony**. Knowledge is directly obtained from others' knowledge.\n",
    "\n",
    "Principle of testimony:\n",
    "> If *B* knows *q*, *B* shares *q* with *C*, and *C* trusts *B*, then *C* knows *q* too.\n",
    "\n",
    "####Online communities\n",
    "bla\n",
    "\n",
    "####Programming in Python\n",
    "bla\n",
    "\n",
    "####Text processing\n",
    "Rellenar todo esto al final, con trozos seleccionados de mis clases."
   ]
  },
  {
   "cell_type": "markdown",
   "metadata": {},
   "source": [
    "###Syllabus\n",
    "\n",
    "[Go to the syllabus of the course](syllabus.ipynb)."
   ]
  }
 ],
 "metadata": {
  "kernelspec": {
   "display_name": "Python 2",
   "language": "python",
   "name": "python2"
  },
  "language_info": {
   "codemirror_mode": {
    "name": "ipython",
    "version": 2
   },
   "file_extension": ".py",
   "mimetype": "text/x-python",
   "name": "python",
   "nbconvert_exporter": "python",
   "pygments_lexer": "ipython2",
   "version": "2.7.6"
  }
 },
 "nbformat": 4,
 "nbformat_minor": 0
}
