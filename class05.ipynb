{
 "cells": [
  {
   "cell_type": "markdown",
   "metadata": {},
   "source": [
    "<div align=\"center\">\n",
    "    <h1><a href=\"index.ipynb\">Knowledge Discovery in Digital Humanities</a></h1>\n",
    "</div>"
   ]
  },
  {
   "cell_type": "markdown",
   "metadata": {},
   "source": [
    "<div align=\"center\">\n",
    "    <h2>Class 05. Python II: Flow control</h2>\n",
    "    <img src=\"img/python.png\" width=\"300\">\n",
    "</div>"
   ]
  },
  {
   "cell_type": "markdown",
   "metadata": {},
   "source": [
    "###Table of contents\n",
    "\n",
    "- [Conditionals and iterations](#Conditionals-and-iterations)\n",
    "- [Functions](#Functions)\n",
    "- [Debugging code](#Debugging-code)"
   ]
  },
  {
   "cell_type": "markdown",
   "metadata": {},
   "source": [
    "###Conditionals and iterations\n",
    "\n",
    "####Notes on debugging\n",
    "Common errors:\n",
    "- Syntax:\n",
    "    - colon at the end of `if`, `while` and `for`\n",
    "    - indentation inside `if`, `while` and `for`\n",
    "- Logic: infinite loop, due to\n",
    "    - condition never changes\n",
    "    - variable that controls the loop does not increment its value\n",
    "    - (press CTRL+C to break the loop)\n",
    "- Semantic:\n",
    "    - loop range\n",
    "    - operator `=` instead of `==` inside a conditional\n",
    "\n",
    "####Boolean expressions\n",
    "- An expression that is either true or false\n",
    "- Type: `bool`\n",
    "- Values: `True`, `False`\n",
    "- Examples: `4 == 4`, `True or False`, `2 > 6`\n",
    "\n",
    "####Relational operators\n",
    "- Compare two values and return a boolean value\n",
    "- Operators: `==`, `!=`, `<`, `>`, `<=`, `>=`\n",
    "- Examples: `3+1 == 6`, `3+1 != 6`, `3+1 < 6`, `3+1 > 6`, `3+1 <= 6`, `3+1 >= 6`\n",
    "\n",
    "####Logical operators\n",
    "- Combine boolean values and return a new boolean value\n",
    "- Operators: `and`, `or`, `not`\n",
    "\n",
    "<table align=\"left\">\n",
    "    <caption>Boolean operators</caption>\n",
    "    <thead>\n",
    "        <th>x</th><th>y</th><th>x and y</th><th>x or y</th><th>not x</th>\n",
    "    </thead>\n",
    "    <tbody>\n",
    "        <tr><td>False</td><td>False</td><td>False</td><td>False</td><td>True</td></tr>\n",
    "        <tr><td>False</td><td>True</td><td>False</td><td>True</td><td>True</td></tr>\n",
    "        <tr><td>True</td><td>False</td><td>False</td><td>True</td><td>False</td></tr>\n",
    "        <tr><td>True</td><td>True</td><td>True</td><td>True</td><td>False</td></tr>\n",
    "    </tbody>\n",
    "</table>"
   ]
  },
  {
   "cell_type": "markdown",
   "metadata": {},
   "source": [
    "####Exercise 1\n",
    "Check the results of the next operations: `3+1 == 6`, `3+1 != 6`, `3+1 < 6`, `3+1 > 6`, `3+1 <= 6`, and `3+1 >= 6`"
   ]
  },
  {
   "cell_type": "code",
   "execution_count": 1,
   "metadata": {
    "collapsed": false
   },
   "outputs": [
    {
     "data": {
      "text/plain": [
       "False"
      ]
     },
     "execution_count": 1,
     "metadata": {},
     "output_type": "execute_result"
    }
   ],
   "source": [
    "3+1 == 6"
   ]
  },
  {
   "cell_type": "code",
   "execution_count": 2,
   "metadata": {
    "collapsed": false
   },
   "outputs": [
    {
     "data": {
      "text/plain": [
       "True"
      ]
     },
     "execution_count": 2,
     "metadata": {},
     "output_type": "execute_result"
    }
   ],
   "source": [
    "3+1 != 6"
   ]
  },
  {
   "cell_type": "code",
   "execution_count": 3,
   "metadata": {
    "collapsed": false
   },
   "outputs": [
    {
     "data": {
      "text/plain": [
       "True"
      ]
     },
     "execution_count": 3,
     "metadata": {},
     "output_type": "execute_result"
    }
   ],
   "source": [
    "3+1 < 6"
   ]
  },
  {
   "cell_type": "code",
   "execution_count": 4,
   "metadata": {
    "collapsed": false
   },
   "outputs": [
    {
     "data": {
      "text/plain": [
       "False"
      ]
     },
     "execution_count": 4,
     "metadata": {},
     "output_type": "execute_result"
    }
   ],
   "source": [
    "3+1 > 6"
   ]
  },
  {
   "cell_type": "code",
   "execution_count": 5,
   "metadata": {
    "collapsed": false
   },
   "outputs": [
    {
     "data": {
      "text/plain": [
       "True"
      ]
     },
     "execution_count": 5,
     "metadata": {},
     "output_type": "execute_result"
    }
   ],
   "source": [
    "3+1 <= 6"
   ]
  },
  {
   "cell_type": "code",
   "execution_count": 6,
   "metadata": {
    "collapsed": false
   },
   "outputs": [
    {
     "data": {
      "text/plain": [
       "False"
      ]
     },
     "execution_count": 6,
     "metadata": {},
     "output_type": "execute_result"
    }
   ],
   "source": [
    "3+1 >= 6"
   ]
  },
  {
   "cell_type": "markdown",
   "metadata": {},
   "source": [
    "####Control flow\n",
    "In Python, a script is executed from the first instruction to the last, sequencially.\n",
    "\n",
    "####Conditional execution\n",
    "Conditional statements change the behaviour of a program in terms of flow execution.\n",
    "\n",
    "####The `if`-`elif`-`else` statement\n",
    "- Executes one option if its condition is true\n",
    "- Syntax:\n",
    "````\n",
    "if condition_1:\n",
    "    branch_1\n",
    "elif condition_2:\n",
    "    branch_2\n",
    "...\n",
    "else:\n",
    "    branch_else\n",
    "```\n",
    "\n",
    "- Behaviour:\n",
    "    1. The `if` statement checks the value of the first condition.\n",
    "    2. If the condition is true, the first branch is executed and the conditional statement ends.\n",
    "    3. If not, the first branch is skipped and the statement `elif` checks the value of second condition.\n",
    "    4. All the conditions are checked until one of them is true and its branch is executed.\n",
    "    5. If all them are false, the `else` statements executes the last branch (if present).\n",
    "\n",
    "    *(A condition is a boolean expression. A branch is a set of statement that is executed if certain condition is true.)*"
   ]
  },
  {
   "cell_type": "markdown",
   "metadata": {},
   "source": [
    "####Exercise 2\n",
    "Check the result of the next script:\n",
    "```\n",
    "x = 4; y = 5; z = 6\n",
    "print 1\n",
    "if x == 7:\n",
    "    print 2\n",
    "else:\n",
    "    print 3\n",
    "    if x == y or x == z:\n",
    "        print 4\n",
    "    elif x < y and y < z:\n",
    "        print 5\n",
    "    else:\n",
    "        print 6\n",
    "print 7\n",
    "```"
   ]
  },
  {
   "cell_type": "code",
   "execution_count": 7,
   "metadata": {
    "collapsed": false
   },
   "outputs": [
    {
     "name": "stdout",
     "output_type": "stream",
     "text": [
      "1\n",
      "3\n",
      "5\n",
      "7\n"
     ]
    }
   ],
   "source": [
    "x = 4; y = 5; z = 6\n",
    "print 1\n",
    "if x == 7:\n",
    "    print 2\n",
    "else:\n",
    "    print 3\n",
    "    if x == y or x == z:\n",
    "        print 4\n",
    "    elif x < y and y < z:\n",
    "        print 5\n",
    "    else:\n",
    "        print 6\n",
    "print 7"
   ]
  },
  {
   "cell_type": "markdown",
   "metadata": {},
   "source": [
    "####The `while` statement\n",
    "\n",
    "<div align=\"center\">\n",
    "    <figure>\n",
    "        <img src=\"img/while.png\" width=\"300\">\n",
    "        <figcaption>The while statement flowchart</figcaption>\n",
    "    </figure>\n",
    "</div>\n",
    "\n",
    "- Repeats similar tasks with small variation in a loop while the condition is true\n",
    "- Syntax:\n",
    "```\n",
    "while condition:\n",
    "    statements\n",
    "```\n",
    "\n",
    "- Behaviour:\n",
    "    1. The `while` statement checks the value of the condition.\n",
    "    2. If the condition is true, the statements are executed and the condition is checked again.\n",
    "    3. While the condition is true, the statements are executed.\n",
    "    4. If the condition is false, the loop statement ends."
   ]
  },
  {
   "cell_type": "markdown",
   "metadata": {},
   "source": [
    "####Exercise 3\n",
    "This script prints the list of numbers from 0 to 9:\n",
    "```\n",
    "print 0\n",
    "print 1\n",
    "print 2\n",
    "print 3\n",
    "print 4\n",
    "print 5\n",
    "print 6\n",
    "print 7\n",
    "print 8\n",
    "print 9\n",
    "```\n",
    "Write an equivalent program by using the `while` statement."
   ]
  },
  {
   "cell_type": "code",
   "execution_count": 8,
   "metadata": {
    "collapsed": false
   },
   "outputs": [
    {
     "name": "stdout",
     "output_type": "stream",
     "text": [
      "0\n",
      "1\n",
      "2\n",
      "3\n",
      "4\n",
      "5\n",
      "6\n",
      "7\n",
      "8\n",
      "9\n"
     ]
    }
   ],
   "source": [
    "print 0\n",
    "print 1\n",
    "print 2\n",
    "print 3\n",
    "print 4\n",
    "print 5\n",
    "print 6\n",
    "print 7\n",
    "print 8\n",
    "print 9"
   ]
  },
  {
   "cell_type": "code",
   "execution_count": 9,
   "metadata": {
    "collapsed": false
   },
   "outputs": [
    {
     "name": "stdout",
     "output_type": "stream",
     "text": [
      "0\n",
      "1\n",
      "2\n",
      "3\n",
      "4\n",
      "5\n",
      "6\n",
      "7\n",
      "8\n",
      "9\n"
     ]
    }
   ],
   "source": [
    "i = 0\n",
    "while i <= 9:\n",
    "    print i\n",
    "    i = i + 1"
   ]
  },
  {
   "cell_type": "markdown",
   "metadata": {},
   "source": [
    "####The `for` statement\n",
    "\n",
    "- Processes a sequence element by element (for example, strings, lists, dictionaries, files)\n",
    "- Syntax:\n",
    "```\n",
    "while element in sequence:\n",
    "    statements\n",
    "```\n",
    "\n",
    "- Behaviour:\n",
    "    1. The `for` statement iterate the sequence, element by element.\n",
    "    2. For every element, it executes the statements.\n",
    "    3. After processing the last element, the loop statement ends."
   ]
  },
  {
   "cell_type": "markdown",
   "metadata": {},
   "source": [
    "####Exercise 4\n",
    "`range(n)` creates a list of numbers from `0` to `n-1`. Rewrite an equivalent program that prints the list of numbers from 0 to 9 by using the `for` statement."
   ]
  },
  {
   "cell_type": "code",
   "execution_count": 10,
   "metadata": {
    "collapsed": false
   },
   "outputs": [
    {
     "name": "stdout",
     "output_type": "stream",
     "text": [
      "0\n",
      "1\n",
      "2\n",
      "3\n",
      "4\n",
      "5\n",
      "6\n",
      "7\n",
      "8\n",
      "9\n"
     ]
    }
   ],
   "source": [
    "for i in range(10):\n",
    "    print i"
   ]
  },
  {
   "cell_type": "markdown",
   "metadata": {},
   "source": [
    "####The `break` statement\n",
    "- Jumps out of the loops\n",
    "- Syntax: `break`\n",
    "- Behaviour: When the `break` statement is executed, the execution of the loop is finalized immediately."
   ]
  },
  {
   "cell_type": "markdown",
   "metadata": {},
   "source": [
    "####Exercise 5\n",
    "Given a string, print all its characters until the first `'a'` is found."
   ]
  },
  {
   "cell_type": "code",
   "execution_count": 11,
   "metadata": {
    "collapsed": false
   },
   "outputs": [
    {
     "name": "stdout",
     "output_type": "stream",
     "text": [
      "b\n",
      "a\n"
     ]
    }
   ],
   "source": [
    "fruit = 'banana'\n",
    "for char in fruit:\n",
    "    print char\n",
    "    if char == 'a':\n",
    "        break"
   ]
  },
  {
   "cell_type": "markdown",
   "metadata": {},
   "source": [
    "###Functions\n",
    "\n",
    "####Notes on debugging\n",
    "Common errors:\n",
    "- Syntax:\n",
    "    - not closing parentheses, `()`\n",
    "    - colon at the end of the `def` statement\n",
    "    - indentation inside definition\n",
    "- Logic:\n",
    "    - infinite recursion\n",
    "- Semantic:\n",
    "    - not returning a value\n",
    "\n",
    "####Definition\n",
    "- A function is a named sequence of statements that performs a task.\n",
    "- To use a function:\n",
    "    1. Define it\n",
    "    2. Call it\n",
    "- Syntax:\n",
    "    - Definition:\n",
    "```\n",
    "def function_name(parameters):\n",
    "        statements\n",
    "```\n",
    "*(The sequence of statements inside a function is called the body of the function.)*\n",
    "    - Call:\n",
    "```\n",
    "function_name(arguments)\n",
    "```\n",
    "\n",
    "####Arguments vs parameters\n",
    "- The arguments are values passed to the function call\n",
    "- The arguments are assigned to the parameters\n",
    "\n",
    "Example:\n",
    "- Definition:\n",
    "```\n",
    "def mean(x, y):\n",
    "    print (x + y) / 2\n",
    "```\n",
    "\n",
    "- Call:\n",
    "\n",
    "```\n",
    "    mean(2, 4)\n",
    "\n",
    "```\n",
    "1. The parameter `x` takes the value of the first argument, `2`.\n",
    "2. The parameter `y` takes the value of the second argument, `4`.\n",
    "3. The function calculates the value of `(2 + 4) / 2` and prints the result, `3`."
   ]
  },
  {
   "cell_type": "code",
   "execution_count": 12,
   "metadata": {
    "collapsed": false
   },
   "outputs": [
    {
     "name": "stdout",
     "output_type": "stream",
     "text": [
      "3\n"
     ]
    }
   ],
   "source": [
    "#Definition\n",
    "def mean(x, y):\n",
    "    print (x + y) / 2\n",
    "\n",
    "#Call\n",
    "mean(2, 4)"
   ]
  },
  {
   "cell_type": "markdown",
   "metadata": {},
   "source": [
    "####Scope\n",
    "- A block is a section of code, consisting of one or more statements grouped together\n",
    "- Examples: branches in if statements, code in loops for and while, body of functions...\n",
    "- Variables created in a block are local to that block and do not exist outside\n",
    "- Therefore, variables created in a function are local to the function and do not exist outside\n",
    "- Two ways to communicate with the exterior:\n",
    "    - arguments (input)\n",
    "    - return statement (output)\n",
    "\n",
    "<div align=\"center\">\n",
    "    <figure>\n",
    "        <img src=\"img/function.png\">\n",
    "        <figcaption>Representation of a function</figcaption>\n",
    "    </figure>\n",
    "</div>"
   ]
  },
  {
   "cell_type": "markdown",
   "metadata": {},
   "source": [
    "####Example:\n",
    "Two functions `mean`: print result version and return result version"
   ]
  },
  {
   "cell_type": "code",
   "execution_count": 13,
   "metadata": {
    "collapsed": false
   },
   "outputs": [],
   "source": [
    "def mean_print(x, y):\n",
    "    print (x + y) / 2\n",
    "\n",
    "def mean_return(x, y):\n",
    "    return (x + y) / 2"
   ]
  },
  {
   "cell_type": "code",
   "execution_count": 14,
   "metadata": {
    "collapsed": false
   },
   "outputs": [
    {
     "name": "stdout",
     "output_type": "stream",
     "text": [
      "3\n"
     ]
    }
   ],
   "source": [
    "m = mean_print(2, 4)"
   ]
  },
  {
   "cell_type": "code",
   "execution_count": 15,
   "metadata": {
    "collapsed": true
   },
   "outputs": [],
   "source": [
    "m"
   ]
  },
  {
   "cell_type": "code",
   "execution_count": 16,
   "metadata": {
    "collapsed": true
   },
   "outputs": [],
   "source": [
    "m = mean_return(2, 4)"
   ]
  },
  {
   "cell_type": "code",
   "execution_count": 17,
   "metadata": {
    "collapsed": false
   },
   "outputs": [
    {
     "data": {
      "text/plain": [
       "3"
      ]
     },
     "execution_count": 17,
     "metadata": {},
     "output_type": "execute_result"
    }
   ],
   "source": [
    "m"
   ]
  },
  {
   "cell_type": "markdown",
   "metadata": {},
   "source": [
    "####More about functions\n",
    "- There exist predefined functions ready to be used (*built-in* functions, included in the Python standard library); for example, `print` or `type`.\n",
    "- Programmers can define new functions.\n",
    "- A function can call another functions."
   ]
  },
  {
   "cell_type": "markdown",
   "metadata": {},
   "source": [
    "####Exercise 6\n",
    "Write a function that prints the list of prime numbers less than a given argument.\n",
    "- An integer number is prime if it is greater than 1 and has no divisors other than 1 and itself.\n",
    "- An integer y is a divisor of the integer x if the reminder (operator `%`) of the division x/y is equals to 0."
   ]
  },
  {
   "cell_type": "code",
   "execution_count": 18,
   "metadata": {
    "collapsed": true
   },
   "outputs": [],
   "source": [
    "def prime_list(n):\n",
    "    i = 1\n",
    "    while i <= n:\n",
    "        if is_prime(i):\n",
    "            print i\n",
    "        i = i + 1\n",
    "\n",
    "def is_prime(n):\n",
    "    result = True\n",
    "    i = 1\n",
    "    while i <= n:\n",
    "        if is_divisor(i, n) and i != 1 and i != n:\n",
    "            result = False\n",
    "            break\n",
    "        i = i + 1\n",
    "    return result\n",
    "\n",
    "def is_divisor(x, y):\n",
    "    return y % x == 0"
   ]
  },
  {
   "cell_type": "code",
   "execution_count": 19,
   "metadata": {
    "collapsed": false
   },
   "outputs": [
    {
     "name": "stdout",
     "output_type": "stream",
     "text": [
      "1\n",
      "2\n",
      "3\n",
      "5\n",
      "7\n",
      "11\n",
      "13\n",
      "17\n",
      "19\n"
     ]
    }
   ],
   "source": [
    "prime_list(20)"
   ]
  },
  {
   "cell_type": "markdown",
   "metadata": {},
   "source": [
    "####Why functions?\n",
    "- Functions are reusable so they make a program shorter by eliminating repetitive code.\n",
    "- Long programs divided into functions are easier to write, read, understand and debug."
   ]
  },
  {
   "cell_type": "markdown",
   "metadata": {},
   "source": [
    "###Debugging code\n",
    "\n",
    "- To debug code with `ipdb`, let's use the IPython console instead of IPython notebook\n",
    "- Main use:\n",
    "```\n",
    "# some code\n",
    "import ipdb; ipdb.set_trace()\n",
    "# more code\n",
    "```\n",
    "- Sets a breakpoint in the code\n",
    "- Main features:\n",
    "    - Consult variable values\n",
    "    - Tab completion\n",
    "- Useful to track semantic errors\n",
    "- Help:\n",
    "    - `?`: general help\n",
    "    - `? <command>`: help for a specific command\n",
    "    - `l`: context for this line of code\n",
    "    - `S`: step into function\n",
    "    - `n`: next line of code\n",
    "    - `c`: continue execution to next breakpoint"
   ]
  },
  {
   "cell_type": "markdown",
   "metadata": {},
   "source": [
    "####Exercise 7\n",
    "The next code is intended to calculate and print the mean of 1, 2, ..., 100 but prints no message:\n",
    "```\n",
    "n = 100\n",
    "i = 1\n",
    "total_sum = 0\n",
    "while i <= n:\n",
    "    total_sum += i\n",
    "mean = total_sum / n\n",
    "print mean\n",
    "```\n",
    "Track the bug (error) with `ipdb` and fix it.\n",
    "```\n",
    "n = 100\n",
    "i = 1\n",
    "total_sum = 0\n",
    "import ipdb; ipdb.set_trace()\n",
    "while i <= n:\n",
    "    total_sum += i\n",
    "mean = total_sum / n\n",
    "print mean\n",
    "```\n",
    "- The variable `i` never changes its value\n",
    "- The condition `i <= n` is always `True`\n",
    "- The loop while is infinite\n",
    "\n",
    "Solution:\n",
    "```\n",
    "n = 100\n",
    "i = 1\n",
    "total_sum = 0\n",
    "while i <= n:\n",
    "    total_sum += i\n",
    "    i += 1\n",
    "mean = total_sum / n\n",
    "print mean\n",
    "```"
   ]
  }
 ],
 "metadata": {
  "kernelspec": {
   "display_name": "Python 2",
   "language": "python",
   "name": "python2"
  },
  "language_info": {
   "codemirror_mode": {
    "name": "ipython",
    "version": 2
   },
   "file_extension": ".py",
   "mimetype": "text/x-python",
   "name": "python",
   "nbconvert_exporter": "python",
   "pygments_lexer": "ipython2",
   "version": "2.7.6"
  }
 },
 "nbformat": 4,
 "nbformat_minor": 0
}
