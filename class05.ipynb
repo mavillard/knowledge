{
 "cells": [
  {
   "cell_type": "markdown",
   "metadata": {},
   "source": [
    "<div align=\"center\">\n",
    "    <h1><a href=\"index.ipynb\">Knowledge Discovery in Digital Humanities</a></h1>\n",
    "</div>"
   ]
  },
  {
   "cell_type": "markdown",
   "metadata": {},
   "source": [
    "<div align=\"center\">\n",
    "    <h2>Class 05. Python II: Flow control</h2>\n",
    "    <img src=\"img/python.png\" width=\"300\">\n",
    "</div>"
   ]
  },
  {
   "cell_type": "markdown",
   "metadata": {},
   "source": [
    "###Table of contents\n",
    "\n",
    "- [Conditionals and iterations](#Conditionals-and-iterations)\n",
    "- [Functions](#Functions)\n",
    "- [Debugging code](#Debugging-code)"
   ]
  },
  {
   "cell_type": "markdown",
   "metadata": {},
   "source": [
    "###Conditionals and iterations\n",
    "\n",
    "####Notes on debugging\n",
    "Common errors:\n",
    "- Syntax:\n",
    "    - colon at the end of `if`, `while` and `for`\n",
    "    - indentation inside `if`, `while` and `for`\n",
    "- Logic: infinite loop, due to\n",
    "    - condition never changes\n",
    "    - variable that controls the loop does not increment its value\n",
    "    - (press CTRL+C to break the loop)\n",
    "- Semantic:\n",
    "    - loop range\n",
    "    - operator `=` instead of `==` inside a conditional\n",
    "\n",
    "####Boolean expressions\n",
    "- An expression that is either true or false\n",
    "- Type: `bool`\n",
    "- Values: `True`, `False`\n",
    "- Examples: `4 == 4`, `True or False`, `2 > 6`\n",
    "\n",
    "####Relational operators\n",
    "- Compare two values and return a boolean value\n",
    "- Operators: `==`, `!=`, `<`, `>`, `<=`, `>=`\n",
    "- Examples: `3+1 == 6`, `3+1 != 6`, `3+1 < 6`, `3+1 > 6`, `3+1 <= 6`, `3+1 >= 6`\n",
    "\n",
    "####Logical operators\n",
    "- Combine boolean values and return a new boolean value\n",
    "- Operators: `and`, `or`, `not`\n",
    "\n",
    "<table align=\"left\">\n",
    "    <caption>Boolean operators</caption>\n",
    "    <thead>\n",
    "        <th>x</th><th>y</th><th>x and y</th><th>x or y</th><th>not x</th>\n",
    "    </thead>\n",
    "    <tbody>\n",
    "        <tr><td>False</td><td>False</td><td>False</td><td>False</td><td>True</td></tr>\n",
    "        <tr><td>False</td><td>True</td><td>False</td><td>True</td><td>True</td></tr>\n",
    "        <tr><td>True</td><td>False</td><td>False</td><td>True</td><td>False</td></tr>\n",
    "        <tr><td>True</td><td>True</td><td>True</td><td>True</td><td>False</td></tr>\n",
    "    </tbody>\n",
    "</table>"
   ]
  },
  {
   "cell_type": "markdown",
   "metadata": {},
   "source": [
    "####Exercise 1\n",
    "Check the results of the next operations: `3+1 == 6`, `3+1 != 6`, `3+1 < 6`, `3+1 > 6`, `3+1 <= 6`, and `3+1 >= 6`"
   ]
  },
  {
   "cell_type": "code",
   "execution_count": 1,
   "metadata": {
    "collapsed": false
   },
   "outputs": [
    {
     "data": {
      "text/plain": [
       "False"
      ]
     },
     "execution_count": 1,
     "metadata": {},
     "output_type": "execute_result"
    }
   ],
   "source": [
    "3+1 == 6"
   ]
  },
  {
   "cell_type": "code",
   "execution_count": 2,
   "metadata": {
    "collapsed": false
   },
   "outputs": [
    {
     "data": {
      "text/plain": [
       "True"
      ]
     },
     "execution_count": 2,
     "metadata": {},
     "output_type": "execute_result"
    }
   ],
   "source": [
    "3+1 != 6"
   ]
  },
  {
   "cell_type": "code",
   "execution_count": 3,
   "metadata": {
    "collapsed": false
   },
   "outputs": [
    {
     "data": {
      "text/plain": [
       "True"
      ]
     },
     "execution_count": 3,
     "metadata": {},
     "output_type": "execute_result"
    }
   ],
   "source": [
    "3+1 < 6"
   ]
  },
  {
   "cell_type": "code",
   "execution_count": 4,
   "metadata": {
    "collapsed": false
   },
   "outputs": [
    {
     "data": {
      "text/plain": [
       "False"
      ]
     },
     "execution_count": 4,
     "metadata": {},
     "output_type": "execute_result"
    }
   ],
   "source": [
    "3+1 > 6"
   ]
  },
  {
   "cell_type": "code",
   "execution_count": 5,
   "metadata": {
    "collapsed": false
   },
   "outputs": [
    {
     "data": {
      "text/plain": [
       "True"
      ]
     },
     "execution_count": 5,
     "metadata": {},
     "output_type": "execute_result"
    }
   ],
   "source": [
    "3+1 <= 6"
   ]
  },
  {
   "cell_type": "code",
   "execution_count": 6,
   "metadata": {
    "collapsed": false
   },
   "outputs": [
    {
     "data": {
      "text/plain": [
       "False"
      ]
     },
     "execution_count": 6,
     "metadata": {},
     "output_type": "execute_result"
    }
   ],
   "source": [
    "3+1 >= 6"
   ]
  },
  {
   "cell_type": "markdown",
   "metadata": {},
   "source": [
    "####Control flow\n",
    "In Python, a script is executed from the first instruction to the last, sequencially.\n",
    "\n",
    "####Conditional execution\n",
    "Conditional statements change the behaviour of a program in terms of flow execution.\n",
    "\n",
    "####The `if`-`elif`-`else` statement\n",
    "- Executes one option if its condition is true\n",
    "- Syntax:\n",
    "````\n",
    "if condition_1:\n",
    "    branch_1\n",
    "elif condition_2:\n",
    "    branch_2\n",
    "...\n",
    "else:\n",
    "    branch_else\n",
    "```\n",
    "\n",
    "- Behaviour:\n",
    "    1. The `if` statement checks the value of the first condition.\n",
    "    2. If the condition is true, the first branch is executed and the conditional statement ends.\n",
    "    3. If not, the first branch is skipped and the statement `elif` checks the value of second condition.\n",
    "    4. All the conditions are checked until one of them is true and its branch is executed.\n",
    "    5. If all them are false, the `else` statements executes the last branch (if present).\n",
    "\n",
    "    *(A condition is a boolean expression. A branch is a set of statement that is executed if certain condition is true.)*"
   ]
  },
  {
   "cell_type": "markdown",
   "metadata": {},
   "source": [
    "####Exercise 2\n",
    "Check the result of the next script:\n",
    "```\n",
    "x = 4; y = 5; z = 6\n",
    "print 1\n",
    "if x == 7:\n",
    "    print 2\n",
    "else:\n",
    "    print 3\n",
    "    if x == y or x == z:\n",
    "        print 4\n",
    "    elif x < y and y < z:\n",
    "        print 5\n",
    "    else:\n",
    "        print 6\n",
    "print 7\n",
    "```"
   ]
  },
  {
   "cell_type": "code",
   "execution_count": 8,
   "metadata": {
    "collapsed": false
   },
   "outputs": [
    {
     "name": "stdout",
     "output_type": "stream",
     "text": [
      "1\n",
      "3\n",
      "5\n",
      "7\n"
     ]
    }
   ],
   "source": [
    "x = 4; y = 5; z = 6\n",
    "print 1\n",
    "if x == 7:\n",
    "    print 2\n",
    "else:\n",
    "    print 3\n",
    "    if x == y or x == z:\n",
    "        print 4\n",
    "    elif x < y and y < z:\n",
    "        print 5\n",
    "    else:\n",
    "        print 6\n",
    "print 7"
   ]
  },
  {
   "cell_type": "markdown",
   "metadata": {},
   "source": [
    "####The `while` statement\n",
    "\n",
    "<div align=\"center\">\n",
    "    <figure>\n",
    "        <img src=\"img/while.png\" width=\"300\">\n",
    "        <figcaption>The while statement flowchart</figcaption>\n",
    "    </figure>\n",
    "</div>\n",
    "\n",
    "- Repeats similar tasks with small variation in a loop while the condition is true\n",
    "- Syntax:\n",
    "```\n",
    "while condition:\n",
    "    statements\n",
    "```\n",
    "\n",
    "- Behaviour:\n",
    "    1. The `while` statement checks the value of the condition.\n",
    "    2. If the condition is true, the statements are executed and the condition is checked again.\n",
    "    3. While the condition is true, the statements are executed.\n",
    "    4. AIf the condition is false, the loop statement ends."
   ]
  },
  {
   "cell_type": "markdown",
   "metadata": {},
   "source": [
    "####Exercise 3\n",
    "This prints the list of numbers from 0 to 9:\n",
    "```\n",
    "print 0\n",
    "print 1\n",
    "print 2\n",
    "print 3\n",
    "print 4\n",
    "print 5\n",
    "print 6\n",
    "print 7\n",
    "print 8\n",
    "print 9\n",
    "```\n",
    "Write an equivalent program by using the `while` statement."
   ]
  },
  {
   "cell_type": "code",
   "execution_count": 9,
   "metadata": {
    "collapsed": false
   },
   "outputs": [
    {
     "name": "stdout",
     "output_type": "stream",
     "text": [
      "0\n",
      "1\n",
      "2\n",
      "3\n",
      "4\n",
      "5\n",
      "6\n",
      "7\n",
      "8\n",
      "9\n"
     ]
    }
   ],
   "source": [
    "print 0\n",
    "print 1\n",
    "print 2\n",
    "print 3\n",
    "print 4\n",
    "print 5\n",
    "print 6\n",
    "print 7\n",
    "print 8\n",
    "print 9"
   ]
  },
  {
   "cell_type": "code",
   "execution_count": 10,
   "metadata": {
    "collapsed": false
   },
   "outputs": [
    {
     "name": "stdout",
     "output_type": "stream",
     "text": [
      "0\n",
      "1\n",
      "2\n",
      "3\n",
      "4\n",
      "5\n",
      "6\n",
      "7\n",
      "8\n",
      "9\n"
     ]
    }
   ],
   "source": [
    "i = 0\n",
    "while i <= 9:\n",
    "    print i\n",
    "    i = i + 1"
   ]
  }
 ],
 "metadata": {
  "kernelspec": {
   "display_name": "Python 2",
   "language": "python",
   "name": "python2"
  },
  "language_info": {
   "codemirror_mode": {
    "name": "ipython",
    "version": 2
   },
   "file_extension": ".py",
   "mimetype": "text/x-python",
   "name": "python",
   "nbconvert_exporter": "python",
   "pygments_lexer": "ipython2",
   "version": "2.7.6"
  }
 },
 "nbformat": 4,
 "nbformat_minor": 0
}
