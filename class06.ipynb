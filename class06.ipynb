{
 "cells": [
  {
   "cell_type": "markdown",
   "metadata": {},
   "source": [
    "<div align=\"center\">\n",
    "    <h1><a href=\"index.ipynb\">Knowledge Discovery in Digital Humanities</a></h1>\n",
    "</div>"
   ]
  },
  {
   "cell_type": "markdown",
   "metadata": {},
   "source": [
    "<div align=\"center\">\n",
    "    <h2>Class 06. Python III: Data types</h2>\n",
    "    <img src=\"img/python.png\" width=\"300\">\n",
    "</div>"
   ]
  },
  {
   "cell_type": "markdown",
   "metadata": {},
   "source": [
    "###Table of contents\n",
    "\n",
    "- [Basic data types](#Basic-data-types)\n",
    "- [Strings](#Strings)\n",
    "- [Lists](#Lists)\n",
    "- [Typles](#Typles)\n",
    "- [Dictionaries](#Dictionaries)"
   ]
  },
  {
   "cell_type": "markdown",
   "metadata": {},
   "source": [
    "###Basic data types\n",
    "\n",
    "####`int`\n",
    "- Type for integer numbers\n",
    "- Examples: `1`, `1234567890`\n",
    "\n",
    "####`long`\n",
    "- Type for long integer numbers\n",
    "- Examples: `10`<sup>`1000`</sup> (a one followed by a thousand zeros)\n",
    "\n",
    "####`float`\n",
    "- Type for floating-point numbers\n",
    "- Examples: `1.0`, `3.1416`\n",
    "\n",
    "####`bool`\n",
    "- Type for logic values\n",
    "- Examples: `True`, `False`\n",
    "\n",
    "####`str`\n",
    "- Type for strings\n",
    "- Examples: `'Hello world!'`, `\"Hello world!\"`\n",
    "\n",
    "####The `type` function\n",
    "Returns the type of a value, variable or expression.\n",
    "\n",
    "Examples:"
   ]
  },
  {
   "cell_type": "code",
   "execution_count": 1,
   "metadata": {
    "collapsed": false
   },
   "outputs": [
    {
     "data": {
      "text/plain": [
       "int"
      ]
     },
     "execution_count": 1,
     "metadata": {},
     "output_type": "execute_result"
    }
   ],
   "source": [
    "type(1)"
   ]
  },
  {
   "cell_type": "code",
   "execution_count": 2,
   "metadata": {
    "collapsed": false
   },
   "outputs": [
    {
     "data": {
      "text/plain": [
       "long"
      ]
     },
     "execution_count": 2,
     "metadata": {},
     "output_type": "execute_result"
    }
   ],
   "source": [
    "x = 10**1000 + 1\n",
    "type(x)"
   ]
  },
  {
   "cell_type": "code",
   "execution_count": 3,
   "metadata": {
    "collapsed": false
   },
   "outputs": [
    {
     "data": {
      "text/plain": [
       "float"
      ]
     },
     "execution_count": 3,
     "metadata": {},
     "output_type": "execute_result"
    }
   ],
   "source": [
    "y = 3.1 + 2.21\n",
    "type(y)"
   ]
  },
  {
   "cell_type": "code",
   "execution_count": 4,
   "metadata": {
    "collapsed": false
   },
   "outputs": [
    {
     "data": {
      "text/plain": [
       "bool"
      ]
     },
     "execution_count": 4,
     "metadata": {},
     "output_type": "execute_result"
    }
   ],
   "source": [
    "type(x == y)"
   ]
  },
  {
   "cell_type": "markdown",
   "metadata": {},
   "source": [
    "####Type conversion functions\n",
    "- `int` converts to `int` type (if possible)\n",
    "- `float` converts to `float` type (if possible)\n",
    "- `bool` converts to `bool` type (if possible)\n",
    "- `str` : converts to `str` (if possible)"
   ]
  },
  {
   "cell_type": "code",
   "execution_count": 5,
   "metadata": {
    "collapsed": false
   },
   "outputs": [
    {
     "data": {
      "text/plain": [
       "123"
      ]
     },
     "execution_count": 5,
     "metadata": {},
     "output_type": "execute_result"
    }
   ],
   "source": [
    "int('123')"
   ]
  },
  {
   "cell_type": "code",
   "execution_count": 6,
   "metadata": {
    "collapsed": false
   },
   "outputs": [
    {
     "data": {
      "text/plain": [
       "3"
      ]
     },
     "execution_count": 6,
     "metadata": {},
     "output_type": "execute_result"
    }
   ],
   "source": [
    "int(3.1416)"
   ]
  },
  {
   "cell_type": "code",
   "execution_count": 7,
   "metadata": {
    "collapsed": false
   },
   "outputs": [
    {
     "data": {
      "text/plain": [
       "123.0"
      ]
     },
     "execution_count": 7,
     "metadata": {},
     "output_type": "execute_result"
    }
   ],
   "source": [
    "float(123)"
   ]
  },
  {
   "cell_type": "code",
   "execution_count": 8,
   "metadata": {
    "collapsed": false
   },
   "outputs": [
    {
     "data": {
      "text/plain": [
       "3.1416"
      ]
     },
     "execution_count": 8,
     "metadata": {},
     "output_type": "execute_result"
    }
   ],
   "source": [
    "float('3.1416')"
   ]
  },
  {
   "cell_type": "code",
   "execution_count": 9,
   "metadata": {
    "collapsed": false
   },
   "outputs": [
    {
     "data": {
      "text/plain": [
       "True"
      ]
     },
     "execution_count": 9,
     "metadata": {},
     "output_type": "execute_result"
    }
   ],
   "source": [
    "bool([1, 2, 3])"
   ]
  },
  {
   "cell_type": "code",
   "execution_count": 10,
   "metadata": {
    "collapsed": false
   },
   "outputs": [
    {
     "data": {
      "text/plain": [
       "False"
      ]
     },
     "execution_count": 10,
     "metadata": {},
     "output_type": "execute_result"
    }
   ],
   "source": [
    "bool(0)"
   ]
  },
  {
   "cell_type": "code",
   "execution_count": 11,
   "metadata": {
    "collapsed": false
   },
   "outputs": [
    {
     "data": {
      "text/plain": [
       "'123'"
      ]
     },
     "execution_count": 11,
     "metadata": {},
     "output_type": "execute_result"
    }
   ],
   "source": [
    "str(123)"
   ]
  },
  {
   "cell_type": "code",
   "execution_count": 12,
   "metadata": {
    "collapsed": false
   },
   "outputs": [
    {
     "data": {
      "text/plain": [
       "'False'"
      ]
     },
     "execution_count": 12,
     "metadata": {},
     "output_type": "execute_result"
    }
   ],
   "source": [
    "str(not True)"
   ]
  },
  {
   "cell_type": "markdown",
   "metadata": {
    "collapsed": true
   },
   "source": [
    "###Strings\n",
    "\n",
    "####Notes on debugging\n",
    "Common errors:\n",
    "- Syntax:\n",
    "    - not closing quotations, `''`/`\"\"`\n",
    "- Logic:\n",
    "    - modifying an element\n",
    "    - accessing to a non-existing element: index out of range\n",
    "- Semantic:\n",
    "    - not accessing the first and/or last element\n",
    "    - not considering the empty string, `''`/`\"\"`\n",
    "\n",
    "####Description\n",
    "- A string is a sequence of characters\n",
    "- Suitable to represent texts\n",
    "- Type: `str`\n",
    "- Examples: `'Hello world!'`, `\"Hello world!\"`\n",
    "\n",
    "####Indices\n",
    "- Three ways to access a string:\n",
    "    - As a whole\n",
    "    - One character\n",
    "        - Syntax: `string[index]`\n",
    "    - Slices\n",
    "        - Syntax: `string[index_1: index_2]`\n",
    "\n",
    "Example:\n",
    "\n",
    "<table align=\"left\">\n",
    "    <tr><td>character<td><b>k</b></td><td><b>n</b></td><td><b>o</b></td><td><b>w</b></td><td><b>l</b></td><td><b>e</b></td><td><b>d</b></td><td><b>g</b></td><td><b>e</b></td></tr>\n",
    "    <tr><td>index<td>0</td><td>1</td><td>2</td><td>3</td><td>4</td><td>5</td><td>6</td><td>7</td><td>8</td></tr>\n",
    "</table>"
   ]
  },
  {
   "cell_type": "code",
   "execution_count": 13,
   "metadata": {
    "collapsed": true
   },
   "outputs": [],
   "source": [
    "word = 'knowledge'"
   ]
  },
  {
   "cell_type": "code",
   "execution_count": 14,
   "metadata": {
    "collapsed": false
   },
   "outputs": [
    {
     "data": {
      "text/plain": [
       "'knowledge'"
      ]
     },
     "execution_count": 14,
     "metadata": {},
     "output_type": "execute_result"
    }
   ],
   "source": [
    "word"
   ]
  },
  {
   "cell_type": "code",
   "execution_count": 15,
   "metadata": {
    "collapsed": false
   },
   "outputs": [
    {
     "data": {
      "text/plain": [
       "'n'"
      ]
     },
     "execution_count": 15,
     "metadata": {},
     "output_type": "execute_result"
    }
   ],
   "source": [
    "word[1]"
   ]
  },
  {
   "cell_type": "code",
   "execution_count": 16,
   "metadata": {
    "collapsed": false
   },
   "outputs": [
    {
     "data": {
      "text/plain": [
       "'owl'"
      ]
     },
     "execution_count": 16,
     "metadata": {},
     "output_type": "execute_result"
    }
   ],
   "source": [
    "word[2: 5]"
   ]
  },
  {
   "cell_type": "markdown",
   "metadata": {},
   "source": [
    "####Immutability\n",
    "- Strings are immutable (cannot be modified)\n",
    "- To modify a string, it is necessary to reasign changes to a new (or same) string\n",
    "- Example: `word += 's'`\n",
    "    - Equivalent to `word = word + 's'`\n",
    "    - Accesses the value of the variable `word`, concatenates a `s`, and reasigns the result to the variable `word` again\n",
    "\n",
    "####Other functions and operators\n",
    "- The `len` function returns the number of characters in a string\n",
    "- The operator `in` checks if a string is contained in another string\n",
    "\n",
    "Examples:"
   ]
  },
  {
   "cell_type": "code",
   "execution_count": 17,
   "metadata": {
    "collapsed": false
   },
   "outputs": [],
   "source": [
    "word = 'knowledge'"
   ]
  },
  {
   "cell_type": "code",
   "execution_count": 18,
   "metadata": {
    "collapsed": false
   },
   "outputs": [
    {
     "data": {
      "text/plain": [
       "9"
      ]
     },
     "execution_count": 18,
     "metadata": {},
     "output_type": "execute_result"
    }
   ],
   "source": [
    "len(word)"
   ]
  },
  {
   "cell_type": "code",
   "execution_count": 19,
   "metadata": {
    "collapsed": false
   },
   "outputs": [
    {
     "data": {
      "text/plain": [
       "True"
      ]
     },
     "execution_count": 19,
     "metadata": {},
     "output_type": "execute_result"
    }
   ],
   "source": [
    "'owl' in word"
   ]
  },
  {
   "cell_type": "code",
   "execution_count": 20,
   "metadata": {
    "collapsed": false
   },
   "outputs": [
    {
     "data": {
      "text/plain": [
       "False"
      ]
     },
     "execution_count": 20,
     "metadata": {},
     "output_type": "execute_result"
    }
   ],
   "source": [
    "'abcd' in word"
   ]
  },
  {
   "cell_type": "markdown",
   "metadata": {},
   "source": [
    "####Exercise 1\n",
    "Write a function that receives a string and returns the number of characters (do not use the `len` function, use a `for` loop instead)."
   ]
  },
  {
   "cell_type": "code",
   "execution_count": 21,
   "metadata": {
    "collapsed": true
   },
   "outputs": [],
   "source": [
    "def length(s):\n",
    "    counter = 0\n",
    "    for c in s:\n",
    "        counter += 1\n",
    "    return counter"
   ]
  },
  {
   "cell_type": "code",
   "execution_count": 22,
   "metadata": {
    "collapsed": false
   },
   "outputs": [
    {
     "data": {
      "text/plain": [
       "5"
      ]
     },
     "execution_count": 22,
     "metadata": {},
     "output_type": "execute_result"
    }
   ],
   "source": [
    "length('abcde')"
   ]
  },
  {
   "cell_type": "markdown",
   "metadata": {},
   "source": [
    "####Exercise 2\n",
    "What does this function do?"
   ]
  },
  {
   "cell_type": "code",
   "execution_count": 23,
   "metadata": {
    "collapsed": true
   },
   "outputs": [],
   "source": [
    "def a_function(string, char):\n",
    "    result = -1\n",
    "    index = 0\n",
    "    while index < len(string):\n",
    "        if string[index] == char:\n",
    "            result = index\n",
    "            break\n",
    "        index += 1\n",
    "    return result"
   ]
  },
  {
   "cell_type": "code",
   "execution_count": 24,
   "metadata": {
    "collapsed": false
   },
   "outputs": [
    {
     "data": {
      "text/plain": [
       "5"
      ]
     },
     "execution_count": 24,
     "metadata": {},
     "output_type": "execute_result"
    }
   ],
   "source": [
    "a_function('knowledge', 'e')"
   ]
  },
  {
   "cell_type": "code",
   "execution_count": 25,
   "metadata": {
    "collapsed": false
   },
   "outputs": [
    {
     "data": {
      "text/plain": [
       "-1"
      ]
     },
     "execution_count": 25,
     "metadata": {},
     "output_type": "execute_result"
    }
   ],
   "source": [
    "a_function('knowledge', 'a')"
   ]
  },
  {
   "cell_type": "markdown",
   "metadata": {},
   "source": [
    "It returns the (first) index of a character in a string or `-1` if not found."
   ]
  },
  {
   "cell_type": "markdown",
   "metadata": {},
   "source": [
    "####Exercise 3\n",
    "Write a function that counts the number of ocurrences of a character in a string."
   ]
  },
  {
   "cell_type": "code",
   "execution_count": 26,
   "metadata": {
    "collapsed": true
   },
   "outputs": [],
   "source": [
    "def count(s, ch):\n",
    "    counter = 0\n",
    "    for c in s:\n",
    "        if c == ch:\n",
    "            counter += 1\n",
    "    return counter"
   ]
  },
  {
   "cell_type": "code",
   "execution_count": 27,
   "metadata": {
    "collapsed": false
   },
   "outputs": [
    {
     "data": {
      "text/plain": [
       "2"
      ]
     },
     "execution_count": 27,
     "metadata": {},
     "output_type": "execute_result"
    }
   ],
   "source": [
    "count('knowledge', 'e')"
   ]
  },
  {
   "cell_type": "code",
   "execution_count": 28,
   "metadata": {
    "collapsed": false
   },
   "outputs": [
    {
     "data": {
      "text/plain": [
       "0"
      ]
     },
     "execution_count": 28,
     "metadata": {},
     "output_type": "execute_result"
    }
   ],
   "source": [
    "count('knowledge', 'a')"
   ]
  },
  {
   "cell_type": "markdown",
   "metadata": {},
   "source": [
    "###Lists\n",
    "\n",
    "####Notes on debugging\n",
    "Common errors:\n",
    "- Syntax:\n",
    "    - not closing brackets, `[]`\n",
    "- Logic:\n",
    "    - accessing to a non-existing element: index out of range\n",
    "- Semantic:\n",
    "    - not accessing the first and/or last element\n",
    "    - not considering the empty list, `[]`\n",
    "    - modifying a list inside a function: side effects\n",
    "\n",
    "####Description\n",
    "- A list is a sequence of values\n",
    "- Type: `list`\n",
    "- Examples: `[1, 2, 3]`, `['a', 'b', 'c']`, `[1, 'abc', [], True]`\n",
    "\n",
    "####Indices\n",
    "- Same index system as strings\n",
    "- Three ways to access a list:\n",
    "    - As a whole\n",
    "    - One element\n",
    "        - Syntax: `list[index]`\n",
    "    - Slices\n",
    "        - Syntax: `list[index_1: index_2]`\n",
    "- Range: `0 .. len(list) - 1`\n",
    "- The index `[-1]` accesses the last element\n",
    "\n",
    "Example:\n",
    "\n",
    "<table align=\"left\">\n",
    "    <tr><td>element<td><b>1</b></td><td><b>2</b></td><td><b>3</b></td></tr>\n",
    "    <tr><td>index<td>0</td><td>1</td><td>2</td></tr>\n",
    "</table>"
   ]
  },
  {
   "cell_type": "code",
   "execution_count": 29,
   "metadata": {
    "collapsed": true
   },
   "outputs": [],
   "source": [
    "l = [1, 2, 3]"
   ]
  },
  {
   "cell_type": "code",
   "execution_count": 30,
   "metadata": {
    "collapsed": false
   },
   "outputs": [
    {
     "data": {
      "text/plain": [
       "1"
      ]
     },
     "execution_count": 30,
     "metadata": {},
     "output_type": "execute_result"
    }
   ],
   "source": [
    "l[0]"
   ]
  },
  {
   "cell_type": "code",
   "execution_count": 31,
   "metadata": {
    "collapsed": false
   },
   "outputs": [
    {
     "data": {
      "text/plain": [
       "3"
      ]
     },
     "execution_count": 31,
     "metadata": {},
     "output_type": "execute_result"
    }
   ],
   "source": [
    "l[-1]"
   ]
  },
  {
   "cell_type": "markdown",
   "metadata": {},
   "source": [
    "####Mutability\n",
    "- Strings are mutable (can be modified)\n",
    "\n",
    "Example:"
   ]
  },
  {
   "cell_type": "code",
   "execution_count": 32,
   "metadata": {
    "collapsed": false
   },
   "outputs": [
    {
     "data": {
      "text/plain": [
       "[1, 'abc', [], True]"
      ]
     },
     "execution_count": 32,
     "metadata": {},
     "output_type": "execute_result"
    }
   ],
   "source": [
    "l = [1, 'abc', [], True]\n",
    "l"
   ]
  },
  {
   "cell_type": "code",
   "execution_count": 33,
   "metadata": {
    "collapsed": false
   },
   "outputs": [
    {
     "data": {
      "text/plain": [
       "[1, 3.1416, [], True]"
      ]
     },
     "execution_count": 33,
     "metadata": {},
     "output_type": "execute_result"
    }
   ],
   "source": [
    "l[1] = 3.1416\n",
    "l"
   ]
  },
  {
   "cell_type": "markdown",
   "metadata": {},
   "source": [
    "####Other functions and operators\n",
    "- `append(x)`: appends the element `x` at the end of the list\n",
    "- `count(x)`: counts the number of occurences of the element `x` in the list\n",
    "- `extend(l)`: appends the elements contained in the list `l` at the end of the list\n",
    "- `index(x)`: returns the lowest index of the element `x` in the list\n",
    "- `insert(i, x)`: inserts the element `x` in the position `i` of the list\n",
    "- `pop(i)`: takes out and returns the element contained in the position `i` of the list\n",
    "- `remove(x)`: removes the first occurence of the element `x` from the list\n",
    "- `reverse()`: reverses the order of the list\n",
    "- `sort()`: orders a list\n",
    "- `in`: checks if an element is contained a the list\n",
    "- `+`: concatenates two lists\n",
    "- `*`: repeats a list a given number of times\n",
    "- `[:]`: slices a list\n",
    "    - General syntax: `l[n: m]` (includes the element in position `n`, excludes the element in position `m`)\n",
    "    - `l[n:]` $\\equiv$ `l[n: len(l)]`\n",
    "    - `l[:m]` $\\equiv$ `l[0: m]`\n",
    "    - `l[:]` $\\equiv$ `l[0: len(l)]` $\\equiv$ `l`\n",
    "\n",
    "Examples:"
   ]
  },
  {
   "cell_type": "code",
   "execution_count": 34,
   "metadata": {
    "collapsed": true
   },
   "outputs": [],
   "source": [
    "l = [2, 8, 4, 6]"
   ]
  },
  {
   "cell_type": "code",
   "execution_count": 35,
   "metadata": {
    "collapsed": false
   },
   "outputs": [
    {
     "data": {
      "text/plain": [
       "[2, 8, 4, 6, 8]"
      ]
     },
     "execution_count": 35,
     "metadata": {},
     "output_type": "execute_result"
    }
   ],
   "source": [
    "l.append(8)\n",
    "l"
   ]
  },
  {
   "cell_type": "code",
   "execution_count": 36,
   "metadata": {
    "collapsed": false
   },
   "outputs": [
    {
     "data": {
      "text/plain": [
       "2"
      ]
     },
     "execution_count": 36,
     "metadata": {},
     "output_type": "execute_result"
    }
   ],
   "source": [
    "l.count(8)"
   ]
  },
  {
   "cell_type": "code",
   "execution_count": 37,
   "metadata": {
    "collapsed": false
   },
   "outputs": [
    {
     "data": {
      "text/plain": [
       "[2, 8, 4, 6, 8, 8, 7, 6]"
      ]
     },
     "execution_count": 37,
     "metadata": {},
     "output_type": "execute_result"
    }
   ],
   "source": [
    "l.extend([8, 7, 6])\n",
    "l"
   ]
  },
  {
   "cell_type": "code",
   "execution_count": 38,
   "metadata": {
    "collapsed": false
   },
   "outputs": [
    {
     "data": {
      "text/plain": [
       "1"
      ]
     },
     "execution_count": 38,
     "metadata": {},
     "output_type": "execute_result"
    }
   ],
   "source": [
    "l.index(8)"
   ]
  },
  {
   "cell_type": "code",
   "execution_count": 39,
   "metadata": {
    "collapsed": false
   },
   "outputs": [
    {
     "data": {
      "text/plain": [
       "[2, 8, 9, 4, 6, 8, 8, 7, 6]"
      ]
     },
     "execution_count": 39,
     "metadata": {},
     "output_type": "execute_result"
    }
   ],
   "source": [
    "l.insert(2, 9)\n",
    "l"
   ]
  },
  {
   "cell_type": "code",
   "execution_count": 40,
   "metadata": {
    "collapsed": false
   },
   "outputs": [
    {
     "data": {
      "text/plain": [
       "9"
      ]
     },
     "execution_count": 40,
     "metadata": {},
     "output_type": "execute_result"
    }
   ],
   "source": [
    "l.pop(2)"
   ]
  },
  {
   "cell_type": "code",
   "execution_count": 41,
   "metadata": {
    "collapsed": false
   },
   "outputs": [
    {
     "data": {
      "text/plain": [
       "[2, 4, 6, 8, 8, 7, 6]"
      ]
     },
     "execution_count": 41,
     "metadata": {},
     "output_type": "execute_result"
    }
   ],
   "source": [
    "l.remove(8)\n",
    "l"
   ]
  },
  {
   "cell_type": "code",
   "execution_count": 42,
   "metadata": {
    "collapsed": false
   },
   "outputs": [
    {
     "data": {
      "text/plain": [
       "[6, 7, 8, 8, 6, 4, 2]"
      ]
     },
     "execution_count": 42,
     "metadata": {},
     "output_type": "execute_result"
    }
   ],
   "source": [
    "l.reverse()\n",
    "l"
   ]
  },
  {
   "cell_type": "code",
   "execution_count": 43,
   "metadata": {
    "collapsed": false
   },
   "outputs": [
    {
     "data": {
      "text/plain": [
       "[2, 4, 6, 6, 7, 8, 8]"
      ]
     },
     "execution_count": 43,
     "metadata": {},
     "output_type": "execute_result"
    }
   ],
   "source": [
    "l.sort()\n",
    "l"
   ]
  },
  {
   "cell_type": "code",
   "execution_count": 44,
   "metadata": {
    "collapsed": false
   },
   "outputs": [
    {
     "data": {
      "text/plain": [
       "False"
      ]
     },
     "execution_count": 44,
     "metadata": {},
     "output_type": "execute_result"
    }
   ],
   "source": [
    "3 in l"
   ]
  },
  {
   "cell_type": "code",
   "execution_count": 45,
   "metadata": {
    "collapsed": false
   },
   "outputs": [
    {
     "data": {
      "text/plain": [
       "True"
      ]
     },
     "execution_count": 45,
     "metadata": {},
     "output_type": "execute_result"
    }
   ],
   "source": [
    "6 in l"
   ]
  },
  {
   "cell_type": "code",
   "execution_count": 46,
   "metadata": {
    "collapsed": false
   },
   "outputs": [
    {
     "data": {
      "text/plain": [
       "[2, 4, 6, 6, 7, 8, 8, 1, 2, 3]"
      ]
     },
     "execution_count": 46,
     "metadata": {},
     "output_type": "execute_result"
    }
   ],
   "source": [
    "l + [1, 2, 3]"
   ]
  },
  {
   "cell_type": "code",
   "execution_count": 47,
   "metadata": {
    "collapsed": false
   },
   "outputs": [
    {
     "data": {
      "text/plain": [
       "[2, 4, 6, 6, 7, 8, 8, 2, 4, 6, 6, 7, 8, 8]"
      ]
     },
     "execution_count": 47,
     "metadata": {},
     "output_type": "execute_result"
    }
   ],
   "source": [
    "l * 2"
   ]
  },
  {
   "cell_type": "code",
   "execution_count": 48,
   "metadata": {
    "collapsed": false
   },
   "outputs": [
    {
     "data": {
      "text/plain": [
       "[6, 6, 7, 8]"
      ]
     },
     "execution_count": 48,
     "metadata": {},
     "output_type": "execute_result"
    }
   ],
   "source": [
    "l[2: 6]"
   ]
  },
  {
   "cell_type": "markdown",
   "metadata": {},
   "source": [
    "####Exercise 4\n",
    "Write a function called `invert` that returns the reverse of a list (do not use the function `reverse` of lists). Clue: create a new list, use the `insert` function."
   ]
  },
  {
   "cell_type": "code",
   "execution_count": 49,
   "metadata": {
    "collapsed": true
   },
   "outputs": [],
   "source": [
    "def invert(l):\n",
    "    result = []\n",
    "    for elem in l:\n",
    "        result.insert(0, elem)\n",
    "    return result"
   ]
  },
  {
   "cell_type": "code",
   "execution_count": 50,
   "metadata": {
    "collapsed": false
   },
   "outputs": [
    {
     "data": {
      "text/plain": [
       "[4, 2, 3, 1]"
      ]
     },
     "execution_count": 50,
     "metadata": {},
     "output_type": "execute_result"
    }
   ],
   "source": [
    "invert([1, 3, 2, 4])"
   ]
  },
  {
   "cell_type": "markdown",
   "metadata": {},
   "source": [
    "####Exercise 5\n",
    "Write a function called `repeat` that returns the result of repeating a list a number `n` of times (do not use the operator `*` of lists). Consider the case n=0. Clue: use the `+` operator."
   ]
  },
  {
   "cell_type": "code",
   "execution_count": 51,
   "metadata": {
    "collapsed": true
   },
   "outputs": [],
   "source": [
    "def repeat(l, n):\n",
    "    result = []\n",
    "    i = 1\n",
    "    while i <= n:\n",
    "        result +=  l\n",
    "        i += 1\n",
    "    return result"
   ]
  },
  {
   "cell_type": "code",
   "execution_count": 52,
   "metadata": {
    "collapsed": false
   },
   "outputs": [
    {
     "data": {
      "text/plain": [
       "[1, 2, 3, 1, 2, 3]"
      ]
     },
     "execution_count": 52,
     "metadata": {},
     "output_type": "execute_result"
    }
   ],
   "source": [
    "repeat([1, 2, 3], 2)"
   ]
  },
  {
   "cell_type": "markdown",
   "metadata": {
    "collapsed": true
   },
   "source": [
    "####Lists as arguments/parameters of functions\n",
    "- The parameter is a reference to the list\n",
    "- Modifying the paremeter (list inside the function) implies modifying the argument (list outside the function)\n",
    "- To avoid this, make a copy of the list with `list()` or `[:]`\n",
    "\n",
    "#### Lists vs strings\n",
    "- Lists are mutable\n",
    "- Strings are immutable\n",
    "- A string is a sequence of characters\n",
    "- A list is a sequence of values\n",
    "- A list of characters is not a string\n",
    "- The function `list` converts a string to a list"
   ]
  },
  {
   "cell_type": "markdown",
   "metadata": {},
   "source": [
    "###Tuples\n",
    "\n",
    "####Description\n",
    "- A tuple is an immutable list\n",
    "- Type: `tuple`\n",
    "- Examples: `(1, 2, 3)`, `('a', 'b', 'c')`, `(1, 'abc', [], True)`"
   ]
  },
  {
   "cell_type": "markdown",
   "metadata": {},
   "source": [
    "###Dictionaries\n",
    "\n",
    "####Notes on debugging\n",
    "Common errors:\n",
    "- Syntax:\n",
    "    - not closing curly brackets, `{}`\n",
    "- Logic:\n",
    "    - accessing to a non-existing element: key not found\n",
    "- Semantic:\n",
    "    - modifying a dictionary inside a function: side effects\n",
    "\n",
    "####Description\n",
    "- A dictionary is a kind of list that establishes a mapping between a set of indices (called keys) and a set of values\n",
    "- Keys can be any hashable type (roughly speaking, it means immutable; its value never changes; for example, integers or strings)\n",
    "- Values can be any type\n",
    "- Each pair key-value is called item\n",
    "- Type: `dict`\n",
    "- Examples:\n",
    "```\n",
    "{1: 'a', 2: 'b', 3: 'c'}\n",
    "```\n",
    "```\n",
    "{'one':'uno', 'two':'dos',\n",
    "'three':'tres', 'four':'cuatro',\n",
    "'five':'cinco', 'six':'seis',\n",
    "'seven':'siete', 'eight':'ocho',\n",
    "'nine':'nueve', 'ten':'diez',}\n",
    "```\n",
    "\n",
    "####Access\n",
    "- Several ways to access a dictionary:\n",
    "    - As a whole\n",
    "    - One element (lookup)\n",
    "        - Syntax: `dictionary[key]`\n",
    "    - List of items\n",
    "        - Syntax: `dictionary.items()` (it returns a list of tuples `(key, value)`)\n",
    "    - List of keys\n",
    "        - Syntax: `dictionary.keys()`\n",
    "    - List of values\n",
    "        - Syntax: `dictionary.values()`\n",
    "\n",
    "Example:"
   ]
  },
  {
   "cell_type": "code",
   "execution_count": 53,
   "metadata": {
    "collapsed": true
   },
   "outputs": [],
   "source": [
    "d = {1: 'a', 2: 'b', 3: 'c'}"
   ]
  },
  {
   "cell_type": "code",
   "execution_count": 54,
   "metadata": {
    "collapsed": false
   },
   "outputs": [
    {
     "data": {
      "text/plain": [
       "{1: 'a', 2: 'b', 3: 'c'}"
      ]
     },
     "execution_count": 54,
     "metadata": {},
     "output_type": "execute_result"
    }
   ],
   "source": [
    "d"
   ]
  },
  {
   "cell_type": "code",
   "execution_count": 55,
   "metadata": {
    "collapsed": false
   },
   "outputs": [
    {
     "data": {
      "text/plain": [
       "'a'"
      ]
     },
     "execution_count": 55,
     "metadata": {},
     "output_type": "execute_result"
    }
   ],
   "source": [
    "d[1]"
   ]
  },
  {
   "cell_type": "code",
   "execution_count": 56,
   "metadata": {
    "collapsed": false
   },
   "outputs": [
    {
     "data": {
      "text/plain": [
       "[(1, 'a'), (2, 'b'), (3, 'c')]"
      ]
     },
     "execution_count": 56,
     "metadata": {},
     "output_type": "execute_result"
    }
   ],
   "source": [
    "d.items()"
   ]
  },
  {
   "cell_type": "code",
   "execution_count": 57,
   "metadata": {
    "collapsed": false
   },
   "outputs": [
    {
     "data": {
      "text/plain": [
       "[1, 2, 3]"
      ]
     },
     "execution_count": 57,
     "metadata": {},
     "output_type": "execute_result"
    }
   ],
   "source": [
    "d.keys()"
   ]
  },
  {
   "cell_type": "code",
   "execution_count": 58,
   "metadata": {
    "collapsed": false
   },
   "outputs": [
    {
     "data": {
      "text/plain": [
       "['a', 'b', 'c']"
      ]
     },
     "execution_count": 58,
     "metadata": {},
     "output_type": "execute_result"
    }
   ],
   "source": [
    "d.values()"
   ]
  },
  {
   "cell_type": "markdown",
   "metadata": {},
   "source": [
    "####Modifying dictionaries\n",
    "- Adding new item\n",
    "    - Syntax: `dictionary[new_key] = value`\n",
    "- Modifying existing item\n",
    "    - Syntax: `dictionary[key] = new_value`\n",
    "- Deleting existing item\n",
    "    - Syntax: `del(dictionary[key])`\n",
    "\n",
    "Example:"
   ]
  },
  {
   "cell_type": "code",
   "execution_count": 59,
   "metadata": {
    "collapsed": false
   },
   "outputs": [
    {
     "data": {
      "text/plain": [
       "{1: 'a', 2: 'b', 3: 'c', 4: 'd'}"
      ]
     },
     "execution_count": 59,
     "metadata": {},
     "output_type": "execute_result"
    }
   ],
   "source": [
    "d[4] = 'd'\n",
    "d"
   ]
  },
  {
   "cell_type": "code",
   "execution_count": 60,
   "metadata": {
    "collapsed": false
   },
   "outputs": [
    {
     "data": {
      "text/plain": [
       "{1: 'x', 2: 'b', 3: 'c', 4: 'd'}"
      ]
     },
     "execution_count": 60,
     "metadata": {},
     "output_type": "execute_result"
    }
   ],
   "source": [
    "d[1] = 'x'\n",
    "d"
   ]
  },
  {
   "cell_type": "code",
   "execution_count": 61,
   "metadata": {
    "collapsed": false
   },
   "outputs": [
    {
     "data": {
      "text/plain": [
       "{1: 'x', 3: 'c', 4: 'd'}"
      ]
     },
     "execution_count": 61,
     "metadata": {},
     "output_type": "execute_result"
    }
   ],
   "source": [
    "del(d[2])\n",
    "d"
   ]
  },
  {
   "cell_type": "markdown",
   "metadata": {},
   "source": [
    "####Other functions and operators\n",
    "- `in`: checks if a key is contained a dictionary\n",
    "\n",
    "Example:"
   ]
  },
  {
   "cell_type": "code",
   "execution_count": 62,
   "metadata": {
    "collapsed": false
   },
   "outputs": [
    {
     "data": {
      "text/plain": [
       "False"
      ]
     },
     "execution_count": 62,
     "metadata": {},
     "output_type": "execute_result"
    }
   ],
   "source": [
    "2 in d"
   ]
  },
  {
   "cell_type": "code",
   "execution_count": 63,
   "metadata": {
    "collapsed": false
   },
   "outputs": [
    {
     "data": {
      "text/plain": [
       "True"
      ]
     },
     "execution_count": 63,
     "metadata": {},
     "output_type": "execute_result"
    }
   ],
   "source": [
    "4 in d"
   ]
  },
  {
   "cell_type": "markdown",
   "metadata": {},
   "source": [
    "####Exercise 6\n",
    "Write a function called `histogram` that receives a string and returns the frequency of each letter."
   ]
  },
  {
   "cell_type": "code",
   "execution_count": 64,
   "metadata": {
    "collapsed": true
   },
   "outputs": [],
   "source": [
    "def histogram(word):\n",
    "    d = {}\n",
    "    for letter in word:\n",
    "        if letter in d:\n",
    "            d[letter] += 1\n",
    "        else:\n",
    "            d[letter] = 1\n",
    "    return d"
   ]
  },
  {
   "cell_type": "code",
   "execution_count": 65,
   "metadata": {
    "collapsed": false
   },
   "outputs": [
    {
     "data": {
      "text/plain": [
       "{'a': 3, 'b': 1, 'n': 2}"
      ]
     },
     "execution_count": 65,
     "metadata": {},
     "output_type": "execute_result"
    }
   ],
   "source": [
    "histogram('banana')"
   ]
  },
  {
   "cell_type": "markdown",
   "metadata": {},
   "source": [
    "####Exercise 7\n",
    "Write a function called `invert_histogram` that receives an histogram and returns the inverted histogram, where the keys are the frequencies and the values are lists of the letters that have that frequency. Example: `portar` (in Spanish, *carry*).\n",
    "\n",
    "<div align=\"center\">\n",
    "    <figure>\n",
    "        <img src=\"img/inverted_histogram.png\">\n",
    "        <figcaption>Inverted histogram</figcaption>\n",
    "    </figure>\n",
    "</div>"
   ]
  },
  {
   "cell_type": "code",
   "execution_count": 66,
   "metadata": {
    "collapsed": true
   },
   "outputs": [],
   "source": [
    "def invert_histogram(h):\n",
    "    inverse = {}\n",
    "    for key in h:\n",
    "        value = h[key]\n",
    "        if value in inverse:\n",
    "            inverse[value].append(key)\n",
    "        else:\n",
    "            inverse[value] = [key]\n",
    "    return inverse"
   ]
  },
  {
   "cell_type": "code",
   "execution_count": 67,
   "metadata": {
    "collapsed": false
   },
   "outputs": [
    {
     "data": {
      "text/plain": [
       "{'a': 1, 'o': 1, 'p': 1, 'r': 2, 't': 1}"
      ]
     },
     "execution_count": 67,
     "metadata": {},
     "output_type": "execute_result"
    }
   ],
   "source": [
    "h = histogram('portar')\n",
    "h"
   ]
  },
  {
   "cell_type": "code",
   "execution_count": 68,
   "metadata": {
    "collapsed": false
   },
   "outputs": [
    {
     "data": {
      "text/plain": [
       "{1: ['a', 'p', 't', 'o'], 2: ['r']}"
      ]
     },
     "execution_count": 68,
     "metadata": {},
     "output_type": "execute_result"
    }
   ],
   "source": [
    "i = invert_histogram(h)\n",
    "i"
   ]
  }
 ],
 "metadata": {
  "kernelspec": {
   "display_name": "Python 2",
   "language": "python",
   "name": "python2"
  },
  "language_info": {
   "codemirror_mode": {
    "name": "ipython",
    "version": 2
   },
   "file_extension": ".py",
   "mimetype": "text/x-python",
   "name": "python",
   "nbconvert_exporter": "python",
   "pygments_lexer": "ipython2",
   "version": "2.7.6"
  }
 },
 "nbformat": 4,
 "nbformat_minor": 0
}
