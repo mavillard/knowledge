{
 "cells": [
  {
   "cell_type": "markdown",
   "metadata": {},
   "source": [
    "<div align=\"center\">\n",
    "    <h1><a href=\"index.ipynb\">Knowledge Discovery in Digital Humanities</a></h1>\n",
    "</div>"
   ]
  },
  {
   "cell_type": "markdown",
   "metadata": {},
   "source": [
    "<div align=\"center\">\n",
    "    <h2>Class 07. Python IV: Files</h2>\n",
    "    <img src=\"img/python.png\" width=\"300\">\n",
    "</div>"
   ]
  },
  {
   "cell_type": "markdown",
   "metadata": {},
   "source": [
    "###Table of contents\n",
    "\n",
    "- [Oriented-object programming](#Oriented-object-programming)\n",
    "- [Text files](#Text-files)\n",
    "- [CSV files](#CSV-files)\n",
    "- [URLs](#URLs)"
   ]
  },
  {
   "cell_type": "markdown",
   "metadata": {},
   "source": [
    "###Oriented-object programming\n",
    "\n",
    "####Classes\n",
    "- A class is the representation of an idea or a concept\n",
    "- A class is a user-defined type\n",
    "- A class is defined by features that are common to all objects that belong to the class: attributes and methods\n",
    "- Syntax:\n",
    "```\n",
    "class ClassName(SuperclassName):\n",
    "    attributes and methods\n",
    "```\n",
    "\n",
    "Example:"
   ]
  },
  {
   "cell_type": "code",
   "execution_count": 2,
   "metadata": {
    "collapsed": true
   },
   "outputs": [],
   "source": [
    "class Rectangle:\n",
    "    def __init__(self, base, height):\n",
    "        self.base = base\n",
    "        self.height = height\n",
    "    \n",
    "    def area(self):\n",
    "        return self.base * self.height"
   ]
  },
  {
   "cell_type": "markdown",
   "metadata": {},
   "source": [
    "####Objects\n",
    "- An object is an instance of the class\n",
    "- An object is a concrete element that belongs to a class of objects\n",
    "- Syntax:\n",
    "```\n",
    "object_name = ClassName(arguments)\n",
    "```\n",
    "\n",
    "Example:"
   ]
  },
  {
   "cell_type": "code",
   "execution_count": 6,
   "metadata": {
    "collapsed": false
   },
   "outputs": [],
   "source": [
    "r = Rectangle(8, 5)"
   ]
  },
  {
   "cell_type": "markdown",
   "metadata": {},
   "source": [
    "####Attributes\n",
    "- Data\n",
    "- Take specific values for each object\n",
    "- Examples: `base`, `height`\n",
    "- Syntax:\n",
    "```\n",
    "object.attribute\n",
    "```\n",
    "\n",
    "Example:"
   ]
  },
  {
   "cell_type": "code",
   "execution_count": 4,
   "metadata": {
    "collapsed": false
   },
   "outputs": [
    {
     "data": {
      "text/plain": [
       "8"
      ]
     },
     "execution_count": 4,
     "metadata": {},
     "output_type": "execute_result"
    }
   ],
   "source": [
    "r.base"
   ]
  },
  {
   "cell_type": "markdown",
   "metadata": {},
   "source": [
    "####Methods\n",
    "- Functions that operate with attributes\n",
    "- Get different results for each object\n",
    "- Syntax:\n",
    "```\n",
    "object.method(arguments)\n",
    "```\n",
    "\n",
    "Example:"
   ]
  },
  {
   "cell_type": "code",
   "execution_count": 7,
   "metadata": {
    "collapsed": false
   },
   "outputs": [
    {
     "data": {
      "text/plain": [
       "40"
      ]
     },
     "execution_count": 7,
     "metadata": {},
     "output_type": "execute_result"
    }
   ],
   "source": [
    "r.area()"
   ]
  },
  {
   "cell_type": "markdown",
   "metadata": {},
   "source": [
    "*Note: For the purposes of this course, it is not necessary to know how to define classes but it is how to use them.*"
   ]
  },
  {
   "cell_type": "markdown",
   "metadata": {},
   "source": [
    "###Text files\n",
    "\n",
    "A text file is a sequence of characters stored on a permanent medium like a hard drive, flash memory.\n",
    "\n",
    "####Opening files\n",
    "- Built-in `open` function\n",
    "\n",
    "#####Read mode, `'r'`\n",
    "`'r'` or nothing as second parameter of `open`\n",
    "\n",
    "#####Write mode, `'w'`\n",
    "`'w` as second parameter of `open`\n",
    "\n",
    "Examples:"
   ]
  },
  {
   "cell_type": "code",
   "execution_count": 34,
   "metadata": {
    "collapsed": false
   },
   "outputs": [
    {
     "data": {
      "text/plain": [
       "<open file 'data/knowledge_wikipedia.txt', mode 'r' at 0x7f3f08d37f60>"
      ]
     },
     "execution_count": 34,
     "metadata": {},
     "output_type": "execute_result"
    }
   ],
   "source": [
    "f = open('data/knowledge_wikipedia.txt')\n",
    "f"
   ]
  },
  {
   "cell_type": "code",
   "execution_count": 35,
   "metadata": {
    "collapsed": false
   },
   "outputs": [
    {
     "data": {
      "text/plain": [
       "<open file 'data/knowledge_wikipedia.txt', mode 'r' at 0x7f3f08d63030>"
      ]
     },
     "execution_count": 35,
     "metadata": {},
     "output_type": "execute_result"
    }
   ],
   "source": [
    "fr = open('data/knowledge_wikipedia.txt', 'r')\n",
    "fr"
   ]
  },
  {
   "cell_type": "code",
   "execution_count": 36,
   "metadata": {
    "collapsed": false
   },
   "outputs": [
    {
     "data": {
      "text/plain": [
       "<open file 'data/new_file.txt', mode 'w' at 0x7f3f08d3ff60>"
      ]
     },
     "execution_count": 36,
     "metadata": {},
     "output_type": "execute_result"
    }
   ],
   "source": [
    "fw = open('data/new_file.txt', 'w')\n",
    "fw"
   ]
  },
  {
   "cell_type": "markdown",
   "metadata": {},
   "source": [
    "####Reading files\n",
    "1. Open the file in *read* mode\n",
    "2. Read the file:\n",
    "    - Use the `read` function: it reads the whole content of the file\n",
    "    - Iterate over the file: it reads line by line\n",
    "\n",
    "Examples:"
   ]
  },
  {
   "cell_type": "code",
   "execution_count": 37,
   "metadata": {
    "collapsed": false
   },
   "outputs": [
    {
     "data": {
      "text/plain": [
       "'Knowledge is a familiarity, awareness or understanding of someone or something,\\nsuch as facts, information, descriptions, or skills, which is acquired through\\nexperience or education by perceiving, discovering, or learning. Knowledge can\\nrefer to a theoretical or practical understanding of a subject. It can be\\nimplicit (as with practical skill or expertise) or explicit (as with the\\ntheoretical understanding of a subject); it can be more or less formal or\\nsystematic.[1] In philosophy, the study of knowledge is called epistemology;\\nthe philosopher Plato famously defined knowledge as \"justified true belief\",\\nthough \"well-justified true belief\" is more complete as it accounts for the\\nGettier problems. However, several definitions of knowledge and theories to\\nexplain it exist.\\n'"
      ]
     },
     "execution_count": 37,
     "metadata": {},
     "output_type": "execute_result"
    }
   ],
   "source": [
    "f = open('data/knowledge_wikipedia.txt')\n",
    "f.read()"
   ]
  },
  {
   "cell_type": "markdown",
   "metadata": {},
   "source": [
    "`'\\n'` characters are *newlines*; this is equivalent to pressing *Enter* on a keyboard and starting a new line."
   ]
  },
  {
   "cell_type": "code",
   "execution_count": 38,
   "metadata": {
    "collapsed": false
   },
   "outputs": [
    {
     "name": "stdout",
     "output_type": "stream",
     "text": [
      "Knowledge is a familiarity, awareness or understanding of someone or something,\n",
      "such as facts, information, descriptions, or skills, which is acquired through\n",
      "experience or education by perceiving, discovering, or learning. Knowledge can\n",
      "refer to a theoretical or practical understanding of a subject. It can be\n",
      "implicit (as with practical skill or expertise) or explicit (as with the\n",
      "theoretical understanding of a subject); it can be more or less formal or\n",
      "systematic.[1] In philosophy, the study of knowledge is called epistemology;\n",
      "the philosopher Plato famously defined knowledge as \"justified true belief\",\n",
      "though \"well-justified true belief\" is more complete as it accounts for the\n",
      "Gettier problems. However, several definitions of knowledge and theories to\n",
      "explain it exist.\n"
     ]
    }
   ],
   "source": [
    "f = open('data/knowledge_wikipedia.txt')\n",
    "for line in f:\n",
    "    print line.strip()"
   ]
  },
  {
   "cell_type": "markdown",
   "metadata": {},
   "source": [
    "The `strip` method removes the newline character at the end of the input line."
   ]
  },
  {
   "cell_type": "markdown",
   "metadata": {},
   "source": [
    "####Writing files\n",
    "1. Open the file in *write* mode\n",
    "2. Use the `write` function\n",
    "\n",
    "Examples:"
   ]
  },
  {
   "cell_type": "code",
   "execution_count": 39,
   "metadata": {
    "collapsed": true
   },
   "outputs": [],
   "source": [
    "fw = open('data/new_file.txt', 'w')\n",
    "fw.write('This is the first line\\nand this is')\n",
    "fw.write(' the second line.')"
   ]
  },
  {
   "cell_type": "markdown",
   "metadata": {},
   "source": [
    "####Closing files\n",
    "- After finishing processing a file, in both read or write mode, close the file\n",
    "- Use the `close` function\n",
    "\n",
    "Examples:"
   ]
  },
  {
   "cell_type": "code",
   "execution_count": 40,
   "metadata": {
    "collapsed": false
   },
   "outputs": [],
   "source": [
    "f.close()\n",
    "fr.close()\n",
    "fw.close()"
   ]
  },
  {
   "cell_type": "markdown",
   "metadata": {},
   "source": [
    "####Exercise 1\n",
    "Write a function called `copy` that receives two arguments: a source path file and a destination path file, and copy the content of the source to the destination."
   ]
  },
  {
   "cell_type": "code",
   "execution_count": 45,
   "metadata": {
    "collapsed": true
   },
   "outputs": [],
   "source": [
    "def copy(src, dst):\n",
    "    fs = open(src, 'r')\n",
    "    fd = open(dst, 'w')\n",
    "    fd.write(fs.read())\n",
    "    fs.close()\n",
    "    fd.close()\n",
    "copy('exercises/knowledge_clean.txt', 'exercises/knowledge_copy.txt')"
   ]
  },
  {
   "cell_type": "markdown",
   "metadata": {},
   "source": [
    "####Exercise 2\n",
    "Write a function that processes the file [knowledge_clean.txt](exercises/knowledge_clean.txt) (a cleaned from punctuation marks version of *knowledge_wikipedia.txt*) and prints all the words ending in *ing*."
   ]
  },
  {
   "cell_type": "code",
   "execution_count": 44,
   "metadata": {
    "collapsed": false
   },
   "outputs": [
    {
     "name": "stdout",
     "output_type": "stream",
     "text": [
      "understanding\n",
      "something\n",
      "perceiving\n",
      "discovering\n",
      "learning\n",
      "understanding\n",
      "understanding\n"
     ]
    }
   ],
   "source": [
    "def ing():\n",
    "    for line in open('exercises/knowledge_clean.txt'):\n",
    "        for word in line.split():\n",
    "            if word.endswith('ing'):\n",
    "                print word\n",
    "ing()"
   ]
  }
 ],
 "metadata": {
  "kernelspec": {
   "display_name": "Python 2",
   "language": "python",
   "name": "python2"
  },
  "language_info": {
   "codemirror_mode": {
    "name": "ipython",
    "version": 2
   },
   "file_extension": ".py",
   "mimetype": "text/x-python",
   "name": "python",
   "nbconvert_exporter": "python",
   "pygments_lexer": "ipython2",
   "version": "2.7.6"
  }
 },
 "nbformat": 4,
 "nbformat_minor": 0
}
