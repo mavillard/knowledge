{
 "cells": [
  {
   "cell_type": "markdown",
   "metadata": {},
   "source": [
    "<div align=\"center\">\n",
    "    <h1><a href=\"index.ipynb\">Knowledge Discovery in Digital Humanities</a></h1>\n",
    "</div>"
   ]
  },
  {
   "cell_type": "markdown",
   "metadata": {},
   "source": [
    "<div align=\"center\">\n",
    "    <h2>Class 07. Python IV: Files</h2>\n",
    "    <img src=\"img/python.png\" width=\"300\">\n",
    "</div>"
   ]
  },
  {
   "cell_type": "markdown",
   "metadata": {},
   "source": [
    "###Table of contents\n",
    "\n",
    "- [Oriented-object programming](#Oriented-object-programming)\n",
    "- [Text files](#Text-files)\n",
    "- [CSV files](#CSV-files)\n",
    "- [Web files](#Web-files)"
   ]
  },
  {
   "cell_type": "markdown",
   "metadata": {},
   "source": [
    "###Oriented-object programming\n",
    "\n",
    "####Classes\n",
    "- A class is the representation of an idea or a concept\n",
    "- A class is a user-defined type\n",
    "- A class is defined by features that are common to all objects that belong to the class: attributes and methods\n",
    "- Syntax:\n",
    "```\n",
    "class ClassName(SuperclassName):\n",
    "    attributes and methods\n",
    "```\n",
    "\n",
    "Example:"
   ]
  },
  {
   "cell_type": "code",
   "execution_count": 1,
   "metadata": {
    "collapsed": true
   },
   "outputs": [],
   "source": [
    "class Rectangle:\n",
    "    def __init__(self, base, height):\n",
    "        self.base = base\n",
    "        self.height = height\n",
    "    \n",
    "    def area(self):\n",
    "        return self.base * self.height"
   ]
  },
  {
   "cell_type": "markdown",
   "metadata": {},
   "source": [
    "####Objects\n",
    "- An object is an instance of the class\n",
    "- An object is a concrete element that belongs to a class of objects\n",
    "- Syntax:\n",
    "```\n",
    "object_name = ClassName(arguments)\n",
    "```\n",
    "\n",
    "Example:"
   ]
  },
  {
   "cell_type": "code",
   "execution_count": 2,
   "metadata": {
    "collapsed": false
   },
   "outputs": [],
   "source": [
    "r = Rectangle(8, 5)"
   ]
  },
  {
   "cell_type": "markdown",
   "metadata": {},
   "source": [
    "####Attributes\n",
    "- Data\n",
    "- Take specific values for each object\n",
    "- Examples: `base`, `height`\n",
    "- Syntax:\n",
    "```\n",
    "object.attribute\n",
    "```\n",
    "\n",
    "Example:"
   ]
  },
  {
   "cell_type": "code",
   "execution_count": 3,
   "metadata": {
    "collapsed": false
   },
   "outputs": [
    {
     "data": {
      "text/plain": [
       "8"
      ]
     },
     "execution_count": 3,
     "metadata": {},
     "output_type": "execute_result"
    }
   ],
   "source": [
    "r.base"
   ]
  },
  {
   "cell_type": "markdown",
   "metadata": {},
   "source": [
    "####Methods\n",
    "- Functions that operate with attributes\n",
    "- Get different results for each object\n",
    "- Syntax:\n",
    "```\n",
    "object.method(arguments)\n",
    "```\n",
    "\n",
    "Example:"
   ]
  },
  {
   "cell_type": "code",
   "execution_count": 4,
   "metadata": {
    "collapsed": false
   },
   "outputs": [
    {
     "data": {
      "text/plain": [
       "40"
      ]
     },
     "execution_count": 4,
     "metadata": {},
     "output_type": "execute_result"
    }
   ],
   "source": [
    "r.area()"
   ]
  },
  {
   "cell_type": "markdown",
   "metadata": {},
   "source": [
    "*Note: For the purposes of this course, it is not necessary to know how to define classes but it is how to use them.*"
   ]
  },
  {
   "cell_type": "markdown",
   "metadata": {},
   "source": [
    "###Text files\n",
    "\n",
    "A text file is a sequence of characters stored on a permanent medium like a hard drive, flash memory.\n",
    "\n",
    "####Opening files\n",
    "- Built-in `open` function\n",
    "\n",
    "#####Read mode, `'r'`\n",
    "`'r'` or nothing as second parameter of `open`\n",
    "\n",
    "#####Write mode, `'w'`\n",
    "`'w'` as second parameter of `open`\n",
    "\n",
    "#####Write mode, `'a'`\n",
    "`'a'` as second parameter of `open`\n",
    "\n",
    "Examples:"
   ]
  },
  {
   "cell_type": "code",
   "execution_count": 5,
   "metadata": {
    "collapsed": false
   },
   "outputs": [
    {
     "data": {
      "text/plain": [
       "<open file 'data/knowledge_wikipedia.txt', mode 'r' at 0x7ffb8f54bc00>"
      ]
     },
     "execution_count": 5,
     "metadata": {},
     "output_type": "execute_result"
    }
   ],
   "source": [
    "f = open('data/knowledge_wikipedia.txt')\n",
    "f"
   ]
  },
  {
   "cell_type": "code",
   "execution_count": 6,
   "metadata": {
    "collapsed": false
   },
   "outputs": [
    {
     "data": {
      "text/plain": [
       "<open file 'data/knowledge_wikipedia.txt', mode 'r' at 0x7ffb8f54bc90>"
      ]
     },
     "execution_count": 6,
     "metadata": {},
     "output_type": "execute_result"
    }
   ],
   "source": [
    "fr = open('data/knowledge_wikipedia.txt', 'r')\n",
    "fr"
   ]
  },
  {
   "cell_type": "code",
   "execution_count": 7,
   "metadata": {
    "collapsed": false
   },
   "outputs": [
    {
     "data": {
      "text/plain": [
       "<open file 'data/new_file.txt', mode 'w' at 0x7ffb8f54bd20>"
      ]
     },
     "execution_count": 7,
     "metadata": {},
     "output_type": "execute_result"
    }
   ],
   "source": [
    "fw = open('data/new_file.txt', 'w')\n",
    "fw"
   ]
  },
  {
   "cell_type": "code",
   "execution_count": 8,
   "metadata": {
    "collapsed": false
   },
   "outputs": [
    {
     "data": {
      "text/plain": [
       "<open file 'data/new_file.txt', mode 'a' at 0x7ffb8f54bdb0>"
      ]
     },
     "execution_count": 8,
     "metadata": {},
     "output_type": "execute_result"
    }
   ],
   "source": [
    "fa = open('data/new_file.txt', 'a')\n",
    "fa"
   ]
  },
  {
   "cell_type": "markdown",
   "metadata": {},
   "source": [
    "####Reading files\n",
    "1. Open the file in *read* mode\n",
    "2. Read the file:\n",
    "    - Use the `read` function: it reads the whole content of the file\n",
    "    - Iterate over the file: it reads line by line\n",
    "\n",
    "Examples:"
   ]
  },
  {
   "cell_type": "code",
   "execution_count": 9,
   "metadata": {
    "collapsed": false
   },
   "outputs": [
    {
     "data": {
      "text/plain": [
       "'Knowledge is a familiarity, awareness or understanding of someone or something,\\nsuch as facts, information, descriptions, or skills, which is acquired through\\nexperience or education by perceiving, discovering, or learning. Knowledge can\\nrefer to a theoretical or practical understanding of a subject. It can be\\nimplicit (as with practical skill or expertise) or explicit (as with the\\ntheoretical understanding of a subject); it can be more or less formal or\\nsystematic.[1] In philosophy, the study of knowledge is called epistemology;\\nthe philosopher Plato famously defined knowledge as \"justified true belief\",\\nthough \"well-justified true belief\" is more complete as it accounts for the\\nGettier problems. However, several definitions of knowledge and theories to\\nexplain it exist.\\n'"
      ]
     },
     "execution_count": 9,
     "metadata": {},
     "output_type": "execute_result"
    }
   ],
   "source": [
    "f = open('data/knowledge_wikipedia.txt')\n",
    "f.read()"
   ]
  },
  {
   "cell_type": "markdown",
   "metadata": {},
   "source": [
    "`'\\n'` characters are *newlines*; this is equivalent to pressing *Enter* on a keyboard and starting a new line."
   ]
  },
  {
   "cell_type": "code",
   "execution_count": 10,
   "metadata": {
    "collapsed": false
   },
   "outputs": [
    {
     "name": "stdout",
     "output_type": "stream",
     "text": [
      "Knowledge is a familiarity, awareness or understanding of someone or something,\n",
      "such as facts, information, descriptions, or skills, which is acquired through\n",
      "experience or education by perceiving, discovering, or learning. Knowledge can\n",
      "refer to a theoretical or practical understanding of a subject. It can be\n",
      "implicit (as with practical skill or expertise) or explicit (as with the\n",
      "theoretical understanding of a subject); it can be more or less formal or\n",
      "systematic.[1] In philosophy, the study of knowledge is called epistemology;\n",
      "the philosopher Plato famously defined knowledge as \"justified true belief\",\n",
      "though \"well-justified true belief\" is more complete as it accounts for the\n",
      "Gettier problems. However, several definitions of knowledge and theories to\n",
      "explain it exist.\n"
     ]
    }
   ],
   "source": [
    "f = open('data/knowledge_wikipedia.txt')\n",
    "for line in f:\n",
    "    print line.strip()"
   ]
  },
  {
   "cell_type": "markdown",
   "metadata": {},
   "source": [
    "The `strip` method removes the newline character at the end of the input line."
   ]
  },
  {
   "cell_type": "markdown",
   "metadata": {},
   "source": [
    "####Writing files\n",
    "1. Open the file in *write* mode\n",
    "2. Use the `write` function\n",
    "\n",
    "Examples:"
   ]
  },
  {
   "cell_type": "code",
   "execution_count": 11,
   "metadata": {
    "collapsed": true
   },
   "outputs": [],
   "source": [
    "fw = open('data/new_write_file.txt', 'w')\n",
    "fw.write('This is the first line.\\n')\n",
    "fw.write('This is the second line.\\n')"
   ]
  },
  {
   "cell_type": "markdown",
   "metadata": {},
   "source": [
    "####Reading and writing files\n",
    "1. Open the file in *append* mode\n",
    "2. Use the `write` function\n",
    "\n",
    "Examples:"
   ]
  },
  {
   "cell_type": "code",
   "execution_count": 12,
   "metadata": {
    "collapsed": true
   },
   "outputs": [],
   "source": [
    "fa = open('data/new_write_file.txt', 'a')\n",
    "fa.write('And this is the third line.\\n')"
   ]
  },
  {
   "cell_type": "markdown",
   "metadata": {},
   "source": [
    "####Closing files\n",
    "- After finishing processing a file, in both read or write mode, close the file\n",
    "- Use the `close` function\n",
    "\n",
    "Examples:"
   ]
  },
  {
   "cell_type": "code",
   "execution_count": 13,
   "metadata": {
    "collapsed": false
   },
   "outputs": [],
   "source": [
    "f.close()\n",
    "fr.close()\n",
    "fw.close()\n",
    "fa.close()"
   ]
  },
  {
   "cell_type": "markdown",
   "metadata": {},
   "source": [
    "####Exercise 1\n",
    "Write a function called `copy` that receives two arguments: a source path file and a destination path file, and copy the content of the source to the destination."
   ]
  },
  {
   "cell_type": "code",
   "execution_count": 14,
   "metadata": {
    "collapsed": true
   },
   "outputs": [],
   "source": [
    "def copy(src, dst):\n",
    "    fs = open(src, 'r')\n",
    "    fd = open(dst, 'w')\n",
    "    fd.write(fs.read())\n",
    "    fs.close()\n",
    "    fd.close()"
   ]
  },
  {
   "cell_type": "code",
   "execution_count": 15,
   "metadata": {
    "collapsed": true
   },
   "outputs": [],
   "source": [
    "copy('exercises/knowledge_clean.txt', 'exercises/knowledge_copy.txt')"
   ]
  },
  {
   "cell_type": "markdown",
   "metadata": {},
   "source": [
    "####Exercise 2\n",
    "Write a function that processes the file [knowledge_clean.txt](exercises/knowledge_clean.txt) (a cleaned from punctuation marks version of *knowledge_wikipedia.txt*) and prints all the words ending in *ing*."
   ]
  },
  {
   "cell_type": "code",
   "execution_count": 16,
   "metadata": {
    "collapsed": false
   },
   "outputs": [],
   "source": [
    "def ing():\n",
    "    for line in open('exercises/knowledge_clean.txt'):\n",
    "        for word in line.split():\n",
    "            if word.endswith('ing'):\n",
    "                print word"
   ]
  },
  {
   "cell_type": "code",
   "execution_count": 17,
   "metadata": {
    "collapsed": false
   },
   "outputs": [
    {
     "name": "stdout",
     "output_type": "stream",
     "text": [
      "understanding\n",
      "something\n",
      "perceiving\n",
      "discovering\n",
      "learning\n",
      "understanding\n",
      "understanding\n"
     ]
    }
   ],
   "source": [
    "ing()"
   ]
  },
  {
   "cell_type": "markdown",
   "metadata": {},
   "source": [
    "###CSV files\n",
    "\n",
    "Data analysis work often involves data tabulations. Python includes a library to handle files in CSV (comma-separated value), a common format that supports tabular data in plain-text form.\n",
    "\n",
    "Example: the file [lexicon.csv](data/lexicon.csv) contains linguistic data."
   ]
  },
  {
   "cell_type": "markdown",
   "metadata": {},
   "source": [
    "####CSV reader"
   ]
  },
  {
   "cell_type": "code",
   "execution_count": 18,
   "metadata": {
    "collapsed": false
   },
   "outputs": [
    {
     "name": "stdout",
     "output_type": "stream",
     "text": [
      "['sleep', 'sli:p', 'v.i', 'a condition of body and mind ...']\n",
      "['walk', 'wo:k', 'v.intr', 'progress by lifting and setting down each foot ...']\n"
     ]
    }
   ],
   "source": [
    "import csv\n",
    "\n",
    "csvfile = open('data/lexicon.csv')\n",
    "reader = csv.reader(\n",
    "    csvfile,\n",
    "    delimiter=',',\n",
    "    quotechar='\"'\n",
    ")\n",
    "#reader.next() #if it is necessary to skip the header\n",
    "for row in reader:\n",
    "    print row\n",
    "csvfile.close()"
   ]
  },
  {
   "cell_type": "markdown",
   "metadata": {},
   "source": [
    "####CSV writer"
   ]
  },
  {
   "cell_type": "code",
   "execution_count": 19,
   "metadata": {
    "collapsed": false
   },
   "outputs": [],
   "source": [
    "import csv\n",
    "\n",
    "csvfile = open('data/lexicon.csv', 'a')\n",
    "writer = csv.writer(\n",
    "    csvfile,\n",
    "    delimiter=',',\n",
    "    quotechar='\"',\n",
    "    quoting=csv.QUOTE_MINIMAL\n",
    ")\n",
    "writer.writerow(['wake', 'weik', 'intrans', 'cease to sleep, stop dreaming'])\n",
    "csvfile.close()"
   ]
  },
  {
   "cell_type": "markdown",
   "metadata": {},
   "source": [
    "####Exercise 3\n",
    "Given the random list of words in the file [random_words.txt](exercises/random_words.txt), create a CSV file called `random_words.csv` that contains the word, its length, and `long` if the word's length is greater than or equals to `10`."
   ]
  },
  {
   "cell_type": "code",
   "execution_count": 20,
   "metadata": {
    "collapsed": false
   },
   "outputs": [],
   "source": [
    "import csv\n",
    "\n",
    "csvfile = open('exercises/random_words.csv', 'w')\n",
    "writer = csv.writer(\n",
    "    csvfile,\n",
    "    delimiter=',',\n",
    "    quotechar='\"',\n",
    "    quoting=csv.QUOTE_MINIMAL\n",
    ")\n",
    "for line in open('exercises/random_words.txt'):\n",
    "    word = line.strip()\n",
    "    length = len(word)\n",
    "    if length >= 10:\n",
    "        info = 'long'\n",
    "    else:\n",
    "        info = 'short'\n",
    "    writer.writerow([word, length, info])\n",
    "csvfile.close()"
   ]
  },
  {
   "cell_type": "markdown",
   "metadata": {},
   "source": [
    "####Exercise 4\n",
    "Given the CSV file [random_words.csv](exercises/random_words.csv) created in the last exercise, print the rows that contain a *long* word."
   ]
  },
  {
   "cell_type": "code",
   "execution_count": 21,
   "metadata": {
    "collapsed": false
   },
   "outputs": [
    {
     "name": "stdout",
     "output_type": "stream",
     "text": [
      "['erythritol', '10', 'long']\n",
      "['unstitching', '11', 'long']\n",
      "['superexpenditure', '16', 'long']\n",
      "['hypostatically', '14', 'long']\n",
      "['corollaceous', '12', 'long']\n",
      "['limnologically', '14', 'long']\n",
      "['availableness', '13', 'long']\n",
      "['delamination', '12', 'long']\n",
      "['corynebacterium', '15', 'long']\n"
     ]
    }
   ],
   "source": [
    "import csv\n",
    "\n",
    "csvfile = open('exercises/random_words.csv')\n",
    "reader = csv.reader(\n",
    "    csvfile,\n",
    "    delimiter=',',\n",
    "    quotechar='\"'\n",
    ")\n",
    "for row in reader:\n",
    "    if row[2] == 'long':\n",
    "        print row\n",
    "csvfile.close()"
   ]
  },
  {
   "cell_type": "markdown",
   "metadata": {},
   "source": [
    "###Web files\n",
    "\n",
    "The module `urllib` provides a high-level interface for accessing data across the web. It is possible to open a file identified by its URL instead of its path and filename."
   ]
  },
  {
   "cell_type": "code",
   "execution_count": 22,
   "metadata": {
    "collapsed": false
   },
   "outputs": [
    {
     "name": "stdout",
     "output_type": "stream",
     "text": [
      "The Project Gutenberg EBook of Crime and Punishment, by Fyodor Dostoevsky\r\n",
      "\n",
      "\r\n",
      "\n",
      "This eBook is for the use of anyone anywhere at no cost and with\r\n",
      "\n",
      "almost no restrictions whatsoever.  You may copy it, give it away or\r\n",
      "\n",
      "re-use it under the terms of the Project Gutenberg License included\r\n",
      "\n",
      "with this eBook or online at www.gutenberg.org\r\n",
      "\n",
      "\r\n",
      "\n",
      "\r\n",
      "\n",
      "Title: Crime and Punishment\r\n",
      "\n",
      "\r\n",
      "\n",
      "Author: Fyodor Dostoevsky\r\n",
      "\n",
      "\r\n",
      "\n",
      "Release Date: March 28, 2006 [EBook #2554]\r\n",
      "\n",
      "[Last updated: November 15, 2011]\r\n",
      "\n",
      "\r\n",
      "\n",
      "Language: English\r\n",
      "\n",
      "\r\n",
      "\n",
      "Character set encoding: ASCII\r\n",
      "\n",
      "\r\n",
      "\n",
      "*** START OF THIS PROJECT GUTENBERG EBOOK CRIME AND PUNISHMENT ***\r\n",
      "\n"
     ]
    }
   ],
   "source": [
    "from urllib import urlopen\n",
    "\n",
    "f = urlopen('http://www.gutenberg.org/files/2554/2554.txt')\n",
    "counter = 1\n",
    "for line in f:\n",
    "    print line\n",
    "    if counter == 20:\n",
    "        break\n",
    "    counter += 1"
   ]
  },
  {
   "cell_type": "markdown",
   "metadata": {},
   "source": [
    "####Exercise 5\n",
    "All the ebooks from [Gutenberg Project](http://www.gutenberg.org/) have the same format. All of them contain metadata about themselves such as their title, author, release date, language, and encoding in their first 20 lines. Given the ebook contained in the url [http://www.gutenberg.org/files/2554/2554.txt](http://www.gutenberg.org/files/2554/2554.txt), print its title and author."
   ]
  },
  {
   "cell_type": "code",
   "execution_count": 23,
   "metadata": {
    "collapsed": false
   },
   "outputs": [
    {
     "name": "stdout",
     "output_type": "stream",
     "text": [
      "Title: Crime and Punishment\n",
      "Author: Fyodor Dostoevsky\n"
     ]
    }
   ],
   "source": [
    "from urllib import urlopen\n",
    "\n",
    "f = urlopen('http://www.gutenberg.org/files/2554/2554.txt')\n",
    "counter = 1\n",
    "for line in f:\n",
    "    if line.startswith('Title:') or line.startswith('Author:'):\n",
    "        print line.strip()\n",
    "    if counter == 20:\n",
    "        break\n",
    "    counter += 1"
   ]
  }
 ],
 "metadata": {
  "kernelspec": {
   "display_name": "Python 2",
   "language": "python",
   "name": "python2"
  },
  "language_info": {
   "codemirror_mode": {
    "name": "ipython",
    "version": 2
   },
   "file_extension": ".py",
   "mimetype": "text/x-python",
   "name": "python",
   "nbconvert_exporter": "python",
   "pygments_lexer": "ipython2",
   "version": "2.7.6"
  }
 },
 "nbformat": 4,
 "nbformat_minor": 0
}
