{
 "cells": [
  {
   "cell_type": "markdown",
   "metadata": {},
   "source": [
    "<div align=\"center\">\n",
    "    <h1><a href=\"index.ipynb\">Knowledge Discovery in Digital Humanities</a></h1>\n",
    "</div>"
   ]
  },
  {
   "cell_type": "markdown",
   "metadata": {},
   "source": [
    "<div align=\"center\">\n",
    "    <h2>Class 09. Mining Twitter</h2>\n",
    "    <img src=\"img/twitter-logo.png\" width=\"300\">\n",
    "</div>"
   ]
  },
  {
   "cell_type": "markdown",
   "metadata": {},
   "source": [
    "###Table of contents\n",
    "\n",
    "- [Why Twitter?](#Why-Twitter?)\n",
    "- [Connecting to Twitter](#Connecting-to-Twitter)\n",
    "- [Trending topics](#Trending-topics)\n",
    "- [Timelines](#Timelines)\n",
    "- [Searching for tweets](#Searching-for-tweets)\n",
    "- [Extracting information from tweets](#Extracting-information-from-tweets)"
   ]
  },
  {
   "cell_type": "markdown",
   "metadata": {},
   "source": [
    "###Why Twitter?\n",
    "\n",
    "[Twitter](http://twitter.com/) is as a microblogging service that allows people to communicate with 140-character messages (called *tweets*).\n",
    "\n",
    "- Tweets reflect people's thoughts in near real time\n",
    "\n",
    "Twitter's *following* system connects people and creates networks. Its asymmetric model allow users to follow any other user even if there is no reciprocation, unlike other social media like Facebook and LinkedIn, that require the mutual acceptance of a connection between users (which usually implies a some kind of real-world connection).\n",
    "\n",
    "- Twitter's asymmetric *following* model allows people to keep up with their interests\n",
    "\n",
    "Interest graphs are a way of modeling connections between people and their interests. Interest graphs can be mined in order to measure correlations between users and interests and make recommendations ranging from whom to follow on Twitter to what to purchase online to whom you should date.\n",
    "\n",
    "- Mining Twitter provides a way to discover people's opinions and interests "
   ]
  },
  {
   "cell_type": "markdown",
   "metadata": {},
   "source": [
    "###Connecting to Twitter\n",
    "\n",
    "1. Create an app on Twitter\n",
    "    1. Go to [https://apps.twitter.com/](https://apps.twitter.com/)\n",
    "    2. Login with your user account\n",
    "    3. Click on Create new app\n",
    "    4. Fill in the form, accept the agreement and click on Create your Twitter application\n",
    "    5. Go to Keys and Access Tokens tab\n",
    "    6. Scroll down and click on Create my access token\n",
    "    7. Create a script named `credentials.py` (do not share it with anyone else) than contains this code:\n",
    "```\n",
    "TW_CONSUMER_KEY = 'Consumer Key (API Key)'\n",
    "TW_CONSUMER_SECRET = 'Consumer Secret (API Secret)'\n",
    "TW_ACCESS_TOKEN = 'Access Token'\n",
    "TW_ACCESS_TOKEN_SECRET = 'Access Token Secret'\n",
    "```\n",
    "2. Authorize your application to access Twitter"
   ]
  },
  {
   "cell_type": "code",
   "execution_count": 1,
   "metadata": {
    "collapsed": true
   },
   "outputs": [],
   "source": [
    "import credentials\n",
    "import tweepy\n",
    "\n",
    "CONSUMER_KEY = credentials.TW_CONSUMER_KEY\n",
    "CONSUMER_SECRET = credentials.TW_CONSUMER_SECRET\n",
    "ACCESS_TOKEN = credentials.TW_ACCESS_TOKEN\n",
    "ACCESS_TOKEN_SECRET = credentials.TW_ACCESS_TOKEN_SECRET\n",
    "\n",
    "auth = tweepy.OAuthHandler(CONSUMER_KEY, CONSUMER_SECRET)\n",
    "auth.set_access_token(ACCESS_TOKEN, ACCESS_TOKEN_SECRET)\n",
    "\n",
    "twitter_api = tweepy.API(auth)"
   ]
  },
  {
   "cell_type": "code",
   "execution_count": 2,
   "metadata": {
    "collapsed": false
   },
   "outputs": [],
   "source": [
    "# Auxiliar function to print json in a human-readable format\n",
    "import json\n",
    "\n",
    "def print_friendly_json(js):\n",
    "    if isinstance(js, tweepy.models.Status):\n",
    "        js = js.__dict__['_json']\n",
    "    print json.dumps(js, indent=2)"
   ]
  },
  {
   "cell_type": "markdown",
   "metadata": {},
   "source": [
    "###Trending topics\n",
    "\n",
    "Trending topics are topics that are popular *now*. Location specified by WOEID ([Yahoo! GeoPlanet](https://developer.yahoo.com/geo/geoplanet/)'s Where On Earth ID).\n",
    "\n",
    "####Global"
   ]
  },
  {
   "cell_type": "code",
   "execution_count": 3,
   "metadata": {
    "collapsed": false
   },
   "outputs": [
    {
     "name": "stdout",
     "output_type": "stream",
     "text": [
      "[\n",
      "  {\n",
      "    \"created_at\": \"2015-04-05T18:22:47Z\", \n",
      "    \"trends\": [\n",
      "      {\n",
      "        \"url\": \"http://twitter.com/search?q=%22Happy+Easter%22\", \n",
      "        \"query\": \"%22Happy+Easter%22\", \n",
      "        \"name\": \"Happy Easter\", \n",
      "        \"promoted_content\": null\n",
      "      }, \n",
      "      {\n",
      "        \"url\": \"http://twitter.com/search?q=%23HalkMeydanOkuyacak\", \n",
      "        \"query\": \"%23HalkMeydanOkuyacak\", \n",
      "        \"name\": \"#HalkMeydanOkuyacak\", \n",
      "        \"promoted_content\": null\n",
      "      }, \n",
      "      {\n",
      "        \"url\": \"http://twitter.com/search?q=%23%EB%95%A1%ED%81%90%EB%A6%B4%EB%A0%88%EC%9D%B4\", \n",
      "        \"query\": \"%23%EB%95%A1%ED%81%90%EB%A6%B4%EB%A0%88%EC%9D%B4\", \n",
      "        \"name\": \"#\\ub561\\ud050\\ub9b4\\ub808\\uc774\", \n",
      "        \"promoted_content\": null\n",
      "      }, \n",
      "      {\n",
      "        \"url\": \"http://twitter.com/search?q=%23OMPSG\", \n",
      "        \"query\": \"%23OMPSG\", \n",
      "        \"name\": \"#OMPSG\", \n",
      "        \"promoted_content\": null\n",
      "      }, \n",
      "      {\n",
      "        \"url\": \"http://twitter.com/search?q=%23VamosLaU\", \n",
      "        \"query\": \"%23VamosLaU\", \n",
      "        \"name\": \"#VamosLaU\", \n",
      "        \"promoted_content\": null\n",
      "      }, \n",
      "      {\n",
      "        \"url\": \"http://twitter.com/search?q=Defoe\", \n",
      "        \"query\": \"Defoe\", \n",
      "        \"name\": \"Defoe\", \n",
      "        \"promoted_content\": null\n",
      "      }, \n",
      "      {\n",
      "        \"url\": \"http://twitter.com/search?q=%23DomingoConBoca\", \n",
      "        \"query\": \"%23DomingoConBoca\", \n",
      "        \"name\": \"#DomingoConBoca\", \n",
      "        \"promoted_content\": null\n",
      "      }, \n",
      "      {\n",
      "        \"url\": \"http://twitter.com/search?q=Sunderland\", \n",
      "        \"query\": \"Sunderland\", \n",
      "        \"name\": \"Sunderland\", \n",
      "        \"promoted_content\": null\n",
      "      }, \n",
      "      {\n",
      "        \"url\": \"http://twitter.com/search?q=%22American+Oxygen%22\", \n",
      "        \"query\": \"%22American+Oxygen%22\", \n",
      "        \"name\": \"American Oxygen\", \n",
      "        \"promoted_content\": null\n",
      "      }, \n",
      "      {\n",
      "        \"url\": \"http://twitter.com/search?q=Newcastle\", \n",
      "        \"query\": \"Newcastle\", \n",
      "        \"name\": \"Newcastle\", \n",
      "        \"promoted_content\": null\n",
      "      }\n",
      "    ], \n",
      "    \"as_of\": \"2015-04-05T18:27:31Z\", \n",
      "    \"locations\": [\n",
      "      {\n",
      "        \"woeid\": 1, \n",
      "        \"name\": \"Worldwide\"\n",
      "      }\n",
      "    ]\n",
      "  }\n",
      "]\n"
     ]
    }
   ],
   "source": [
    "WORLD_WOEID = 1 # Worldwide\n",
    "global_trends = twitter_api.trends_place(WORLD_WOEID) \n",
    "print_friendly_json(global_trends)"
   ]
  },
  {
   "cell_type": "markdown",
   "metadata": {},
   "source": [
    "####Specific location"
   ]
  },
  {
   "cell_type": "code",
   "execution_count": 4,
   "metadata": {
    "collapsed": false
   },
   "outputs": [
    {
     "name": "stdout",
     "output_type": "stream",
     "text": [
      "[\n",
      "  {\n",
      "    \"created_at\": \"2015-04-05T18:22:47Z\", \n",
      "    \"trends\": [\n",
      "      {\n",
      "        \"url\": \"http://twitter.com/search?q=%22Happy+Easter%22\", \n",
      "        \"query\": \"%22Happy+Easter%22\", \n",
      "        \"name\": \"Happy Easter\", \n",
      "        \"promoted_content\": null\n",
      "      }, \n",
      "      {\n",
      "        \"url\": \"http://twitter.com/search?q=%22Joyeuses+P%C3%A2ques%22\", \n",
      "        \"query\": \"%22Joyeuses+P%C3%A2ques%22\", \n",
      "        \"name\": \"Joyeuses P\\u00e2ques\", \n",
      "        \"promoted_content\": null\n",
      "      }, \n",
      "      {\n",
      "        \"url\": \"http://twitter.com/search?q=%23JesusPickUpLines\", \n",
      "        \"query\": \"%23JesusPickUpLines\", \n",
      "        \"name\": \"#JesusPickUpLines\", \n",
      "        \"promoted_content\": null\n",
      "      }, \n",
      "      {\n",
      "        \"url\": \"http://twitter.com/search?q=%23SuperSoulSunday\", \n",
      "        \"query\": \"%23SuperSoulSunday\", \n",
      "        \"name\": \"#SuperSoulSunday\", \n",
      "        \"promoted_content\": null\n",
      "      }, \n",
      "      {\n",
      "        \"url\": \"http://twitter.com/search?q=%22American+Oxygen%22\", \n",
      "        \"query\": \"%22American+Oxygen%22\", \n",
      "        \"name\": \"American Oxygen\", \n",
      "        \"promoted_content\": null\n",
      "      }, \n",
      "      {\n",
      "        \"url\": \"http://twitter.com/search?q=%23PITvsPHI\", \n",
      "        \"query\": \"%23PITvsPHI\", \n",
      "        \"name\": \"#PITvsPHI\", \n",
      "        \"promoted_content\": null\n",
      "      }, \n",
      "      {\n",
      "        \"url\": \"http://twitter.com/search?q=Defoe\", \n",
      "        \"query\": \"Defoe\", \n",
      "        \"name\": \"Defoe\", \n",
      "        \"promoted_content\": null\n",
      "      }, \n",
      "      {\n",
      "        \"url\": \"http://twitter.com/search?q=%22He+is+Risen%22\", \n",
      "        \"query\": \"%22He+is+Risen%22\", \n",
      "        \"name\": \"He is Risen\", \n",
      "        \"promoted_content\": null\n",
      "      }, \n",
      "      {\n",
      "        \"url\": \"http://twitter.com/search?q=Pens\", \n",
      "        \"query\": \"Pens\", \n",
      "        \"name\": \"Pens\", \n",
      "        \"promoted_content\": null\n",
      "      }, \n",
      "      {\n",
      "        \"url\": \"http://twitter.com/search?q=%23IfBandsWereChocolate\", \n",
      "        \"query\": \"%23IfBandsWereChocolate\", \n",
      "        \"name\": \"#IfBandsWereChocolate\", \n",
      "        \"promoted_content\": null\n",
      "      }\n",
      "    ], \n",
      "    \"as_of\": \"2015-04-05T18:27:31Z\", \n",
      "    \"locations\": [\n",
      "      {\n",
      "        \"woeid\": 23424775, \n",
      "        \"name\": \"Canada\"\n",
      "      }\n",
      "    ]\n",
      "  }\n",
      "]\n"
     ]
    }
   ],
   "source": [
    "CA_WOEID = 23424775 # Canada\n",
    "ca_trends = twitter_api.trends_place(CA_WOEID)\n",
    "print_friendly_json(ca_trends)"
   ]
  },
  {
   "cell_type": "markdown",
   "metadata": {},
   "source": [
    "####Closeness"
   ]
  },
  {
   "cell_type": "code",
   "execution_count": 5,
   "metadata": {
    "collapsed": false
   },
   "outputs": [
    {
     "name": "stdout",
     "output_type": "stream",
     "text": [
      "[\n",
      "  {\n",
      "    \"name\": \"Detroit\", \n",
      "    \"countryCode\": \"US\", \n",
      "    \"url\": \"http://where.yahooapis.com/v1/place/2391585\", \n",
      "    \"country\": \"United States\", \n",
      "    \"parentid\": 23424977, \n",
      "    \"placeType\": {\n",
      "      \"code\": 7, \n",
      "      \"name\": \"Town\"\n",
      "    }, \n",
      "    \"woeid\": 2391585\n",
      "  }\n",
      "]\n"
     ]
    }
   ],
   "source": [
    "coordinates = (42.9837, -81.2497) # London ON\n",
    "close_places = twitter_api.trends_closest(coordinates[0], coordinates[1])  \n",
    "print_friendly_json(close_places)"
   ]
  },
  {
   "cell_type": "code",
   "execution_count": 6,
   "metadata": {
    "collapsed": false
   },
   "outputs": [
    {
     "name": "stdout",
     "output_type": "stream",
     "text": [
      "[\n",
      "  {\n",
      "    \"created_at\": \"2015-04-05T18:22:47Z\", \n",
      "    \"trends\": [\n",
      "      {\n",
      "        \"url\": \"http://twitter.com/search?q=%22Happy+Easter%22\", \n",
      "        \"query\": \"%22Happy+Easter%22\", \n",
      "        \"name\": \"Happy Easter\", \n",
      "        \"promoted_content\": null\n",
      "      }, \n",
      "      {\n",
      "        \"url\": \"http://twitter.com/search?q=Kendrick\", \n",
      "        \"query\": \"Kendrick\", \n",
      "        \"name\": \"Kendrick\", \n",
      "        \"promoted_content\": null\n",
      "      }, \n",
      "      {\n",
      "        \"url\": \"http://twitter.com/search?q=%23ResurrectionSunday\", \n",
      "        \"query\": \"%23ResurrectionSunday\", \n",
      "        \"name\": \"#ResurrectionSunday\", \n",
      "        \"promoted_content\": null\n",
      "      }, \n",
      "      {\n",
      "        \"url\": \"http://twitter.com/search?q=%22Kirk+Franklin%22\", \n",
      "        \"query\": \"%22Kirk+Franklin%22\", \n",
      "        \"name\": \"Kirk Franklin\", \n",
      "        \"promoted_content\": null\n",
      "      }, \n",
      "      {\n",
      "        \"url\": \"http://twitter.com/search?q=%23JesusPickUpLines\", \n",
      "        \"query\": \"%23JesusPickUpLines\", \n",
      "        \"name\": \"#JesusPickUpLines\", \n",
      "        \"promoted_content\": null\n",
      "      }, \n",
      "      {\n",
      "        \"url\": \"http://twitter.com/search?q=%23NBAMVP\", \n",
      "        \"query\": \"%23NBAMVP\", \n",
      "        \"name\": \"#NBAMVP\", \n",
      "        \"promoted_content\": null\n",
      "      }, \n",
      "      {\n",
      "        \"url\": \"http://twitter.com/search?q=%23SelfieForJack\", \n",
      "        \"query\": \"%23SelfieForJack\", \n",
      "        \"name\": \"#SelfieForJack\", \n",
      "        \"promoted_content\": null\n",
      "      }, \n",
      "      {\n",
      "        \"url\": \"http://twitter.com/search?q=%23ElderHolland\", \n",
      "        \"query\": \"%23ElderHolland\", \n",
      "        \"name\": \"#ElderHolland\", \n",
      "        \"promoted_content\": null\n",
      "      }, \n",
      "      {\n",
      "        \"url\": \"http://twitter.com/search?q=%22American+Oxygen%22\", \n",
      "        \"query\": \"%22American+Oxygen%22\", \n",
      "        \"name\": \"American Oxygen\", \n",
      "        \"promoted_content\": null\n",
      "      }, \n",
      "      {\n",
      "        \"url\": \"http://twitter.com/search?q=%22Steve+Mason%22\", \n",
      "        \"query\": \"%22Steve+Mason%22\", \n",
      "        \"name\": \"Steve Mason\", \n",
      "        \"promoted_content\": null\n",
      "      }\n",
      "    ], \n",
      "    \"as_of\": \"2015-04-05T18:27:31Z\", \n",
      "    \"locations\": [\n",
      "      {\n",
      "        \"woeid\": 2391585, \n",
      "        \"name\": \"Detroit\"\n",
      "      }\n",
      "    ]\n",
      "  }\n",
      "]\n"
     ]
    }
   ],
   "source": [
    "trends = []\n",
    "for place in close_places:\n",
    "    woeid = place['woeid']\n",
    "    trends.append(twitter_api.trends_place(woeid))\n",
    "\n",
    "for trend in trends:\n",
    "    print_friendly_json(trend)"
   ]
  },
  {
   "cell_type": "markdown",
   "metadata": {},
   "source": [
    "####Exercise 1\n",
    "What Canadian trending topics are worldwide trending topics?\n",
    "1. Calculate the set of global trending topics (use list comprehensions)\n",
    "2. Calculate the set of Canadian trending topics (use list comprehensions)\n",
    "3. Calculate the intersection of both sets"
   ]
  },
  {
   "cell_type": "code",
   "execution_count": 7,
   "metadata": {
    "collapsed": false
   },
   "outputs": [
    {
     "name": "stdout",
     "output_type": "stream",
     "text": [
      "set([u'Defoe', u'Happy Easter', u'American Oxygen'])\n"
     ]
    }
   ],
   "source": [
    "global_trends_list = [trend['name'] for trend in global_trends[0]['trends']]\n",
    "global_trends_set = set(global_trends_list)\n",
    "\n",
    "ca_trends_list = [trend['name'] for trend in ca_trends[0]['trends']]\n",
    "ca_trends_set = set(ca_trends_list)\n",
    "\n",
    "common_trends_set = ca_trends_set.intersection(global_trends_set)\n",
    "print common_trends_set"
   ]
  },
  {
   "cell_type": "markdown",
   "metadata": {},
   "source": [
    "###Timelines\n",
    "\n",
    "A timeline is a collection of tweets ordered from the most recent to the oldest.\n",
    "\n",
    "####Home timeline\n",
    "It is your own timeline."
   ]
  },
  {
   "cell_type": "code",
   "execution_count": 8,
   "metadata": {
    "collapsed": false
   },
   "outputs": [],
   "source": [
    "home_timeline = twitter_api.home_timeline()"
   ]
  },
  {
   "cell_type": "markdown",
   "metadata": {},
   "source": [
    "Most recent tweet or status:"
   ]
  },
  {
   "cell_type": "code",
   "execution_count": 9,
   "metadata": {
    "collapsed": false
   },
   "outputs": [
    {
     "data": {
      "text/plain": [
       "u\"Cat only seems to puke when I'm away. Can't tell if he's (a) extra anxious; (b) extra lonely; or (c) plotting against all catsitters.\""
      ]
     },
     "execution_count": 9,
     "metadata": {},
     "output_type": "execute_result"
    }
   ],
   "source": [
    "th = home_timeline[0]\n",
    "th.text"
   ]
  },
  {
   "cell_type": "markdown",
   "metadata": {},
   "source": [
    "####User's timeline\n",
    "A specific user's timeline."
   ]
  },
  {
   "cell_type": "code",
   "execution_count": 10,
   "metadata": {
    "collapsed": false
   },
   "outputs": [],
   "source": [
    "user_timeline = twitter_api.user_timeline('suarez_juanluis')"
   ]
  },
  {
   "cell_type": "markdown",
   "metadata": {},
   "source": [
    "Most recent tweet:"
   ]
  },
  {
   "cell_type": "code",
   "execution_count": 11,
   "metadata": {
    "collapsed": false
   },
   "outputs": [
    {
     "data": {
      "text/plain": [
       "u'RT @FMAPFREHistoria: Libro: \"Fiesta rito y pol\\xedtica. Del Chile borb\\xf3nico al republicano\" de Jaime Valenzuela. V\\xeda @Historia_UC http://t.co/\\u2026'"
      ]
     },
     "execution_count": 11,
     "metadata": {},
     "output_type": "execute_result"
    }
   ],
   "source": [
    "tu = user_timeline[0]\n",
    "tu.text"
   ]
  },
  {
   "cell_type": "markdown",
   "metadata": {
    "collapsed": false
   },
   "source": [
    "####Mentions timeline\n",
    "Tweets that contain your *@username*."
   ]
  },
  {
   "cell_type": "code",
   "execution_count": 12,
   "metadata": {
    "collapsed": true
   },
   "outputs": [],
   "source": [
    "mentions_timeline = twitter_api.mentions_timeline()"
   ]
  },
  {
   "cell_type": "markdown",
   "metadata": {},
   "source": [
    "Most recent tweet:"
   ]
  },
  {
   "cell_type": "code",
   "execution_count": 13,
   "metadata": {
    "collapsed": false
   },
   "outputs": [
    {
     "data": {
      "text/plain": [
       "u'@mavillard @nandi_d @n_mejiacaldas buen viaje! Hope to see you all again soon...#dhsi2015?'"
      ]
     },
     "execution_count": 13,
     "metadata": {},
     "output_type": "execute_result"
    }
   ],
   "source": [
    "tm = mentions_timeline[0]\n",
    "tm.text"
   ]
  },
  {
   "cell_type": "markdown",
   "metadata": {},
   "source": [
    "####Retweets timeline\n",
    "Tweets that have been retweeted by others."
   ]
  },
  {
   "cell_type": "code",
   "execution_count": 14,
   "metadata": {
    "collapsed": true
   },
   "outputs": [],
   "source": [
    "retweets_timeline = twitter_api.retweets_of_me()"
   ]
  },
  {
   "cell_type": "markdown",
   "metadata": {},
   "source": [
    "Most recent tweet:"
   ]
  },
  {
   "cell_type": "code",
   "execution_count": 15,
   "metadata": {
    "collapsed": false
   },
   "outputs": [
    {
     "data": {
      "text/plain": [
       "u'@versae and beauty at #dh2014 http://t.co/zIqJHTepVj'"
      ]
     },
     "execution_count": 15,
     "metadata": {},
     "output_type": "execute_result"
    }
   ],
   "source": [
    "tr = retweets_timeline[0]\n",
    "tr.text"
   ]
  },
  {
   "cell_type": "markdown",
   "metadata": {},
   "source": [
    "####Exercise 2\n",
    "Get the name of the users that have retweeted your tweets."
   ]
  },
  {
   "cell_type": "code",
   "execution_count": 16,
   "metadata": {
    "collapsed": false
   },
   "outputs": [
    {
     "data": {
      "text/plain": [
       "{u'antimony27',\n",
       " u'barrywellman',\n",
       " u'dhgermany',\n",
       " u'jamescosullivan',\n",
       " u'jborrego',\n",
       " u'marybethstart',\n",
       " u'mirian_se',\n",
       " u'nandodlrp',\n",
       " u'quiohqui',\n",
       " u'suarez_juanluis',\n",
       " u'versae',\n",
       " u'vlmavillard'}"
      ]
     },
     "execution_count": 16,
     "metadata": {},
     "output_type": "execute_result"
    }
   ],
   "source": [
    "set([t.user.screen_name for tr in retweets_timeline for t in tr.retweets()])"
   ]
  },
  {
   "cell_type": "markdown",
   "metadata": {},
   "source": [
    "###Searching for tweets\n",
    "\n",
    "- *Cursor* approach instead of *pagination*\n",
    "- Due to the highly dynamic state of Twitter resources (more information about *cursor vs pagination* [here](https://dev.twitter.com/rest/public/timelines))\n",
    "- Search results contain a field named `next_results` that embeds a string that provides the basis of a subsequent query\n",
    "\n",
    "Search for a trending topic, or anything else for that matter (variable `q`)."
   ]
  },
  {
   "cell_type": "code",
   "execution_count": 17,
   "metadata": {
    "collapsed": false
   },
   "outputs": [
    {
     "name": "stdout",
     "output_type": "stream",
     "text": [
      "Total tweets retrieved: 100\n",
      "Total tweets retrieved: 200\n",
      "Total tweets retrieved: 300\n",
      "Total tweets retrieved: 400\n",
      "Total tweets retrieved: 500\n"
     ]
    }
   ],
   "source": [
    "q = 'Wisconsin' \n",
    "count = 100\n",
    "search_results = twitter_api.search(q=q, count=count)\n",
    "tweets = search_results\n",
    "\n",
    "# Iterate through 5 more batches of results by following the cursor\n",
    "for _ in range(5):\n",
    "    print \"Total tweets retrieved:\", len(tweets)\n",
    "    next_results = search_results.next_results\n",
    "    # No more results when next_results is None\n",
    "    # If next_results exists, search again\n",
    "    # next_results has the following form:\n",
    "    # ?max_id=313519052523986943&q=NCAA&include_entities=1\n",
    "    # Unpacking the values in a dictionary into keyword arguments\n",
    "    # for the next search\n",
    "    if next_results:\n",
    "        kwargs = dict([ kw.split('=') for kw in next_results[1:].split(\"&\") ])\n",
    "        search_results = twitter_api.search(**kwargs)\n",
    "        tweets += search_results"
   ]
  },
  {
   "cell_type": "code",
   "execution_count": 18,
   "metadata": {
    "collapsed": false,
    "scrolled": false
   },
   "outputs": [
    {
     "name": "stdout",
     "output_type": "stream",
     "text": [
      "{\n",
      "  \"contributors\": null, \n",
      "  \"truncated\": false, \n",
      "  \"text\": \"RT @WeLoveRobDyrdek: RT for Wisconsin \\nFAV for Kentucky http://t.co/QYDGexA8Pd\", \n",
      "  \"in_reply_to_status_id\": null, \n",
      "  \"id\": 584784383091077120, \n",
      "  \"favorite_count\": 0, \n",
      "  \"source\": \"<a href=\\\"http://twitter.com/download/iphone\\\" rel=\\\"nofollow\\\">Twitter for iPhone</a>\", \n",
      "  \"retweeted\": false, \n",
      "  \"coordinates\": null, \n",
      "  \"entities\": {\n",
      "    \"symbols\": [], \n",
      "    \"user_mentions\": [\n",
      "      {\n",
      "        \"id\": 2238576858, \n",
      "        \"indices\": [\n",
      "          3, \n",
      "          19\n",
      "        ], \n",
      "        \"id_str\": \"2238576858\", \n",
      "        \"screen_name\": \"WeLoveRobDyrdek\", \n",
      "        \"name\": \"Ridiculousness\"\n",
      "      }\n",
      "    ], \n",
      "    \"hashtags\": [], \n",
      "    \"urls\": [], \n",
      "    \"media\": [\n",
      "      {\n",
      "        \"source_user_id\": 2238576858, \n",
      "        \"source_status_id_str\": \"584545963873673216\", \n",
      "        \"expanded_url\": \"http://twitter.com/WeLoveRobDyrdek/status/584545963873673216/photo/1\", \n",
      "        \"display_url\": \"pic.twitter.com/QYDGexA8Pd\", \n",
      "        \"url\": \"http://t.co/QYDGexA8Pd\", \n",
      "        \"media_url_https\": \"https://pbs.twimg.com/media/CBy5c0nUoAA4z8Y.jpg\", \n",
      "        \"source_user_id_str\": \"2238576858\", \n",
      "        \"source_status_id\": 584545963873673216, \n",
      "        \"id_str\": \"584545956462370816\", \n",
      "        \"sizes\": {\n",
      "          \"small\": {\n",
      "            \"h\": 255, \n",
      "            \"resize\": \"fit\", \n",
      "            \"w\": 340\n",
      "          }, \n",
      "          \"large\": {\n",
      "            \"h\": 444, \n",
      "            \"resize\": \"fit\", \n",
      "            \"w\": 592\n",
      "          }, \n",
      "          \"medium\": {\n",
      "            \"h\": 444, \n",
      "            \"resize\": \"fit\", \n",
      "            \"w\": 592\n",
      "          }, \n",
      "          \"thumb\": {\n",
      "            \"h\": 150, \n",
      "            \"resize\": \"crop\", \n",
      "            \"w\": 150\n",
      "          }\n",
      "        }, \n",
      "        \"indices\": [\n",
      "          56, \n",
      "          78\n",
      "        ], \n",
      "        \"type\": \"photo\", \n",
      "        \"id\": 584545956462370816, \n",
      "        \"media_url\": \"http://pbs.twimg.com/media/CBy5c0nUoAA4z8Y.jpg\"\n",
      "      }\n",
      "    ]\n",
      "  }, \n",
      "  \"in_reply_to_screen_name\": null, \n",
      "  \"in_reply_to_user_id\": null, \n",
      "  \"retweet_count\": 1280, \n",
      "  \"id_str\": \"584784383091077120\", \n",
      "  \"favorited\": false, \n",
      "  \"retweeted_status\": {\n",
      "    \"contributors\": null, \n",
      "    \"truncated\": false, \n",
      "    \"text\": \"RT for Wisconsin \\nFAV for Kentucky http://t.co/QYDGexA8Pd\", \n",
      "    \"in_reply_to_status_id\": null, \n",
      "    \"id\": 584545963873673216, \n",
      "    \"favorite_count\": 2058, \n",
      "    \"source\": \"<a href=\\\"http://twitter.com/download/iphone\\\" rel=\\\"nofollow\\\">Twitter for iPhone</a>\", \n",
      "    \"retweeted\": false, \n",
      "    \"coordinates\": null, \n",
      "    \"entities\": {\n",
      "      \"symbols\": [], \n",
      "      \"user_mentions\": [], \n",
      "      \"hashtags\": [], \n",
      "      \"urls\": [], \n",
      "      \"media\": [\n",
      "        {\n",
      "          \"expanded_url\": \"http://twitter.com/WeLoveRobDyrdek/status/584545963873673216/photo/1\", \n",
      "          \"display_url\": \"pic.twitter.com/QYDGexA8Pd\", \n",
      "          \"url\": \"http://t.co/QYDGexA8Pd\", \n",
      "          \"media_url_https\": \"https://pbs.twimg.com/media/CBy5c0nUoAA4z8Y.jpg\", \n",
      "          \"id_str\": \"584545956462370816\", \n",
      "          \"sizes\": {\n",
      "            \"small\": {\n",
      "              \"h\": 255, \n",
      "              \"resize\": \"fit\", \n",
      "              \"w\": 340\n",
      "            }, \n",
      "            \"large\": {\n",
      "              \"h\": 444, \n",
      "              \"resize\": \"fit\", \n",
      "              \"w\": 592\n",
      "            }, \n",
      "            \"medium\": {\n",
      "              \"h\": 444, \n",
      "              \"resize\": \"fit\", \n",
      "              \"w\": 592\n",
      "            }, \n",
      "            \"thumb\": {\n",
      "              \"h\": 150, \n",
      "              \"resize\": \"crop\", \n",
      "              \"w\": 150\n",
      "            }\n",
      "          }, \n",
      "          \"indices\": [\n",
      "            35, \n",
      "            57\n",
      "          ], \n",
      "          \"type\": \"photo\", \n",
      "          \"id\": 584545956462370816, \n",
      "          \"media_url\": \"http://pbs.twimg.com/media/CBy5c0nUoAA4z8Y.jpg\"\n",
      "        }\n",
      "      ]\n",
      "    }, \n",
      "    \"in_reply_to_screen_name\": null, \n",
      "    \"in_reply_to_user_id\": null, \n",
      "    \"retweet_count\": 1280, \n",
      "    \"id_str\": \"584545963873673216\", \n",
      "    \"favorited\": false, \n",
      "    \"user\": {\n",
      "      \"follow_request_sent\": false, \n",
      "      \"profile_use_background_image\": true, \n",
      "      \"profile_text_color\": \"333333\", \n",
      "      \"default_profile_image\": false, \n",
      "      \"id\": 2238576858, \n",
      "      \"profile_background_image_url_https\": \"https://abs.twimg.com/images/themes/theme1/bg.png\", \n",
      "      \"verified\": false, \n",
      "      \"profile_location\": null, \n",
      "      \"profile_image_url_https\": \"https://pbs.twimg.com/profile_images/429678438765445120/rtZYrgTJ_normal.jpeg\", \n",
      "      \"profile_sidebar_fill_color\": \"DDEEF6\", \n",
      "      \"entities\": {\n",
      "        \"description\": {\n",
      "          \"urls\": []\n",
      "        }\n",
      "      }, \n",
      "      \"followers_count\": 774190, \n",
      "      \"profile_sidebar_border_color\": \"C0DEED\", \n",
      "      \"id_str\": \"2238576858\", \n",
      "      \"profile_background_color\": \"C0DEED\", \n",
      "      \"listed_count\": 363, \n",
      "      \"is_translation_enabled\": false, \n",
      "      \"utc_offset\": -18000, \n",
      "      \"statuses_count\": 8335, \n",
      "      \"description\": \"*posting ALL of the most ridiculous content* *not affiliated with @MTV's @Ridiculousness* *we do not own any of the content posted* *fan/parody account*\", \n",
      "      \"friends_count\": 0, \n",
      "      \"location\": \"warning:18+ content\", \n",
      "      \"profile_link_color\": \"0084B4\", \n",
      "      \"profile_image_url\": \"http://pbs.twimg.com/profile_images/429678438765445120/rtZYrgTJ_normal.jpeg\", \n",
      "      \"following\": false, \n",
      "      \"geo_enabled\": false, \n",
      "      \"profile_banner_url\": \"https://pbs.twimg.com/profile_banners/2238576858/1391278298\", \n",
      "      \"profile_background_image_url\": \"http://abs.twimg.com/images/themes/theme1/bg.png\", \n",
      "      \"name\": \"Ridiculousness\", \n",
      "      \"lang\": \"en\", \n",
      "      \"profile_background_tile\": false, \n",
      "      \"favourites_count\": 165, \n",
      "      \"screen_name\": \"WeLoveRobDyrdek\", \n",
      "      \"notifications\": false, \n",
      "      \"url\": null, \n",
      "      \"created_at\": \"Tue Dec 10 04:24:51 +0000 2013\", \n",
      "      \"contributors_enabled\": false, \n",
      "      \"time_zone\": \"Central Time (US & Canada)\", \n",
      "      \"protected\": false, \n",
      "      \"default_profile\": true, \n",
      "      \"is_translator\": false\n",
      "    }, \n",
      "    \"geo\": null, \n",
      "    \"in_reply_to_user_id_str\": null, \n",
      "    \"possibly_sensitive\": true, \n",
      "    \"lang\": \"en\", \n",
      "    \"created_at\": \"Sun Apr 05 02:39:52 +0000 2015\", \n",
      "    \"in_reply_to_status_id_str\": null, \n",
      "    \"place\": null, \n",
      "    \"metadata\": {\n",
      "      \"iso_language_code\": \"en\", \n",
      "      \"result_type\": \"recent\"\n",
      "    }\n",
      "  }, \n",
      "  \"user\": {\n",
      "    \"follow_request_sent\": false, \n",
      "    \"profile_use_background_image\": true, \n",
      "    \"profile_text_color\": \"333333\", \n",
      "    \"default_profile_image\": false, \n",
      "    \"id\": 1087468039, \n",
      "    \"profile_background_image_url_https\": \"https://abs.twimg.com/images/themes/theme1/bg.png\", \n",
      "    \"verified\": false, \n",
      "    \"profile_location\": null, \n",
      "    \"profile_image_url_https\": \"https://pbs.twimg.com/profile_images/559387397646188545/5T7ov2Z3_normal.jpeg\", \n",
      "    \"profile_sidebar_fill_color\": \"DDEEF6\", \n",
      "    \"entities\": {\n",
      "      \"description\": {\n",
      "        \"urls\": []\n",
      "      }\n",
      "    }, \n",
      "    \"followers_count\": 149, \n",
      "    \"profile_sidebar_border_color\": \"C0DEED\", \n",
      "    \"id_str\": \"1087468039\", \n",
      "    \"profile_background_color\": \"C0DEED\", \n",
      "    \"listed_count\": 0, \n",
      "    \"is_translation_enabled\": false, \n",
      "    \"utc_offset\": null, \n",
      "    \"statuses_count\": 122, \n",
      "    \"description\": \"\\u2022 PARTY \\u2022 BASEBALL \\u2022 20 \\u2022 FOOTBALL\", \n",
      "    \"friends_count\": 274, \n",
      "    \"location\": \"\", \n",
      "    \"profile_link_color\": \"0084B4\", \n",
      "    \"profile_image_url\": \"http://pbs.twimg.com/profile_images/559387397646188545/5T7ov2Z3_normal.jpeg\", \n",
      "    \"following\": false, \n",
      "    \"geo_enabled\": false, \n",
      "    \"profile_banner_url\": \"https://pbs.twimg.com/profile_banners/1087468039/1422203306\", \n",
      "    \"profile_background_image_url\": \"http://abs.twimg.com/images/themes/theme1/bg.png\", \n",
      "    \"name\": \"Derek Heldman\", \n",
      "    \"lang\": \"en\", \n",
      "    \"profile_background_tile\": false, \n",
      "    \"favourites_count\": 107, \n",
      "    \"screen_name\": \"DerekHeldman\", \n",
      "    \"notifications\": false, \n",
      "    \"url\": null, \n",
      "    \"created_at\": \"Sun Jan 13 23:04:15 +0000 2013\", \n",
      "    \"contributors_enabled\": false, \n",
      "    \"time_zone\": null, \n",
      "    \"protected\": false, \n",
      "    \"default_profile\": true, \n",
      "    \"is_translator\": false\n",
      "  }, \n",
      "  \"geo\": null, \n",
      "  \"in_reply_to_user_id_str\": null, \n",
      "  \"possibly_sensitive\": false, \n",
      "  \"lang\": \"en\", \n",
      "  \"created_at\": \"Sun Apr 05 18:27:16 +0000 2015\", \n",
      "  \"in_reply_to_status_id_str\": null, \n",
      "  \"place\": null, \n",
      "  \"metadata\": {\n",
      "    \"iso_language_code\": \"en\", \n",
      "    \"result_type\": \"recent\"\n",
      "  }\n",
      "}\n"
     ]
    }
   ],
   "source": [
    "print_friendly_json(tweets[0])"
   ]
  },
  {
   "cell_type": "markdown",
   "metadata": {},
   "source": [
    "###Extracting information from tweets\n",
    "\n",
    "Let's have the previous tweet assigned to the variable `t`:"
   ]
  },
  {
   "cell_type": "code",
   "execution_count": 19,
   "metadata": {
    "collapsed": false
   },
   "outputs": [
    {
     "data": {
      "text/plain": [
       "tweepy.models.Status"
      ]
     },
     "execution_count": 19,
     "metadata": {},
     "output_type": "execute_result"
    }
   ],
   "source": [
    "t = tweets[0]\n",
    "type(t)"
   ]
  },
  {
   "cell_type": "markdown",
   "metadata": {},
   "source": [
    "`t` is `tweepy.models.Status` type. It is possible to explore its fields by typing `t.` + TAB. A list of fields will appear.\n",
    "\n",
    "<div align=\"center\">\n",
    "    <figure>\n",
    "        <img src=\"img/status_fields.png\">\n",
    "        <figcaption>Fields of `tweepy.models.Status`</figcaption>\n",
    "    </figure>\n",
    "</div>"
   ]
  },
  {
   "cell_type": "markdown",
   "metadata": {
    "collapsed": false
   },
   "source": [
    "####Tweet information\n",
    "- Identificator:"
   ]
  },
  {
   "cell_type": "code",
   "execution_count": 20,
   "metadata": {
    "collapsed": false
   },
   "outputs": [
    {
     "data": {
      "text/plain": [
       "584784383091077120"
      ]
     },
     "execution_count": 20,
     "metadata": {},
     "output_type": "execute_result"
    }
   ],
   "source": [
    "t.id"
   ]
  },
  {
   "cell_type": "markdown",
   "metadata": {},
   "source": [
    "- Text:"
   ]
  },
  {
   "cell_type": "code",
   "execution_count": 21,
   "metadata": {
    "collapsed": false
   },
   "outputs": [
    {
     "data": {
      "text/plain": [
       "u'RT @WeLoveRobDyrdek: RT for Wisconsin \\nFAV for Kentucky http://t.co/QYDGexA8Pd'"
      ]
     },
     "execution_count": 21,
     "metadata": {},
     "output_type": "execute_result"
    }
   ],
   "source": [
    "t.text"
   ]
  },
  {
   "cell_type": "markdown",
   "metadata": {},
   "source": [
    "- Author:"
   ]
  },
  {
   "cell_type": "code",
   "execution_count": 22,
   "metadata": {
    "collapsed": false
   },
   "outputs": [
    {
     "data": {
      "text/plain": [
       "u'DerekHeldman'"
      ]
     },
     "execution_count": 22,
     "metadata": {},
     "output_type": "execute_result"
    }
   ],
   "source": [
    "t.author.screen_name"
   ]
  },
  {
   "cell_type": "markdown",
   "metadata": {},
   "source": [
    "- Counts. `favorite_count` and `retweet_count` give clues as to the *interestingness*:"
   ]
  },
  {
   "cell_type": "code",
   "execution_count": 23,
   "metadata": {
    "collapsed": false
   },
   "outputs": [
    {
     "data": {
      "text/plain": [
       "0"
      ]
     },
     "execution_count": 23,
     "metadata": {},
     "output_type": "execute_result"
    }
   ],
   "source": [
    "t.favorite_count"
   ]
  },
  {
   "cell_type": "code",
   "execution_count": 24,
   "metadata": {
    "collapsed": false
   },
   "outputs": [
    {
     "data": {
      "text/plain": [
       "1280"
      ]
     },
     "execution_count": 24,
     "metadata": {},
     "output_type": "execute_result"
    }
   ],
   "source": [
    "t.retweet_count"
   ]
  },
  {
   "cell_type": "markdown",
   "metadata": {},
   "source": [
    "- If a tweet has been retweeted, the `retweeted_status` field provides significant detail about the *original tweet* itself and its author:"
   ]
  },
  {
   "cell_type": "code",
   "execution_count": 25,
   "metadata": {
    "collapsed": false
   },
   "outputs": [
    {
     "name": "stdout",
     "output_type": "stream",
     "text": [
      "{\n",
      "  \"contributors\": null, \n",
      "  \"truncated\": false, \n",
      "  \"text\": \"RT for Wisconsin \\nFAV for Kentucky http://t.co/QYDGexA8Pd\", \n",
      "  \"in_reply_to_status_id\": null, \n",
      "  \"id\": 584545963873673216, \n",
      "  \"favorite_count\": 2058, \n",
      "  \"source\": \"<a href=\\\"http://twitter.com/download/iphone\\\" rel=\\\"nofollow\\\">Twitter for iPhone</a>\", \n",
      "  \"retweeted\": false, \n",
      "  \"coordinates\": null, \n",
      "  \"entities\": {\n",
      "    \"symbols\": [], \n",
      "    \"user_mentions\": [], \n",
      "    \"hashtags\": [], \n",
      "    \"urls\": [], \n",
      "    \"media\": [\n",
      "      {\n",
      "        \"expanded_url\": \"http://twitter.com/WeLoveRobDyrdek/status/584545963873673216/photo/1\", \n",
      "        \"display_url\": \"pic.twitter.com/QYDGexA8Pd\", \n",
      "        \"url\": \"http://t.co/QYDGexA8Pd\", \n",
      "        \"media_url_https\": \"https://pbs.twimg.com/media/CBy5c0nUoAA4z8Y.jpg\", \n",
      "        \"id_str\": \"584545956462370816\", \n",
      "        \"sizes\": {\n",
      "          \"small\": {\n",
      "            \"h\": 255, \n",
      "            \"resize\": \"fit\", \n",
      "            \"w\": 340\n",
      "          }, \n",
      "          \"large\": {\n",
      "            \"h\": 444, \n",
      "            \"resize\": \"fit\", \n",
      "            \"w\": 592\n",
      "          }, \n",
      "          \"medium\": {\n",
      "            \"h\": 444, \n",
      "            \"resize\": \"fit\", \n",
      "            \"w\": 592\n",
      "          }, \n",
      "          \"thumb\": {\n",
      "            \"h\": 150, \n",
      "            \"resize\": \"crop\", \n",
      "            \"w\": 150\n",
      "          }\n",
      "        }, \n",
      "        \"indices\": [\n",
      "          35, \n",
      "          57\n",
      "        ], \n",
      "        \"type\": \"photo\", \n",
      "        \"id\": 584545956462370816, \n",
      "        \"media_url\": \"http://pbs.twimg.com/media/CBy5c0nUoAA4z8Y.jpg\"\n",
      "      }\n",
      "    ]\n",
      "  }, \n",
      "  \"in_reply_to_screen_name\": null, \n",
      "  \"in_reply_to_user_id\": null, \n",
      "  \"retweet_count\": 1280, \n",
      "  \"id_str\": \"584545963873673216\", \n",
      "  \"favorited\": false, \n",
      "  \"user\": {\n",
      "    \"follow_request_sent\": false, \n",
      "    \"profile_use_background_image\": true, \n",
      "    \"profile_text_color\": \"333333\", \n",
      "    \"default_profile_image\": false, \n",
      "    \"id\": 2238576858, \n",
      "    \"profile_background_image_url_https\": \"https://abs.twimg.com/images/themes/theme1/bg.png\", \n",
      "    \"verified\": false, \n",
      "    \"profile_location\": null, \n",
      "    \"profile_image_url_https\": \"https://pbs.twimg.com/profile_images/429678438765445120/rtZYrgTJ_normal.jpeg\", \n",
      "    \"profile_sidebar_fill_color\": \"DDEEF6\", \n",
      "    \"entities\": {\n",
      "      \"description\": {\n",
      "        \"urls\": []\n",
      "      }\n",
      "    }, \n",
      "    \"followers_count\": 774190, \n",
      "    \"profile_sidebar_border_color\": \"C0DEED\", \n",
      "    \"id_str\": \"2238576858\", \n",
      "    \"profile_background_color\": \"C0DEED\", \n",
      "    \"listed_count\": 363, \n",
      "    \"is_translation_enabled\": false, \n",
      "    \"utc_offset\": -18000, \n",
      "    \"statuses_count\": 8335, \n",
      "    \"description\": \"*posting ALL of the most ridiculous content* *not affiliated with @MTV's @Ridiculousness* *we do not own any of the content posted* *fan/parody account*\", \n",
      "    \"friends_count\": 0, \n",
      "    \"location\": \"warning:18+ content\", \n",
      "    \"profile_link_color\": \"0084B4\", \n",
      "    \"profile_image_url\": \"http://pbs.twimg.com/profile_images/429678438765445120/rtZYrgTJ_normal.jpeg\", \n",
      "    \"following\": false, \n",
      "    \"geo_enabled\": false, \n",
      "    \"profile_banner_url\": \"https://pbs.twimg.com/profile_banners/2238576858/1391278298\", \n",
      "    \"profile_background_image_url\": \"http://abs.twimg.com/images/themes/theme1/bg.png\", \n",
      "    \"name\": \"Ridiculousness\", \n",
      "    \"lang\": \"en\", \n",
      "    \"profile_background_tile\": false, \n",
      "    \"favourites_count\": 165, \n",
      "    \"screen_name\": \"WeLoveRobDyrdek\", \n",
      "    \"notifications\": false, \n",
      "    \"url\": null, \n",
      "    \"created_at\": \"Tue Dec 10 04:24:51 +0000 2013\", \n",
      "    \"contributors_enabled\": false, \n",
      "    \"time_zone\": \"Central Time (US & Canada)\", \n",
      "    \"protected\": false, \n",
      "    \"default_profile\": true, \n",
      "    \"is_translator\": false\n",
      "  }, \n",
      "  \"geo\": null, \n",
      "  \"in_reply_to_user_id_str\": null, \n",
      "  \"possibly_sensitive\": true, \n",
      "  \"lang\": \"en\", \n",
      "  \"created_at\": \"Sun Apr 05 02:39:52 +0000 2015\", \n",
      "  \"in_reply_to_status_id_str\": null, \n",
      "  \"place\": null, \n",
      "  \"metadata\": {\n",
      "    \"iso_language_code\": \"en\", \n",
      "    \"result_type\": \"recent\"\n",
      "  }\n",
      "}\n"
     ]
    }
   ],
   "source": [
    "print_friendly_json(t.retweeted_status)"
   ]
  },
  {
   "cell_type": "markdown",
   "metadata": {},
   "source": [
    "Only original tweets can be retweeted. If a user retweets a retweet, he/she is actually retweeting the original tweet.\n",
    "\n",
    "- Retweeted by the authenticated user:"
   ]
  },
  {
   "cell_type": "code",
   "execution_count": 26,
   "metadata": {
    "collapsed": false
   },
   "outputs": [
    {
     "data": {
      "text/plain": [
       "False"
      ]
     },
     "execution_count": 26,
     "metadata": {},
     "output_type": "execute_result"
    }
   ],
   "source": [
    "t.retweeted"
   ]
  },
  {
   "cell_type": "markdown",
   "metadata": {},
   "source": [
    "####Tweet entities\n",
    "Entities provide metadata and additional contextual information about content posted on Twitter.\n",
    "\n",
    "Example:"
   ]
  },
  {
   "cell_type": "code",
   "execution_count": 27,
   "metadata": {
    "collapsed": false
   },
   "outputs": [
    {
     "data": {
      "text/plain": [
       "{u'hashtags': [],\n",
       " u'media': [{u'display_url': u'pic.twitter.com/dca5S9nuRD',\n",
       "   u'expanded_url': u'http://twitter.com/dhookstead/status/584783964382109696/photo/1',\n",
       "   u'id': 584783942164680706,\n",
       "   u'id_str': u'584783942164680706',\n",
       "   u'indices': [93, 115],\n",
       "   u'media_url': u'http://pbs.twimg.com/media/CB2R5acUEAIH28q.jpg',\n",
       "   u'media_url_https': u'https://pbs.twimg.com/media/CB2R5acUEAIH28q.jpg',\n",
       "   u'sizes': {u'large': {u'h': 617, u'resize': u'fit', u'w': 1024},\n",
       "    u'medium': {u'h': 361, u'resize': u'fit', u'w': 600},\n",
       "    u'small': {u'h': 204, u'resize': u'fit', u'w': 340},\n",
       "    u'thumb': {u'h': 150, u'resize': u'crop', u'w': 150}},\n",
       "   u'source_status_id': 584783964382109696,\n",
       "   u'source_status_id_str': u'584783964382109696',\n",
       "   u'source_user_id': 274403383,\n",
       "   u'source_user_id_str': u'274403383',\n",
       "   u'type': u'photo',\n",
       "   u'url': u'http://t.co/dca5S9nuRD'}],\n",
       " u'symbols': [],\n",
       " u'urls': [],\n",
       " u'user_mentions': [{u'id': 274403383,\n",
       "   u'id_str': u'274403383',\n",
       "   u'indices': [3, 14],\n",
       "   u'name': u'David Hookstead',\n",
       "   u'screen_name': u'dhookstead'}]}"
      ]
     },
     "execution_count": 27,
     "metadata": {},
     "output_type": "execute_result"
    }
   ],
   "source": [
    "tweets[1].entities"
   ]
  },
  {
   "cell_type": "markdown",
   "metadata": {},
   "source": [
    "####Extracting text, screen names, and hashtags from tweets"
   ]
  },
  {
   "cell_type": "code",
   "execution_count": 28,
   "metadata": {
    "collapsed": false
   },
   "outputs": [
    {
     "name": "stdout",
     "output_type": "stream",
     "text": [
      "Texts:\n",
      "[\n",
      "  \"RT @WeLoveRobDyrdek: RT for Wisconsin \\nFAV for Kentucky http://t.co/QYDGexA8Pd\", \n",
      "  \"RT @dhookstead: Who will win the National Championship?\\n\\nRT for Wisconsin\\n\\nFavorite for Duke http://t.co/dca5S9nuRD\", \n",
      "  \"RT @robbart5: .@GW_MBB beat Rutgers. Rutgers beat Wisconsin. Wisconsin beat Kentucky. Therefore, GW is better than Kentucky\", \n",
      "  \"@NicoCipollini Wisconsin! The whites Won\", \n",
      "  \"RT @JWepp: Wisconsin fans and Kentucky haters right now http://t.co/EDfjnU6g8Z\"\n",
      "]\n",
      "Screen names:\n",
      "[\n",
      "  \"WeLoveRobDyrdek\", \n",
      "  \"dhookstead\", \n",
      "  \"robbart5\", \n",
      "  \"GW_MBB\", \n",
      "  \"NicoCipollini\"\n",
      "]\n",
      "Hashtags:\n",
      "[\n",
      "  \"GoGators\", \n",
      "  \"FinalFour\", \n",
      "  \"FinalFour\", \n",
      "  \"MyView\", \n",
      "  \"FinalFour2015\"\n",
      "]\n"
     ]
    }
   ],
   "source": [
    "texts = [t.text for t in tweets]\n",
    "screen_names = [user_mention['screen_name']\n",
    "                    for t in tweets\n",
    "                         for user_mention in t.entities['user_mentions']\n",
    "               ]\n",
    "hashtags = [hashtag['text'] \n",
    "               for t in tweets\n",
    "                   for hashtag in t.entities['hashtags']\n",
    "           ]\n",
    "\n",
    "# Explore the first 5 items for each...\n",
    "print 'Texts:'\n",
    "print_friendly_json(texts[: 5])\n",
    "print 'Screen names:'\n",
    "print_friendly_json(screen_names[: 5])\n",
    "print 'Hashtags:'\n",
    "print_friendly_json(hashtags[: 5])"
   ]
  },
  {
   "cell_type": "markdown",
   "metadata": {},
   "source": [
    "####Exercise 3\n",
    "Given a timeline assigned to the variable `tweets`, get the list of all the words from the first 5 tweets. "
   ]
  },
  {
   "cell_type": "code",
   "execution_count": 29,
   "metadata": {
    "collapsed": false
   },
   "outputs": [
    {
     "data": {
      "text/plain": [
       "[u'RT',\n",
       " u'@WeLoveRobDyrdek:',\n",
       " u'RT',\n",
       " u'for',\n",
       " u'Wisconsin',\n",
       " u'FAV',\n",
       " u'for',\n",
       " u'Kentucky',\n",
       " u'http://t.co/QYDGexA8Pd',\n",
       " u'RT',\n",
       " u'@dhookstead:',\n",
       " u'Who',\n",
       " u'will',\n",
       " u'win',\n",
       " u'the',\n",
       " u'National',\n",
       " u'Championship?',\n",
       " u'RT',\n",
       " u'for',\n",
       " u'Wisconsin',\n",
       " u'Favorite',\n",
       " u'for',\n",
       " u'Duke',\n",
       " u'http://t.co/dca5S9nuRD',\n",
       " u'RT',\n",
       " u'@robbart5:',\n",
       " u'.@GW_MBB',\n",
       " u'beat',\n",
       " u'Rutgers.',\n",
       " u'Rutgers',\n",
       " u'beat',\n",
       " u'Wisconsin.',\n",
       " u'Wisconsin',\n",
       " u'beat',\n",
       " u'Kentucky.',\n",
       " u'Therefore,',\n",
       " u'GW',\n",
       " u'is',\n",
       " u'better',\n",
       " u'than',\n",
       " u'Kentucky',\n",
       " u'@NicoCipollini',\n",
       " u'Wisconsin!',\n",
       " u'The',\n",
       " u'whites',\n",
       " u'Won',\n",
       " u'RT',\n",
       " u'@JWepp:',\n",
       " u'Wisconsin',\n",
       " u'fans',\n",
       " u'and',\n",
       " u'Kentucky',\n",
       " u'haters',\n",
       " u'right',\n",
       " u'now',\n",
       " u'http://t.co/EDfjnU6g8Z']"
      ]
     },
     "execution_count": 29,
     "metadata": {},
     "output_type": "execute_result"
    }
   ],
   "source": [
    "[w for t in tweets[: 5] for w in t.text.split()]"
   ]
  },
  {
   "cell_type": "markdown",
   "metadata": {},
   "source": [
    "####Exercise 4\n",
    "Given a timeline assigned to the variable `tweets`, get the hastags frequency distribution from the first 20 tweets. The function `histogram` written in [the exercise 6 of the class 06](class06.ipynb#Exercise-6) can be used for any iterable sequence (strings, lists, etc.)."
   ]
  },
  {
   "cell_type": "code",
   "execution_count": 30,
   "metadata": {
    "collapsed": false
   },
   "outputs": [
    {
     "data": {
      "text/plain": [
       "{u'FinalFour': 2, u'GoGators': 1}"
      ]
     },
     "execution_count": 30,
     "metadata": {},
     "output_type": "execute_result"
    }
   ],
   "source": [
    "def histogram(sequence):\n",
    "    d = {}\n",
    "    for elem in sequence:\n",
    "        if elem in d:\n",
    "            d[elem] += 1\n",
    "        else:\n",
    "            d[elem] = 1\n",
    "    return d\n",
    "\n",
    "hashtags = [hashtag['text'] \n",
    "               for t in tweets[: 20]\n",
    "                   for hashtag in t.entities['hashtags']\n",
    "           ]\n",
    "\n",
    "histogram(hashtags)"
   ]
  }
 ],
 "metadata": {
  "kernelspec": {
   "display_name": "Python 2",
   "language": "python",
   "name": "python2"
  },
  "language_info": {
   "codemirror_mode": {
    "name": "ipython",
    "version": 2
   },
   "file_extension": ".py",
   "mimetype": "text/x-python",
   "name": "python",
   "nbconvert_exporter": "python",
   "pygments_lexer": "ipython2",
   "version": "2.7.6"
  }
 },
 "nbformat": 4,
 "nbformat_minor": 0
}
