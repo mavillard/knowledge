{
 "cells": [
  {
   "cell_type": "markdown",
   "metadata": {},
   "source": [
    "<div align=\"center\">\n",
    "    <h1><a href=\"index.ipynb\">Knowledge Discovery in Digital Humanities</a></h1>\n",
    "</div>"
   ]
  },
  {
   "cell_type": "markdown",
   "metadata": {},
   "source": [
    "<div align=\"center\">\n",
    "    <h2>Class 09. Mining Twitter</h2>\n",
    "    <img src=\"img/twitter-logo.png\" width=\"300\">\n",
    "</div>"
   ]
  },
  {
   "cell_type": "markdown",
   "metadata": {},
   "source": [
    "###Table of contents\n",
    "\n",
    "- [Why Twitter?](#Why-Twitter?)\n",
    "- [Creating a connection to Twitter](#Creating-a-connection-to-Twitter)\n",
    "- [Trending topics](#Trending-topics)\n",
    "- [Searching for tweets](#Searching-for-tweets)\n",
    "- [Tweet analysis](#Tweet-analysis)"
   ]
  },
  {
   "cell_type": "markdown",
   "metadata": {},
   "source": [
    "###Why Twitter?\n",
    "\n",
    "[Twitter](http://twitter.com/) is as a microblogging service that allows people to communicate with 140-character messages (called *tweets*).\n",
    "\n",
    "- Tweets reflect people's thoughts in near real time\n",
    "\n",
    "Twitter's *following* system connects people and creates networks. Its asymmetric model allow users to follow any other user even if there is no reciprocation, unlike other social media like Facebook and LinkedIn, that require the mutual acceptance of a connection between users (which usually implies a some kind of real-world connection).\n",
    "\n",
    "- Twitter's asymmetric *following* model allows people to keep up with their interests\n",
    "\n",
    "Interest graphs are a way of modeling connections between people and their interests. Interest graphs can be mined in order to measure correlations between users and interests and make recommendations ranging from whom to follow on Twitter to what to purchase online to whom you should date.\n",
    "\n",
    "- Mining Twitter provides a way to discover people's opinions and interests "
   ]
  },
  {
   "cell_type": "markdown",
   "metadata": {},
   "source": [
    "###Creating a connection to Twitter\n",
    "\n",
    "1. Create an app on Twitter\n",
    "    1. Go to [https://apps.twitter.com/](https://apps.twitter.com/)\n",
    "    2. Login with your user account\n",
    "    3. Click on Create new app\n",
    "    4. Fill in the form, accept the agreement and click on Create your Twitter application\n",
    "    5. Go to Keys and Access Tokens tab\n",
    "    6. Scroll down and click on Create my access token\n",
    "    7. Create a script named `credentials.py` (do not share it with anyone else) than contains this code:\n",
    "```\n",
    "TW_CONSUMER_KEY = 'Consumer Key (API Key)'\n",
    "TW_CONSUMER_SECRET = 'Consumer Secret (API Secret)'\n",
    "TW_ACCESS_TOKEN = 'Access Token'\n",
    "TW_ACCESS_TOKEN_SECRET = 'Access Token Secret'\n",
    "```\n",
    "2. Authorize your application to access Twitter"
   ]
  },
  {
   "cell_type": "code",
   "execution_count": 11,
   "metadata": {
    "collapsed": true
   },
   "outputs": [],
   "source": [
    "import credentials\n",
    "import twitter\n",
    "\n",
    "CONSUMER_KEY = credentials.TW_CONSUMER_KEY\n",
    "CONSUMER_SECRET = credentials.TW_CONSUMER_SECRET\n",
    "ACCESS_TOKEN = credentials.TW_ACCESS_TOKEN\n",
    "ACCESS_TOKEN_SECRET = credentials.TW_ACCESS_TOKEN_SECRET\n",
    "\n",
    "auth = twitter.oauth.OAuth(\n",
    "    ACCESS_TOKEN,\n",
    "    ACCESS_TOKEN_SECRET,\n",
    "    CONSUMER_KEY,\n",
    "    CONSUMER_SECRET\n",
    ")\n",
    "\n",
    "twitter_api = twitter.Twitter(auth=auth)"
   ]
  },
  {
   "cell_type": "markdown",
   "metadata": {},
   "source": [
    "###Trending topics\n",
    "\n",
    "Two options:\n",
    "- Global\n",
    "- Specific location (via [Yahoo! GeoPlanet](https://developer.yahoo.com/geo/geoplanet/)'s Where On Earth (WOE) ID)"
   ]
  },
  {
   "cell_type": "code",
   "execution_count": 19,
   "metadata": {
    "collapsed": false
   },
   "outputs": [],
   "source": [
    "GLOBAL_WOE_ID = 1 # Worldwide\n",
    "CA_WOE_ID = 23424775 # Canada\n",
    "\n",
    "global_trends = twitter_api.trends.place(_id=GLOBAL_WOE_ID)\n",
    "ca_trends = twitter_api.trends.place(_id=CA_WOE_ID)"
   ]
  },
  {
   "cell_type": "code",
   "execution_count": 33,
   "metadata": {
    "collapsed": true
   },
   "outputs": [],
   "source": [
    "# Auxiliar function to print json in a friendly format\n",
    "import json\n",
    "\n",
    "def print_friendly_json(d):\n",
    "    print json.dumps(d, indent=2)"
   ]
  },
  {
   "cell_type": "code",
   "execution_count": 34,
   "metadata": {
    "collapsed": false
   },
   "outputs": [
    {
     "name": "stdout",
     "output_type": "stream",
     "text": [
      "[\n",
      "  {\n",
      "    \"created_at\": \"2015-04-04T02:34:43Z\", \n",
      "    \"trends\": [\n",
      "      {\n",
      "        \"url\": \"http://twitter.com/search?q=%23SosFlorDePelotudoSi\", \n",
      "        \"query\": \"%23SosFlorDePelotudoSi\", \n",
      "        \"name\": \"#SosFlorDePelotudoSi\", \n",
      "        \"promoted_content\": null\n",
      "      }, \n",
      "      {\n",
      "        \"url\": \"http://twitter.com/search?q=%23BatuquemosPorAmandaFinalista\", \n",
      "        \"query\": \"%23BatuquemosPorAmandaFinalista\", \n",
      "        \"name\": \"#BatuquemosPorAmandaFinalista\", \n",
      "        \"promoted_content\": null\n",
      "      }, \n",
      "      {\n",
      "        \"url\": \"http://twitter.com/search?q=%23BSBTheMovie\", \n",
      "        \"query\": \"%23BSBTheMovie\", \n",
      "        \"name\": \"#BSBTheMovie\", \n",
      "        \"promoted_content\": null\n",
      "      }, \n",
      "      {\n",
      "        \"url\": \"http://twitter.com/search?q=%23%D9%81%D8%B1%D9%8A%D9%82_%D8%AA%D8%AD%D8%AA%D8%B1%D9%85%D9%87_%D9%84%D9%83%D9%86_%D9%84%D8%A7%D8%AA%D8%B4%D8%AC%D8%B9%D9%87\", \n",
      "        \"query\": \"%23%D9%81%D8%B1%D9%8A%D9%82_%D8%AA%D8%AD%D8%AA%D8%B1%D9%85%D9%87_%D9%84%D9%83%D9%86_%D9%84%D8%A7%D8%AA%D8%B4%D8%AC%D8%B9%D9%87\", \n",
      "        \"name\": \"#\\u0641\\u0631\\u064a\\u0642_\\u062a\\u062d\\u062a\\u0631\\u0645\\u0647_\\u0644\\u0643\\u0646_\\u0644\\u0627\\u062a\\u0634\\u062c\\u0639\\u0647\", \n",
      "        \"promoted_content\": null\n",
      "      }, \n",
      "      {\n",
      "        \"url\": \"http://twitter.com/search?q=%23ReMalHumorSi\", \n",
      "        \"query\": \"%23ReMalHumorSi\", \n",
      "        \"name\": \"#ReMalHumorSi\", \n",
      "        \"promoted_content\": null\n",
      "      }, \n",
      "      {\n",
      "        \"url\": \"http://twitter.com/search?q=%22RIP+Hayley%22\", \n",
      "        \"query\": \"%22RIP+Hayley%22\", \n",
      "        \"name\": \"RIP Hayley\", \n",
      "        \"promoted_content\": null\n",
      "      }, \n",
      "      {\n",
      "        \"url\": \"http://twitter.com/search?q=%22Brazil+Needs+Tyler+Blackburn%22\", \n",
      "        \"query\": \"%22Brazil+Needs+Tyler+Blackburn%22\", \n",
      "        \"name\": \"Brazil Needs Tyler Blackburn\", \n",
      "        \"promoted_content\": null\n",
      "      }, \n",
      "      {\n",
      "        \"url\": \"http://twitter.com/search?q=%22S%C3%A1nchez+Mi%C3%B1o%22\", \n",
      "        \"query\": \"%22S%C3%A1nchez+Mi%C3%B1o%22\", \n",
      "        \"name\": \"S\\u00e1nchez Mi\\u00f1o\", \n",
      "        \"promoted_content\": null\n",
      "      }, \n",
      "      {\n",
      "        \"url\": \"http://twitter.com/search?q=TainaMullerEmBabilonia\", \n",
      "        \"query\": \"TainaMullerEmBabilonia\", \n",
      "        \"name\": \"TainaMullerEmBabilonia\", \n",
      "        \"promoted_content\": null\n",
      "      }, \n",
      "      {\n",
      "        \"url\": \"http://twitter.com/search?q=%22Aaron+Brooks%22\", \n",
      "        \"query\": \"%22Aaron+Brooks%22\", \n",
      "        \"name\": \"Aaron Brooks\", \n",
      "        \"promoted_content\": null\n",
      "      }\n",
      "    ], \n",
      "    \"as_of\": \"2015-04-04T02:38:56Z\", \n",
      "    \"locations\": [\n",
      "      {\n",
      "        \"woeid\": 1, \n",
      "        \"name\": \"Worldwide\"\n",
      "      }\n",
      "    ]\n",
      "  }\n",
      "]\n"
     ]
    }
   ],
   "source": [
    "print_friendly_json(global_trends)"
   ]
  },
  {
   "cell_type": "code",
   "execution_count": 35,
   "metadata": {
    "collapsed": false
   },
   "outputs": [
    {
     "name": "stdout",
     "output_type": "stream",
     "text": [
      "[\n",
      "  {\n",
      "    \"created_at\": \"2015-04-04T02:34:43Z\", \n",
      "    \"trends\": [\n",
      "      {\n",
      "        \"url\": \"http://twitter.com/search?q=%23CuffMeDanny\", \n",
      "        \"query\": \"%23CuffMeDanny\", \n",
      "        \"name\": \"#CuffMeDanny\", \n",
      "        \"promoted_content\": null\n",
      "      }, \n",
      "      {\n",
      "        \"url\": \"http://twitter.com/search?q=%23MakeAQuoteWhiny\", \n",
      "        \"query\": \"%23MakeAQuoteWhiny\", \n",
      "        \"name\": \"#MakeAQuoteWhiny\", \n",
      "        \"promoted_content\": null\n",
      "      }, \n",
      "      {\n",
      "        \"url\": \"http://twitter.com/search?q=%23BlueJaysMTL\", \n",
      "        \"query\": \"%23BlueJaysMTL\", \n",
      "        \"name\": \"#BlueJaysMTL\", \n",
      "        \"promoted_content\": null\n",
      "      }, \n",
      "      {\n",
      "        \"url\": \"http://twitter.com/search?q=Tokarski\", \n",
      "        \"query\": \"Tokarski\", \n",
      "        \"name\": \"Tokarski\", \n",
      "        \"promoted_content\": null\n",
      "      }, \n",
      "      {\n",
      "        \"url\": \"http://twitter.com/search?q=%23GraceShow\", \n",
      "        \"query\": \"%23GraceShow\", \n",
      "        \"name\": \"#GraceShow\", \n",
      "        \"promoted_content\": null\n",
      "      }, \n",
      "      {\n",
      "        \"url\": \"http://twitter.com/search?q=%23Devils\", \n",
      "        \"query\": \"%23Devils\", \n",
      "        \"name\": \"#Devils\", \n",
      "        \"promoted_content\": null\n",
      "      }, \n",
      "      {\n",
      "        \"url\": \"http://twitter.com/search?q=Gomez\", \n",
      "        \"query\": \"Gomez\", \n",
      "        \"name\": \"Gomez\", \n",
      "        \"promoted_content\": null\n",
      "      }, \n",
      "      {\n",
      "        \"url\": \"http://twitter.com/search?q=Amir\", \n",
      "        \"query\": \"Amir\", \n",
      "        \"name\": \"Amir\", \n",
      "        \"promoted_content\": null\n",
      "      }, \n",
      "      {\n",
      "        \"url\": \"http://twitter.com/search?q=Vasquez\", \n",
      "        \"query\": \"Vasquez\", \n",
      "        \"name\": \"Vasquez\", \n",
      "        \"promoted_content\": null\n",
      "      }, \n",
      "      {\n",
      "        \"url\": \"http://twitter.com/search?q=%22Deron+Williams%22\", \n",
      "        \"query\": \"%22Deron+Williams%22\", \n",
      "        \"name\": \"Deron Williams\", \n",
      "        \"promoted_content\": null\n",
      "      }\n",
      "    ], \n",
      "    \"as_of\": \"2015-04-04T02:38:57Z\", \n",
      "    \"locations\": [\n",
      "      {\n",
      "        \"woeid\": 23424775, \n",
      "        \"name\": \"Canada\"\n",
      "      }\n",
      "    ]\n",
      "  }\n",
      "]\n"
     ]
    }
   ],
   "source": [
    "print_friendly_json(ca_trends)"
   ]
  },
  {
   "cell_type": "markdown",
   "metadata": {},
   "source": [
    "####Exercise 1\n",
    "What Canadian trending topics are worldwide trending topics?\n",
    "1. Calculate the set of global trending topics (use list comprehensions)\n",
    "2. Calculate the set of Canadian trending topics (use list comprehensions)\n",
    "3. Calculate the intersection of both sets"
   ]
  },
  {
   "cell_type": "code",
   "execution_count": 27,
   "metadata": {
    "collapsed": false
   },
   "outputs": [
    {
     "name": "stdout",
     "output_type": "stream",
     "text": [
      "set([])\n"
     ]
    }
   ],
   "source": [
    "global_trends_list = [trend['name'] for trend in global_trends[0]['trends']]\n",
    "global_trends_set = set(global_trends_list)\n",
    "\n",
    "ca_trends_list = [trend['name'] for trend in ca_trends[0]['trends']]\n",
    "ca_trends_set = set(ca_trends_list)\n",
    "\n",
    "common_trends_set = ca_trends_set.intersection(global_trends_set)\n",
    "print common_trends_set"
   ]
  },
  {
   "cell_type": "markdown",
   "metadata": {},
   "source": [
    "###Searching for tweets\n",
    "\n",
    "- Search results contain a special `search_metadata` node that embeds a `next_results` field with a query string that provides the basis of a subsequent query\n",
    "- *Cursor* approach instead of *pagination*\n",
    "- Due to the highly dynamic state of Twitter resources (more information about *cursor vs pagination* [here](https://dev.twitter.com/rest/public/timelines))\n",
    "\n",
    "Search for a trending topic, or anything else for that matter (variable `q`)."
   ]
  },
  {
   "cell_type": "code",
   "execution_count": 41,
   "metadata": {
    "collapsed": false
   },
   "outputs": [
    {
     "name": "stdout",
     "output_type": "stream",
     "text": [
      "Number of tweets retrieved: 100\n",
      "Number of tweets retrieved: 200\n",
      "Number of tweets retrieved: 300\n",
      "Number of tweets retrieved: 400\n",
      "Number of tweets retrieved: 500\n"
     ]
    }
   ],
   "source": [
    "q = 'Tokarski' \n",
    "count = 100\n",
    "search_results = twitter_api.search.tweets(q=q, count=count)\n",
    "tweets = search_results['statuses']\n",
    "\n",
    "# Iterate through 5 more batches of results by following the cursor\n",
    "for _ in range(5):\n",
    "    print \"Number of tweets retrieved:\", len(tweets)\n",
    "    try:\n",
    "        next_results = search_results['search_metadata']['next_results']\n",
    "    except KeyError, e: # No more results when next_results doesn't exist\n",
    "        break\n",
    "    \n",
    "    # If next_results exists, search again\n",
    "    # next_results has the following form:\n",
    "    # ?max_id=313519052523986943&q=NCAA&include_entities=1\n",
    "    # Unpacking the values in a dictionary into keyword arguments\n",
    "    # for the next search\n",
    "    kwargs = dict([ kw.split('=') for kw in next_results[1:].split(\"&\") ])\n",
    "    search_results = twitter_api.search.tweets(**kwargs)\n",
    "    tweets += search_results['statuses']"
   ]
  },
  {
   "cell_type": "code",
   "execution_count": 40,
   "metadata": {
    "collapsed": false
   },
   "outputs": [
    {
     "name": "stdout",
     "output_type": "stream",
     "text": [
      "{\n",
      "  \"contributors\": null, \n",
      "  \"truncated\": false, \n",
      "  \"text\": \"Elias talks about SO move that turned Tokarski inside\\u00a0out http://t.co/SF4NO11yCA\", \n",
      "  \"in_reply_to_status_id\": null, \n",
      "  \"id\": 584224863260278784, \n",
      "  \"favorite_count\": 0, \n",
      "  \"source\": \"<a href=\\\"http://publicize.wp.com/\\\" rel=\\\"nofollow\\\">WordPress.com</a>\", \n",
      "  \"retweeted\": false, \n",
      "  \"coordinates\": null, \n",
      "  \"entities\": {\n",
      "    \"symbols\": [], \n",
      "    \"user_mentions\": [], \n",
      "    \"hashtags\": [], \n",
      "    \"urls\": [\n",
      "      {\n",
      "        \"url\": \"http://t.co/SF4NO11yCA\", \n",
      "        \"indices\": [\n",
      "          58, \n",
      "          80\n",
      "        ], \n",
      "        \"expanded_url\": \"http://wp.me/p4Vz4N-1xoF\", \n",
      "        \"display_url\": \"wp.me/p4Vz4N-1xoF\"\n",
      "      }\n",
      "    ]\n",
      "  }, \n",
      "  \"in_reply_to_screen_name\": null, \n",
      "  \"in_reply_to_user_id\": null, \n",
      "  \"retweet_count\": 0, \n",
      "  \"id_str\": \"584224863260278784\", \n",
      "  \"favorited\": false, \n",
      "  \"user\": {\n",
      "    \"follow_request_sent\": false, \n",
      "    \"profile_use_background_image\": true, \n",
      "    \"profile_text_color\": \"333333\", \n",
      "    \"default_profile_image\": false, \n",
      "    \"id\": 2841683456, \n",
      "    \"profile_background_image_url_https\": \"https://abs.twimg.com/images/themes/theme1/bg.png\", \n",
      "    \"verified\": false, \n",
      "    \"profile_location\": null, \n",
      "    \"profile_image_url_https\": \"https://pbs.twimg.com/profile_images/518856978592833536/XW3fNr5Z_normal.png\", \n",
      "    \"profile_sidebar_fill_color\": \"DDEEF6\", \n",
      "    \"entities\": {\n",
      "      \"url\": {\n",
      "        \"urls\": [\n",
      "          {\n",
      "            \"url\": \"http://t.co/BrXxvqY5F7\", \n",
      "            \"indices\": [\n",
      "              0, \n",
      "              22\n",
      "            ], \n",
      "            \"expanded_url\": \"http://www.stadiumsnews.com\", \n",
      "            \"display_url\": \"stadiumsnews.com\"\n",
      "          }\n",
      "        ]\n",
      "      }, \n",
      "      \"description\": {\n",
      "        \"urls\": []\n",
      "      }\n",
      "    }, \n",
      "    \"followers_count\": 137, \n",
      "    \"profile_sidebar_border_color\": \"C0DEED\", \n",
      "    \"id_str\": \"2841683456\", \n",
      "    \"profile_background_color\": \"C0DEED\", \n",
      "    \"listed_count\": 9, \n",
      "    \"is_translation_enabled\": false, \n",
      "    \"utc_offset\": null, \n",
      "    \"statuses_count\": 83108, \n",
      "    \"description\": \"Latest sports news from all the stadiums world\", \n",
      "    \"friends_count\": 0, \n",
      "    \"location\": \"Stadiums\", \n",
      "    \"profile_link_color\": \"0084B4\", \n",
      "    \"profile_image_url\": \"http://pbs.twimg.com/profile_images/518856978592833536/XW3fNr5Z_normal.png\", \n",
      "    \"following\": false, \n",
      "    \"geo_enabled\": false, \n",
      "    \"profile_banner_url\": \"https://pbs.twimg.com/profile_banners/2841683456/1412540075\", \n",
      "    \"profile_background_image_url\": \"http://abs.twimg.com/images/themes/theme1/bg.png\", \n",
      "    \"name\": \"Stadiums News\", \n",
      "    \"lang\": \"en\", \n",
      "    \"profile_background_tile\": false, \n",
      "    \"favourites_count\": 0, \n",
      "    \"screen_name\": \"stadiumsnews\", \n",
      "    \"notifications\": false, \n",
      "    \"url\": \"http://t.co/BrXxvqY5F7\", \n",
      "    \"created_at\": \"Sun Oct 05 20:07:40 +0000 2014\", \n",
      "    \"contributors_enabled\": false, \n",
      "    \"time_zone\": null, \n",
      "    \"protected\": false, \n",
      "    \"default_profile\": true, \n",
      "    \"is_translator\": false\n",
      "  }, \n",
      "  \"geo\": null, \n",
      "  \"in_reply_to_user_id_str\": null, \n",
      "  \"possibly_sensitive\": false, \n",
      "  \"lang\": \"en\", \n",
      "  \"created_at\": \"Sat Apr 04 05:23:56 +0000 2015\", \n",
      "  \"in_reply_to_status_id_str\": null, \n",
      "  \"place\": null, \n",
      "  \"metadata\": {\n",
      "    \"iso_language_code\": \"en\", \n",
      "    \"result_type\": \"recent\"\n",
      "  }\n",
      "}\n"
     ]
    }
   ],
   "source": [
    "print_friendly_json(tweets[0])"
   ]
  },
  {
   "cell_type": "markdown",
   "metadata": {},
   "source": [
    "###Tweet analysis"
   ]
  },
  {
   "cell_type": "code",
   "execution_count": null,
   "metadata": {
    "collapsed": true
   },
   "outputs": [],
   "source": []
  }
 ],
 "metadata": {
  "kernelspec": {
   "display_name": "Python 2",
   "language": "python",
   "name": "python2"
  },
  "language_info": {
   "codemirror_mode": {
    "name": "ipython",
    "version": 2
   },
   "file_extension": ".py",
   "mimetype": "text/x-python",
   "name": "python",
   "nbconvert_exporter": "python",
   "pygments_lexer": "ipython2",
   "version": "2.7.6"
  }
 },
 "nbformat": 4,
 "nbformat_minor": 0
}
