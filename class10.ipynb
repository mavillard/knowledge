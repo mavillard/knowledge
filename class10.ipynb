{
 "cells": [
  {
   "cell_type": "markdown",
   "metadata": {},
   "source": [
    "<div align=\"center\">\n",
    "    <h1><a href=\"index.ipynb\">Knowledge Discovery in Digital Humanities</a></h1>\n",
    "</div>"
   ]
  },
  {
   "cell_type": "markdown",
   "metadata": {},
   "source": [
    "<div align=\"center\">\n",
    "    <h2>Class 10. Mining Twitter</h2>\n",
    "    <img src=\"img/twitter-logo.png\" width=\"300\">\n",
    "</div>"
   ]
  },
  {
   "cell_type": "markdown",
   "metadata": {},
   "source": [
    "###Table of contents\n",
    "\n",
    "- [Why Twitter?](#Why-Twitter?)\n",
    "- [Connecting to Twitter](#Connecting-to-Twitter)\n",
    "- [Trending topics](#Trending-topics)\n",
    "- [Timelines](#Timelines)\n",
    "- [Searching for tweets](#Searching-for-tweets)\n",
    "- [Extracting information from tweets](#Extracting-information-from-tweets)"
   ]
  },
  {
   "cell_type": "markdown",
   "metadata": {},
   "source": [
    "###Why Twitter?\n",
    "\n",
    "[Twitter](http://twitter.com/) is as a microblogging service that allows people to communicate with 140-character messages (called *tweets*).\n",
    "\n",
    "- Tweets reflect people's thoughts in near real time\n",
    "\n",
    "Twitter's *following* system connects people and creates networks. Its asymmetric model allow users to follow any other user even if there is no reciprocation, unlike other social media like Facebook and LinkedIn, that require the mutual acceptance of a connection between users (which usually implies a some kind of real-world connection).\n",
    "\n",
    "- Twitter's asymmetric *following* model allows people to keep up with their interests\n",
    "\n",
    "Interest graphs are a way of modeling connections between people and their interests. Interest graphs can be mined in order to measure correlations between users and interests and make recommendations ranging from whom to follow on Twitter to what to purchase online to whom you should date.\n",
    "\n",
    "- Mining Twitter provides a way to discover people's opinions and interests "
   ]
  },
  {
   "cell_type": "markdown",
   "metadata": {},
   "source": [
    "###Connecting to Twitter\n",
    "\n",
    "1. Create an app on Twitter\n",
    "    1. Go to [https://apps.twitter.com/](https://apps.twitter.com/)\n",
    "    2. Login with your user account\n",
    "    3. Click on Create new app\n",
    "    4. Fill in the form, accept the agreement and click on Create your Twitter application\n",
    "    5. Go to Keys and Access Tokens tab\n",
    "    6. Scroll down and click on Create my access token\n",
    "    7. Create a script named `credentials.py` (do not share it with anyone else) than contains this code:\n",
    "```\n",
    "TW_CONSUMER_KEY = 'Consumer Key (API Key)'\n",
    "TW_CONSUMER_SECRET = 'Consumer Secret (API Secret)'\n",
    "TW_ACCESS_TOKEN = 'Access Token'\n",
    "TW_ACCESS_TOKEN_SECRET = 'Access Token Secret'\n",
    "```\n",
    "2. Authorize your application to access Twitter"
   ]
  },
  {
   "cell_type": "code",
   "execution_count": 1,
   "metadata": {
    "collapsed": true
   },
   "outputs": [],
   "source": [
    "import credentials\n",
    "import tweepy\n",
    "\n",
    "CONSUMER_KEY = credentials.TW_CONSUMER_KEY\n",
    "CONSUMER_SECRET = credentials.TW_CONSUMER_SECRET\n",
    "ACCESS_TOKEN = credentials.TW_ACCESS_TOKEN\n",
    "ACCESS_TOKEN_SECRET = credentials.TW_ACCESS_TOKEN_SECRET\n",
    "\n",
    "auth = tweepy.OAuthHandler(CONSUMER_KEY, CONSUMER_SECRET)\n",
    "auth.set_access_token(ACCESS_TOKEN, ACCESS_TOKEN_SECRET)\n",
    "\n",
    "twitter_api = tweepy.API(auth)"
   ]
  },
  {
   "cell_type": "code",
   "execution_count": 2,
   "metadata": {
    "collapsed": false
   },
   "outputs": [],
   "source": [
    "# Auxiliar function to print json in a human-readable format\n",
    "import json\n",
    "\n",
    "def print_friendly_json(js):\n",
    "    if isinstance(js, tweepy.models.Status):\n",
    "        js = js.__dict__['_json']\n",
    "    print json.dumps(js, indent=2)"
   ]
  },
  {
   "cell_type": "markdown",
   "metadata": {},
   "source": [
    "###Trending topics\n",
    "\n",
    "Trending topics are topics that are popular *now*. Location specified by WOEID ([Yahoo! GeoPlanet](https://developer.yahoo.com/geo/geoplanet/)'s Where On Earth ID).\n",
    "\n",
    "####Global"
   ]
  },
  {
   "cell_type": "code",
   "execution_count": 3,
   "metadata": {
    "collapsed": false
   },
   "outputs": [
    {
     "name": "stdout",
     "output_type": "stream",
     "text": [
      "[\n",
      "  {\n",
      "    \"created_at\": \"2015-04-08T02:57:11Z\", \n",
      "    \"trends\": [\n",
      "      {\n",
      "        \"url\": \"http://twitter.com/search?q=%23FinalBBB15\", \n",
      "        \"query\": \"%23FinalBBB15\", \n",
      "        \"name\": \"#FinalBBB15\", \n",
      "        \"promoted_content\": null\n",
      "      }, \n",
      "      {\n",
      "        \"url\": \"http://twitter.com/search?q=%22Paula+Fernandes%22\", \n",
      "        \"query\": \"%22Paula+Fernandes%22\", \n",
      "        \"name\": \"Paula Fernandes\", \n",
      "        \"promoted_content\": null\n",
      "      }, \n",
      "      {\n",
      "        \"url\": \"http://twitter.com/search?q=%23Telefe25A%C3%B1os\", \n",
      "        \"query\": \"%23Telefe25A%C3%B1os\", \n",
      "        \"name\": \"#Telefe25A\\u00f1os\", \n",
      "        \"promoted_content\": null\n",
      "      }, \n",
      "      {\n",
      "        \"url\": \"http://twitter.com/search?q=%23WalterScott\", \n",
      "        \"query\": \"%23WalterScott\", \n",
      "        \"name\": \"#WalterScott\", \n",
      "        \"promoted_content\": null\n",
      "      }, \n",
      "      {\n",
      "        \"url\": \"http://twitter.com/search?q=%23FaceTimeMeNash\", \n",
      "        \"query\": \"%23FaceTimeMeNash\", \n",
      "        \"name\": \"#FaceTimeMeNash\", \n",
      "        \"promoted_content\": null\n",
      "      }, \n",
      "      {\n",
      "        \"url\": \"http://twitter.com/search?q=%23BeingMaryJane\", \n",
      "        \"query\": \"%23BeingMaryJane\", \n",
      "        \"name\": \"#BeingMaryJane\", \n",
      "        \"promoted_content\": null\n",
      "      }, \n",
      "      {\n",
      "        \"url\": \"http://twitter.com/search?q=%22Peter+Lanzani%22\", \n",
      "        \"query\": \"%22Peter+Lanzani%22\", \n",
      "        \"name\": \"Peter Lanzani\", \n",
      "        \"promoted_content\": null\n",
      "      }, \n",
      "      {\n",
      "        \"url\": \"http://twitter.com/search?q=C%C3%A9sar\", \n",
      "        \"query\": \"C%C3%A9sar\", \n",
      "        \"name\": \"C\\u00e9sar\", \n",
      "        \"promoted_content\": null\n",
      "      }, \n",
      "      {\n",
      "        \"url\": \"http://twitter.com/search?q=%22Michel+Tel%C3%B3%22\", \n",
      "        \"query\": \"%22Michel+Tel%C3%B3%22\", \n",
      "        \"name\": \"Michel Tel\\u00f3\", \n",
      "        \"promoted_content\": null\n",
      "      }, \n",
      "      {\n",
      "        \"url\": \"http://twitter.com/search?q=Ang%C3%A9lica\", \n",
      "        \"query\": \"Ang%C3%A9lica\", \n",
      "        \"name\": \"Ang\\u00e9lica\", \n",
      "        \"promoted_content\": null\n",
      "      }\n",
      "    ], \n",
      "    \"as_of\": \"2015-04-08T03:01:26Z\", \n",
      "    \"locations\": [\n",
      "      {\n",
      "        \"woeid\": 1, \n",
      "        \"name\": \"Worldwide\"\n",
      "      }\n",
      "    ]\n",
      "  }\n",
      "]\n"
     ]
    }
   ],
   "source": [
    "WORLD_WOEID = 1 # Worldwide\n",
    "global_trends = twitter_api.trends_place(WORLD_WOEID) \n",
    "print_friendly_json(global_trends)"
   ]
  },
  {
   "cell_type": "markdown",
   "metadata": {},
   "source": [
    "####Specific location"
   ]
  },
  {
   "cell_type": "code",
   "execution_count": 4,
   "metadata": {
    "collapsed": false
   },
   "outputs": [
    {
     "name": "stdout",
     "output_type": "stream",
     "text": [
      "[\n",
      "  {\n",
      "    \"created_at\": \"2015-04-08T02:57:11Z\", \n",
      "    \"trends\": [\n",
      "      {\n",
      "        \"url\": \"http://twitter.com/search?q=%23IMFC\", \n",
      "        \"query\": \"%23IMFC\", \n",
      "        \"name\": \"#IMFC\", \n",
      "        \"promoted_content\": null\n",
      "      }, \n",
      "      {\n",
      "        \"url\": \"http://twitter.com/search?q=%22Mark+Stone%22\", \n",
      "        \"query\": \"%22Mark+Stone%22\", \n",
      "        \"name\": \"Mark Stone\", \n",
      "        \"promoted_content\": null\n",
      "      }, \n",
      "      {\n",
      "        \"url\": \"http://twitter.com/search?q=%23WalterScott\", \n",
      "        \"query\": \"%23WalterScott\", \n",
      "        \"name\": \"#WalterScott\", \n",
      "        \"promoted_content\": null\n",
      "      }, \n",
      "      {\n",
      "        \"url\": \"http://twitter.com/search?q=%23FaceTimeMeNash\", \n",
      "        \"query\": \"%23FaceTimeMeNash\", \n",
      "        \"name\": \"#FaceTimeMeNash\", \n",
      "        \"promoted_content\": null\n",
      "      }, \n",
      "      {\n",
      "        \"url\": \"http://twitter.com/search?q=%23GoJetsGo\", \n",
      "        \"query\": \"%23GoJetsGo\", \n",
      "        \"name\": \"#GoJetsGo\", \n",
      "        \"promoted_content\": null\n",
      "      }, \n",
      "      {\n",
      "        \"url\": \"http://twitter.com/search?q=%23FindingCarter\", \n",
      "        \"query\": \"%23FindingCarter\", \n",
      "        \"name\": \"#FindingCarter\", \n",
      "        \"promoted_content\": null\n",
      "      }, \n",
      "      {\n",
      "        \"url\": \"http://twitter.com/search?q=Penguins\", \n",
      "        \"query\": \"Penguins\", \n",
      "        \"name\": \"Penguins\", \n",
      "        \"promoted_content\": null\n",
      "      }, \n",
      "      {\n",
      "        \"url\": \"http://twitter.com/search?q=Blues\", \n",
      "        \"query\": \"Blues\", \n",
      "        \"name\": \"Blues\", \n",
      "        \"promoted_content\": null\n",
      "      }, \n",
      "      {\n",
      "        \"url\": \"http://twitter.com/search?q=Senators\", \n",
      "        \"query\": \"Senators\", \n",
      "        \"name\": \"Senators\", \n",
      "        \"promoted_content\": null\n",
      "      }, \n",
      "      {\n",
      "        \"url\": \"http://twitter.com/search?q=Shawinigan\", \n",
      "        \"query\": \"Shawinigan\", \n",
      "        \"name\": \"Shawinigan\", \n",
      "        \"promoted_content\": null\n",
      "      }\n",
      "    ], \n",
      "    \"as_of\": \"2015-04-08T03:01:26Z\", \n",
      "    \"locations\": [\n",
      "      {\n",
      "        \"woeid\": 23424775, \n",
      "        \"name\": \"Canada\"\n",
      "      }\n",
      "    ]\n",
      "  }\n",
      "]\n"
     ]
    }
   ],
   "source": [
    "CA_WOEID = 23424775 # Canada\n",
    "ca_trends = twitter_api.trends_place(CA_WOEID)\n",
    "print_friendly_json(ca_trends)"
   ]
  },
  {
   "cell_type": "markdown",
   "metadata": {},
   "source": [
    "####Closeness"
   ]
  },
  {
   "cell_type": "code",
   "execution_count": 5,
   "metadata": {
    "collapsed": false
   },
   "outputs": [
    {
     "name": "stdout",
     "output_type": "stream",
     "text": [
      "[\n",
      "  {\n",
      "    \"name\": \"Detroit\", \n",
      "    \"countryCode\": \"US\", \n",
      "    \"url\": \"http://where.yahooapis.com/v1/place/2391585\", \n",
      "    \"country\": \"United States\", \n",
      "    \"parentid\": 23424977, \n",
      "    \"placeType\": {\n",
      "      \"code\": 7, \n",
      "      \"name\": \"Town\"\n",
      "    }, \n",
      "    \"woeid\": 2391585\n",
      "  }\n",
      "]\n"
     ]
    }
   ],
   "source": [
    "coordinates = (42.9837, -81.2497) # London ON\n",
    "close_places = twitter_api.trends_closest(coordinates[0], coordinates[1])  \n",
    "print_friendly_json(close_places)"
   ]
  },
  {
   "cell_type": "code",
   "execution_count": 6,
   "metadata": {
    "collapsed": false
   },
   "outputs": [
    {
     "name": "stdout",
     "output_type": "stream",
     "text": [
      "[\n",
      "  {\n",
      "    \"created_at\": \"2015-04-08T02:57:11Z\", \n",
      "    \"trends\": [\n",
      "      {\n",
      "        \"url\": \"http://twitter.com/search?q=%23WalterScott\", \n",
      "        \"query\": \"%23WalterScott\", \n",
      "        \"name\": \"#WalterScott\", \n",
      "        \"promoted_content\": null\n",
      "      }, \n",
      "      {\n",
      "        \"url\": \"http://twitter.com/search?q=%23BeingMaryJane\", \n",
      "        \"query\": \"%23BeingMaryJane\", \n",
      "        \"name\": \"#BeingMaryJane\", \n",
      "        \"promoted_content\": null\n",
      "      }, \n",
      "      {\n",
      "        \"url\": \"http://twitter.com/search?q=Pittsburgh\", \n",
      "        \"query\": \"Pittsburgh\", \n",
      "        \"name\": \"Pittsburgh\", \n",
      "        \"promoted_content\": null\n",
      "      }, \n",
      "      {\n",
      "        \"url\": \"http://twitter.com/search?q=Penguins\", \n",
      "        \"query\": \"Penguins\", \n",
      "        \"name\": \"Penguins\", \n",
      "        \"promoted_content\": null\n",
      "      }, \n",
      "      {\n",
      "        \"url\": \"http://twitter.com/search?q=%23FindingCarter\", \n",
      "        \"query\": \"%23FindingCarter\", \n",
      "        \"name\": \"#FindingCarter\", \n",
      "        \"promoted_content\": null\n",
      "      }, \n",
      "      {\n",
      "        \"url\": \"http://twitter.com/search?q=%23LGRW\", \n",
      "        \"query\": \"%23LGRW\", \n",
      "        \"name\": \"#LGRW\", \n",
      "        \"promoted_content\": null\n",
      "      }, \n",
      "      {\n",
      "        \"url\": \"http://twitter.com/search?q=%23FaceTimeMeNash\", \n",
      "        \"query\": \"%23FaceTimeMeNash\", \n",
      "        \"name\": \"#FaceTimeMeNash\", \n",
      "        \"promoted_content\": null\n",
      "      }, \n",
      "      {\n",
      "        \"url\": \"http://twitter.com/search?q=Pens\", \n",
      "        \"query\": \"Pens\", \n",
      "        \"name\": \"Pens\", \n",
      "        \"promoted_content\": null\n",
      "      }, \n",
      "      {\n",
      "        \"url\": \"http://twitter.com/search?q=Pelicans\", \n",
      "        \"query\": \"Pelicans\", \n",
      "        \"name\": \"Pelicans\", \n",
      "        \"promoted_content\": null\n",
      "      }, \n",
      "      {\n",
      "        \"url\": \"http://twitter.com/search?q=%22Rahm+Emanuel%22\", \n",
      "        \"query\": \"%22Rahm+Emanuel%22\", \n",
      "        \"name\": \"Rahm Emanuel\", \n",
      "        \"promoted_content\": null\n",
      "      }\n",
      "    ], \n",
      "    \"as_of\": \"2015-04-08T03:01:27Z\", \n",
      "    \"locations\": [\n",
      "      {\n",
      "        \"woeid\": 2391585, \n",
      "        \"name\": \"Detroit\"\n",
      "      }\n",
      "    ]\n",
      "  }\n",
      "]\n"
     ]
    }
   ],
   "source": [
    "trends = []\n",
    "for place in close_places:\n",
    "    woeid = place['woeid']\n",
    "    trends.append(twitter_api.trends_place(woeid))\n",
    "\n",
    "for trend in trends:\n",
    "    print_friendly_json(trend)"
   ]
  },
  {
   "cell_type": "markdown",
   "metadata": {},
   "source": [
    "####Exercise 1\n",
    "What Canadian trending topics are worldwide trending topics?\n",
    "1. Calculate the set of global trending topics (use list comprehensions)\n",
    "2. Calculate the set of Canadian trending topics (use list comprehensions)\n",
    "3. Calculate the intersection of both sets"
   ]
  },
  {
   "cell_type": "code",
   "execution_count": 7,
   "metadata": {
    "collapsed": false
   },
   "outputs": [
    {
     "name": "stdout",
     "output_type": "stream",
     "text": [
      "set([u'#WalterScott', u'#FaceTimeMeNash'])\n"
     ]
    }
   ],
   "source": [
    "global_trends_list = [trend['name'] for trend in global_trends[0]['trends']]\n",
    "global_trends_set = set(global_trends_list)\n",
    "\n",
    "ca_trends_list = [trend['name'] for trend in ca_trends[0]['trends']]\n",
    "ca_trends_set = set(ca_trends_list)\n",
    "\n",
    "common_trends_set = ca_trends_set.intersection(global_trends_set)\n",
    "print common_trends_set"
   ]
  },
  {
   "cell_type": "markdown",
   "metadata": {},
   "source": [
    "###Timelines\n",
    "\n",
    "A timeline is a collection of tweets ordered from the most recent to the oldest.\n",
    "\n",
    "####Home timeline\n",
    "It is your own timeline."
   ]
  },
  {
   "cell_type": "code",
   "execution_count": 8,
   "metadata": {
    "collapsed": false
   },
   "outputs": [],
   "source": [
    "home_timeline = twitter_api.home_timeline()"
   ]
  },
  {
   "cell_type": "markdown",
   "metadata": {},
   "source": [
    "Most recent tweet or status:"
   ]
  },
  {
   "cell_type": "code",
   "execution_count": 9,
   "metadata": {
    "collapsed": false
   },
   "outputs": [
    {
     "data": {
      "text/plain": [
       "u'RT @symulation: CSDH-SCHN exec. nominations open: VP-French; Secretary; Member-at-large; Graduate Rep. 150 word bio to michaelesinatra@gmai\\u2026'"
      ]
     },
     "execution_count": 9,
     "metadata": {},
     "output_type": "execute_result"
    }
   ],
   "source": [
    "th = home_timeline[0]\n",
    "th.text"
   ]
  },
  {
   "cell_type": "markdown",
   "metadata": {},
   "source": [
    "####User's timeline\n",
    "A specific user's timeline."
   ]
  },
  {
   "cell_type": "code",
   "execution_count": 10,
   "metadata": {
    "collapsed": false
   },
   "outputs": [],
   "source": [
    "user_timeline = twitter_api.user_timeline('suarez_juanluis')"
   ]
  },
  {
   "cell_type": "markdown",
   "metadata": {},
   "source": [
    "Most recent tweet:"
   ]
  },
  {
   "cell_type": "code",
   "execution_count": 11,
   "metadata": {
    "collapsed": false
   },
   "outputs": [
    {
     "data": {
      "text/plain": [
       "u'RT @FMAPFREHistoria: Libro: \"Fiesta rito y pol\\xedtica. Del Chile borb\\xf3nico al republicano\" de Jaime Valenzuela. V\\xeda @Historia_UC http://t.co/\\u2026'"
      ]
     },
     "execution_count": 11,
     "metadata": {},
     "output_type": "execute_result"
    }
   ],
   "source": [
    "tu = user_timeline[0]\n",
    "tu.text"
   ]
  },
  {
   "cell_type": "markdown",
   "metadata": {
    "collapsed": false
   },
   "source": [
    "####Mentions timeline\n",
    "Tweets that contain your *@username*."
   ]
  },
  {
   "cell_type": "code",
   "execution_count": 12,
   "metadata": {
    "collapsed": true
   },
   "outputs": [],
   "source": [
    "mentions_timeline = twitter_api.mentions_timeline()"
   ]
  },
  {
   "cell_type": "markdown",
   "metadata": {},
   "source": [
    "Most recent tweet:"
   ]
  },
  {
   "cell_type": "code",
   "execution_count": 13,
   "metadata": {
    "collapsed": false
   },
   "outputs": [
    {
     "data": {
      "text/plain": [
       "u'@mavillard @nandi_d @n_mejiacaldas buen viaje! Hope to see you all again soon...#dhsi2015?'"
      ]
     },
     "execution_count": 13,
     "metadata": {},
     "output_type": "execute_result"
    }
   ],
   "source": [
    "tm = mentions_timeline[0]\n",
    "tm.text"
   ]
  },
  {
   "cell_type": "markdown",
   "metadata": {},
   "source": [
    "####Retweets timeline\n",
    "Tweets that have been retweeted by others."
   ]
  },
  {
   "cell_type": "code",
   "execution_count": 14,
   "metadata": {
    "collapsed": true
   },
   "outputs": [],
   "source": [
    "retweets_timeline = twitter_api.retweets_of_me()"
   ]
  },
  {
   "cell_type": "markdown",
   "metadata": {},
   "source": [
    "Most recent tweet:"
   ]
  },
  {
   "cell_type": "code",
   "execution_count": 15,
   "metadata": {
    "collapsed": false
   },
   "outputs": [
    {
     "data": {
      "text/plain": [
       "u'@versae and beauty at #dh2014 http://t.co/zIqJHTepVj'"
      ]
     },
     "execution_count": 15,
     "metadata": {},
     "output_type": "execute_result"
    }
   ],
   "source": [
    "tr = retweets_timeline[0]\n",
    "tr.text"
   ]
  },
  {
   "cell_type": "markdown",
   "metadata": {},
   "source": [
    "####Exercise 2\n",
    "Get the name of the users that have retweeted your tweets."
   ]
  },
  {
   "cell_type": "code",
   "execution_count": 16,
   "metadata": {
    "collapsed": false
   },
   "outputs": [
    {
     "data": {
      "text/plain": [
       "{u'antimony27',\n",
       " u'barrywellman',\n",
       " u'dhgermany',\n",
       " u'jamescosullivan',\n",
       " u'jborrego',\n",
       " u'marybethstart',\n",
       " u'mirian_se',\n",
       " u'nandodlrp',\n",
       " u'quiohqui',\n",
       " u'suarez_juanluis',\n",
       " u'versae',\n",
       " u'vlmavillard'}"
      ]
     },
     "execution_count": 16,
     "metadata": {},
     "output_type": "execute_result"
    }
   ],
   "source": [
    "set([t.user.screen_name for tr in retweets_timeline for t in tr.retweets()])"
   ]
  },
  {
   "cell_type": "markdown",
   "metadata": {},
   "source": [
    "###Searching for tweets\n",
    "\n",
    "- *Cursor* approach instead of *pagination*\n",
    "- Due to the highly dynamic state of Twitter resources (more information about *cursor vs pagination* [here](https://dev.twitter.com/rest/public/timelines))\n",
    "- Search results contain a field named `next_results` that embeds a string that provides the basis of a subsequent query\n",
    "\n",
    "Search for a trending topic, or anything else for that matter (variable `q`)."
   ]
  },
  {
   "cell_type": "code",
   "execution_count": 17,
   "metadata": {
    "collapsed": false
   },
   "outputs": [
    {
     "name": "stdout",
     "output_type": "stream",
     "text": [
      "Total tweets retrieved: 600\n"
     ]
    }
   ],
   "source": [
    "q = 'Wisconsin' \n",
    "count = 100\n",
    "search_results = twitter_api.search(q=q, count=count)\n",
    "tweets = search_results\n",
    "\n",
    "# Iterate through 5 more batches of results by following the cursor\n",
    "for _ in range(5):\n",
    "    next_results = search_results.next_results\n",
    "    # No more results when next_results is None\n",
    "    # If next_results exists, search again\n",
    "    # next_results has the following form:\n",
    "    # ?max_id=313519052523986943&q=NCAA&include_entities=1\n",
    "    # Unpacking the values in a dictionary into keyword arguments\n",
    "    # for the next search\n",
    "    if next_results:\n",
    "        kwargs = dict([ kw.split('=') for kw in next_results[1:].split(\"&\") ])\n",
    "        search_results = twitter_api.search(**kwargs)\n",
    "        tweets += search_results\n",
    "\n",
    "print \"Total tweets retrieved:\", len(tweets)"
   ]
  },
  {
   "cell_type": "code",
   "execution_count": 18,
   "metadata": {
    "collapsed": false,
    "scrolled": false
   },
   "outputs": [
    {
     "name": "stdout",
     "output_type": "stream",
     "text": [
      "{\n",
      "  \"contributors\": null, \n",
      "  \"truncated\": false, \n",
      "  \"text\": \"RT @NOTSportsCenter: The Duke-Wisconsin men's title game averaged 28 million viewers. \\n\\nThe UConn-Notre Dame women's title game averaged 28\\u2026\", \n",
      "  \"in_reply_to_status_id\": null, \n",
      "  \"id\": 585638502106320897, \n",
      "  \"favorite_count\": 0, \n",
      "  \"source\": \"<a href=\\\"http://twitter.com/download/iphone\\\" rel=\\\"nofollow\\\">Twitter for iPhone</a>\", \n",
      "  \"retweeted\": false, \n",
      "  \"coordinates\": null, \n",
      "  \"entities\": {\n",
      "    \"symbols\": [], \n",
      "    \"user_mentions\": [\n",
      "      {\n",
      "        \"id\": 237147973, \n",
      "        \"indices\": [\n",
      "          3, \n",
      "          19\n",
      "        ], \n",
      "        \"id_str\": \"237147973\", \n",
      "        \"screen_name\": \"NOTSportsCenter\", \n",
      "        \"name\": \"NOT SportsCenter\"\n",
      "      }\n",
      "    ], \n",
      "    \"hashtags\": [], \n",
      "    \"urls\": []\n",
      "  }, \n",
      "  \"in_reply_to_screen_name\": null, \n",
      "  \"in_reply_to_user_id\": null, \n",
      "  \"retweet_count\": 499, \n",
      "  \"id_str\": \"585638502106320897\", \n",
      "  \"favorited\": false, \n",
      "  \"retweeted_status\": {\n",
      "    \"contributors\": null, \n",
      "    \"truncated\": false, \n",
      "    \"text\": \"The Duke-Wisconsin men's title game averaged 28 million viewers. \\n\\nThe UConn-Notre Dame women's title game averaged 28 viewers.\", \n",
      "    \"in_reply_to_status_id\": null, \n",
      "    \"id\": 585636324083904512, \n",
      "    \"favorite_count\": 629, \n",
      "    \"source\": \"<a href=\\\"http://twitter.com/download/iphone\\\" rel=\\\"nofollow\\\">Twitter for iPhone</a>\", \n",
      "    \"retweeted\": false, \n",
      "    \"coordinates\": null, \n",
      "    \"entities\": {\n",
      "      \"symbols\": [], \n",
      "      \"user_mentions\": [], \n",
      "      \"hashtags\": [], \n",
      "      \"urls\": []\n",
      "    }, \n",
      "    \"in_reply_to_screen_name\": null, \n",
      "    \"in_reply_to_user_id\": null, \n",
      "    \"retweet_count\": 499, \n",
      "    \"id_str\": \"585636324083904512\", \n",
      "    \"favorited\": false, \n",
      "    \"user\": {\n",
      "      \"follow_request_sent\": false, \n",
      "      \"profile_use_background_image\": true, \n",
      "      \"profile_text_color\": \"333333\", \n",
      "      \"default_profile_image\": false, \n",
      "      \"id\": 237147973, \n",
      "      \"profile_background_image_url_https\": \"https://pbs.twimg.com/profile_background_images/378800000067456322/7f974df590562be1d689437612e4f631.jpeg\", \n",
      "      \"verified\": false, \n",
      "      \"profile_location\": null, \n",
      "      \"profile_image_url_https\": \"https://pbs.twimg.com/profile_images/480915579797127168/OxpqxJIM_normal.jpeg\", \n",
      "      \"profile_sidebar_fill_color\": \"DDEEF6\", \n",
      "      \"entities\": {\n",
      "        \"url\": {\n",
      "          \"urls\": [\n",
      "            {\n",
      "              \"url\": \"http://t.co/eEtYvbgYeh\", \n",
      "              \"indices\": [\n",
      "                0, \n",
      "                22\n",
      "              ], \n",
      "              \"expanded_url\": \"http://notsportscenter.com\", \n",
      "              \"display_url\": \"notsportscenter.com\"\n",
      "            }\n",
      "          ]\n",
      "        }, \n",
      "        \"description\": {\n",
      "          \"urls\": []\n",
      "        }\n",
      "      }, \n",
      "      \"followers_count\": 338364, \n",
      "      \"profile_sidebar_border_color\": \"FFFFFF\", \n",
      "      \"id_str\": \"237147973\", \n",
      "      \"profile_background_color\": \"111314\", \n",
      "      \"listed_count\": 1754, \n",
      "      \"is_translation_enabled\": false, \n",
      "      \"utc_offset\": -14400, \n",
      "      \"statuses_count\": 15948, \n",
      "      \"description\": \"SportsCenter style sports news, with a fake twist (parody, duh) Contact: thisisnotsc@gmail.com Created by: @NOTSCWill Kik: NOTSCWill\", \n",
      "      \"friends_count\": 423, \n",
      "      \"location\": \"Everywhere \", \n",
      "      \"profile_link_color\": \"0084B4\", \n",
      "      \"profile_image_url\": \"http://pbs.twimg.com/profile_images/480915579797127168/OxpqxJIM_normal.jpeg\", \n",
      "      \"following\": false, \n",
      "      \"geo_enabled\": true, \n",
      "      \"profile_banner_url\": \"https://pbs.twimg.com/profile_banners/237147973/1426095033\", \n",
      "      \"profile_background_image_url\": \"http://pbs.twimg.com/profile_background_images/378800000067456322/7f974df590562be1d689437612e4f631.jpeg\", \n",
      "      \"name\": \"NOT SportsCenter\", \n",
      "      \"lang\": \"en\", \n",
      "      \"profile_background_tile\": true, \n",
      "      \"favourites_count\": 1156, \n",
      "      \"screen_name\": \"NOTSportsCenter\", \n",
      "      \"notifications\": false, \n",
      "      \"url\": \"http://t.co/eEtYvbgYeh\", \n",
      "      \"created_at\": \"Wed Jan 12 05:26:44 +0000 2011\", \n",
      "      \"contributors_enabled\": false, \n",
      "      \"time_zone\": \"Eastern Time (US & Canada)\", \n",
      "      \"protected\": false, \n",
      "      \"default_profile\": false, \n",
      "      \"is_translator\": false\n",
      "    }, \n",
      "    \"geo\": null, \n",
      "    \"in_reply_to_user_id_str\": null, \n",
      "    \"lang\": \"en\", \n",
      "    \"created_at\": \"Wed Apr 08 02:52:34 +0000 2015\", \n",
      "    \"in_reply_to_status_id_str\": null, \n",
      "    \"place\": null, \n",
      "    \"metadata\": {\n",
      "      \"iso_language_code\": \"en\", \n",
      "      \"result_type\": \"recent\"\n",
      "    }\n",
      "  }, \n",
      "  \"user\": {\n",
      "    \"follow_request_sent\": false, \n",
      "    \"profile_use_background_image\": true, \n",
      "    \"profile_text_color\": \"333333\", \n",
      "    \"default_profile_image\": false, \n",
      "    \"id\": 1610690317, \n",
      "    \"profile_background_image_url_https\": \"https://abs.twimg.com/images/themes/theme1/bg.png\", \n",
      "    \"verified\": false, \n",
      "    \"profile_location\": null, \n",
      "    \"profile_image_url_https\": \"https://pbs.twimg.com/profile_images/579782623100346370/uOTFlB3l_normal.jpg\", \n",
      "    \"profile_sidebar_fill_color\": \"DDEEF6\", \n",
      "    \"entities\": {\n",
      "      \"description\": {\n",
      "        \"urls\": []\n",
      "      }\n",
      "    }, \n",
      "    \"followers_count\": 177, \n",
      "    \"profile_sidebar_border_color\": \"C0DEED\", \n",
      "    \"id_str\": \"1610690317\", \n",
      "    \"profile_background_color\": \"C0DEED\", \n",
      "    \"listed_count\": 0, \n",
      "    \"is_translation_enabled\": false, \n",
      "    \"utc_offset\": null, \n",
      "    \"statuses_count\": 243, \n",
      "    \"description\": \"Pamerton Class of '18 Basketball and Soccer\", \n",
      "    \"friends_count\": 333, \n",
      "    \"location\": \"\", \n",
      "    \"profile_link_color\": \"0084B4\", \n",
      "    \"profile_image_url\": \"http://pbs.twimg.com/profile_images/579782623100346370/uOTFlB3l_normal.jpg\", \n",
      "    \"following\": false, \n",
      "    \"geo_enabled\": false, \n",
      "    \"profile_banner_url\": \"https://pbs.twimg.com/profile_banners/1610690317/1427670055\", \n",
      "    \"profile_background_image_url\": \"http://abs.twimg.com/images/themes/theme1/bg.png\", \n",
      "    \"name\": \"Ryan Yacone\", \n",
      "    \"lang\": \"en\", \n",
      "    \"profile_background_tile\": false, \n",
      "    \"favourites_count\": 248, \n",
      "    \"screen_name\": \"yacone64\", \n",
      "    \"notifications\": false, \n",
      "    \"url\": null, \n",
      "    \"created_at\": \"Sun Jul 21 14:39:29 +0000 2013\", \n",
      "    \"contributors_enabled\": false, \n",
      "    \"time_zone\": null, \n",
      "    \"protected\": false, \n",
      "    \"default_profile\": true, \n",
      "    \"is_translator\": false\n",
      "  }, \n",
      "  \"geo\": null, \n",
      "  \"in_reply_to_user_id_str\": null, \n",
      "  \"lang\": \"en\", \n",
      "  \"created_at\": \"Wed Apr 08 03:01:14 +0000 2015\", \n",
      "  \"in_reply_to_status_id_str\": null, \n",
      "  \"place\": null, \n",
      "  \"metadata\": {\n",
      "    \"iso_language_code\": \"en\", \n",
      "    \"result_type\": \"recent\"\n",
      "  }\n",
      "}\n"
     ]
    }
   ],
   "source": [
    "print_friendly_json(tweets[0])"
   ]
  },
  {
   "cell_type": "markdown",
   "metadata": {},
   "source": [
    "###Extracting information from tweets\n",
    "\n",
    "Let's have the previous tweet assigned to the variable `t`:"
   ]
  },
  {
   "cell_type": "code",
   "execution_count": 19,
   "metadata": {
    "collapsed": false
   },
   "outputs": [
    {
     "data": {
      "text/plain": [
       "tweepy.models.Status"
      ]
     },
     "execution_count": 19,
     "metadata": {},
     "output_type": "execute_result"
    }
   ],
   "source": [
    "t = tweets[0]\n",
    "type(t)"
   ]
  },
  {
   "cell_type": "markdown",
   "metadata": {},
   "source": [
    "`t` is `tweepy.models.Status` type. It is possible to explore its fields by typing `t.` + TAB. A list of fields will appear.\n",
    "\n",
    "<div align=\"center\">\n",
    "    <figure>\n",
    "        <img src=\"img/status_fields.png\">\n",
    "        <figcaption>Fields of `tweepy.models.Status`</figcaption>\n",
    "    </figure>\n",
    "</div>"
   ]
  },
  {
   "cell_type": "markdown",
   "metadata": {
    "collapsed": false
   },
   "source": [
    "####Tweet information\n",
    "- Identificator:"
   ]
  },
  {
   "cell_type": "code",
   "execution_count": 20,
   "metadata": {
    "collapsed": false
   },
   "outputs": [
    {
     "data": {
      "text/plain": [
       "585638502106320897"
      ]
     },
     "execution_count": 20,
     "metadata": {},
     "output_type": "execute_result"
    }
   ],
   "source": [
    "t.id"
   ]
  },
  {
   "cell_type": "markdown",
   "metadata": {},
   "source": [
    "- Text:"
   ]
  },
  {
   "cell_type": "code",
   "execution_count": 21,
   "metadata": {
    "collapsed": false
   },
   "outputs": [
    {
     "data": {
      "text/plain": [
       "u\"RT @NOTSportsCenter: The Duke-Wisconsin men's title game averaged 28 million viewers. \\n\\nThe UConn-Notre Dame women's title game averaged 28\\u2026\""
      ]
     },
     "execution_count": 21,
     "metadata": {},
     "output_type": "execute_result"
    }
   ],
   "source": [
    "t.text"
   ]
  },
  {
   "cell_type": "markdown",
   "metadata": {},
   "source": [
    "- Author:"
   ]
  },
  {
   "cell_type": "code",
   "execution_count": 22,
   "metadata": {
    "collapsed": false
   },
   "outputs": [
    {
     "data": {
      "text/plain": [
       "u'yacone64'"
      ]
     },
     "execution_count": 22,
     "metadata": {},
     "output_type": "execute_result"
    }
   ],
   "source": [
    "t.author.screen_name"
   ]
  },
  {
   "cell_type": "markdown",
   "metadata": {},
   "source": [
    "- Counts. `favorite_count` and `retweet_count` give clues as to the *interestingness*:"
   ]
  },
  {
   "cell_type": "code",
   "execution_count": 23,
   "metadata": {
    "collapsed": false
   },
   "outputs": [
    {
     "data": {
      "text/plain": [
       "0"
      ]
     },
     "execution_count": 23,
     "metadata": {},
     "output_type": "execute_result"
    }
   ],
   "source": [
    "t.favorite_count"
   ]
  },
  {
   "cell_type": "code",
   "execution_count": 24,
   "metadata": {
    "collapsed": false
   },
   "outputs": [
    {
     "data": {
      "text/plain": [
       "499"
      ]
     },
     "execution_count": 24,
     "metadata": {},
     "output_type": "execute_result"
    }
   ],
   "source": [
    "t.retweet_count"
   ]
  },
  {
   "cell_type": "markdown",
   "metadata": {},
   "source": [
    "- If a tweet has been retweeted, the `retweeted_status` field provides significant detail about the *original tweet* itself and its author:"
   ]
  },
  {
   "cell_type": "code",
   "execution_count": 25,
   "metadata": {
    "collapsed": false
   },
   "outputs": [
    {
     "name": "stdout",
     "output_type": "stream",
     "text": [
      "{\n",
      "  \"contributors\": null, \n",
      "  \"truncated\": false, \n",
      "  \"text\": \"The Duke-Wisconsin men's title game averaged 28 million viewers. \\n\\nThe UConn-Notre Dame women's title game averaged 28 viewers.\", \n",
      "  \"in_reply_to_status_id\": null, \n",
      "  \"id\": 585636324083904512, \n",
      "  \"favorite_count\": 629, \n",
      "  \"source\": \"<a href=\\\"http://twitter.com/download/iphone\\\" rel=\\\"nofollow\\\">Twitter for iPhone</a>\", \n",
      "  \"retweeted\": false, \n",
      "  \"coordinates\": null, \n",
      "  \"entities\": {\n",
      "    \"symbols\": [], \n",
      "    \"user_mentions\": [], \n",
      "    \"hashtags\": [], \n",
      "    \"urls\": []\n",
      "  }, \n",
      "  \"in_reply_to_screen_name\": null, \n",
      "  \"in_reply_to_user_id\": null, \n",
      "  \"retweet_count\": 499, \n",
      "  \"id_str\": \"585636324083904512\", \n",
      "  \"favorited\": false, \n",
      "  \"user\": {\n",
      "    \"follow_request_sent\": false, \n",
      "    \"profile_use_background_image\": true, \n",
      "    \"profile_text_color\": \"333333\", \n",
      "    \"default_profile_image\": false, \n",
      "    \"id\": 237147973, \n",
      "    \"profile_background_image_url_https\": \"https://pbs.twimg.com/profile_background_images/378800000067456322/7f974df590562be1d689437612e4f631.jpeg\", \n",
      "    \"verified\": false, \n",
      "    \"profile_location\": null, \n",
      "    \"profile_image_url_https\": \"https://pbs.twimg.com/profile_images/480915579797127168/OxpqxJIM_normal.jpeg\", \n",
      "    \"profile_sidebar_fill_color\": \"DDEEF6\", \n",
      "    \"entities\": {\n",
      "      \"url\": {\n",
      "        \"urls\": [\n",
      "          {\n",
      "            \"url\": \"http://t.co/eEtYvbgYeh\", \n",
      "            \"indices\": [\n",
      "              0, \n",
      "              22\n",
      "            ], \n",
      "            \"expanded_url\": \"http://notsportscenter.com\", \n",
      "            \"display_url\": \"notsportscenter.com\"\n",
      "          }\n",
      "        ]\n",
      "      }, \n",
      "      \"description\": {\n",
      "        \"urls\": []\n",
      "      }\n",
      "    }, \n",
      "    \"followers_count\": 338364, \n",
      "    \"profile_sidebar_border_color\": \"FFFFFF\", \n",
      "    \"id_str\": \"237147973\", \n",
      "    \"profile_background_color\": \"111314\", \n",
      "    \"listed_count\": 1754, \n",
      "    \"is_translation_enabled\": false, \n",
      "    \"utc_offset\": -14400, \n",
      "    \"statuses_count\": 15948, \n",
      "    \"description\": \"SportsCenter style sports news, with a fake twist (parody, duh) Contact: thisisnotsc@gmail.com Created by: @NOTSCWill Kik: NOTSCWill\", \n",
      "    \"friends_count\": 423, \n",
      "    \"location\": \"Everywhere \", \n",
      "    \"profile_link_color\": \"0084B4\", \n",
      "    \"profile_image_url\": \"http://pbs.twimg.com/profile_images/480915579797127168/OxpqxJIM_normal.jpeg\", \n",
      "    \"following\": false, \n",
      "    \"geo_enabled\": true, \n",
      "    \"profile_banner_url\": \"https://pbs.twimg.com/profile_banners/237147973/1426095033\", \n",
      "    \"profile_background_image_url\": \"http://pbs.twimg.com/profile_background_images/378800000067456322/7f974df590562be1d689437612e4f631.jpeg\", \n",
      "    \"name\": \"NOT SportsCenter\", \n",
      "    \"lang\": \"en\", \n",
      "    \"profile_background_tile\": true, \n",
      "    \"favourites_count\": 1156, \n",
      "    \"screen_name\": \"NOTSportsCenter\", \n",
      "    \"notifications\": false, \n",
      "    \"url\": \"http://t.co/eEtYvbgYeh\", \n",
      "    \"created_at\": \"Wed Jan 12 05:26:44 +0000 2011\", \n",
      "    \"contributors_enabled\": false, \n",
      "    \"time_zone\": \"Eastern Time (US & Canada)\", \n",
      "    \"protected\": false, \n",
      "    \"default_profile\": false, \n",
      "    \"is_translator\": false\n",
      "  }, \n",
      "  \"geo\": null, \n",
      "  \"in_reply_to_user_id_str\": null, \n",
      "  \"lang\": \"en\", \n",
      "  \"created_at\": \"Wed Apr 08 02:52:34 +0000 2015\", \n",
      "  \"in_reply_to_status_id_str\": null, \n",
      "  \"place\": null, \n",
      "  \"metadata\": {\n",
      "    \"iso_language_code\": \"en\", \n",
      "    \"result_type\": \"recent\"\n",
      "  }\n",
      "}\n"
     ]
    }
   ],
   "source": [
    "print_friendly_json(t.retweeted_status)"
   ]
  },
  {
   "cell_type": "markdown",
   "metadata": {},
   "source": [
    "Only original tweets can be retweeted. If a user retweets a retweet, he/she is actually retweeting the original tweet.\n",
    "\n",
    "- Retweeted by the authenticated user:"
   ]
  },
  {
   "cell_type": "code",
   "execution_count": 26,
   "metadata": {
    "collapsed": false
   },
   "outputs": [
    {
     "data": {
      "text/plain": [
       "False"
      ]
     },
     "execution_count": 26,
     "metadata": {},
     "output_type": "execute_result"
    }
   ],
   "source": [
    "t.retweeted"
   ]
  },
  {
   "cell_type": "markdown",
   "metadata": {},
   "source": [
    "####Tweet entities\n",
    "Entities provide metadata and additional contextual information about content posted on Twitter.\n",
    "\n",
    "Example:"
   ]
  },
  {
   "cell_type": "code",
   "execution_count": 27,
   "metadata": {
    "collapsed": false
   },
   "outputs": [
    {
     "data": {
      "text/plain": [
       "{u'hashtags': [],\n",
       " u'symbols': [],\n",
       " u'urls': [],\n",
       " u'user_mentions': [{u'id': 237147973,\n",
       "   u'id_str': u'237147973',\n",
       "   u'indices': [3, 19],\n",
       "   u'name': u'NOT SportsCenter',\n",
       "   u'screen_name': u'NOTSportsCenter'}]}"
      ]
     },
     "execution_count": 27,
     "metadata": {},
     "output_type": "execute_result"
    }
   ],
   "source": [
    "tweets[1].entities"
   ]
  },
  {
   "cell_type": "markdown",
   "metadata": {},
   "source": [
    "####Extracting text, screen names, and hashtags from tweets"
   ]
  },
  {
   "cell_type": "code",
   "execution_count": 28,
   "metadata": {
    "collapsed": false
   },
   "outputs": [
    {
     "name": "stdout",
     "output_type": "stream",
     "text": [
      "Texts:\n",
      "[\n",
      "  \"RT @NOTSportsCenter: The Duke-Wisconsin men's title game averaged 28 million viewers. \\n\\nThe UConn-Notre Dame women's title game averaged 28\\u2026\", \n",
      "  \"RT @NOTSportsCenter: The Duke-Wisconsin men's title game averaged 28 million viewers. \\n\\nThe UConn-Notre Dame women's title game averaged 28\\u2026\", \n",
      "  \"Justice Ann Walsh Bradley wins re-election to Wisconsin Supreme Court: Bradley defeated Ro... http://t.co/uI1qAq0f3d #politics #dem #gop\", \n",
      "  \"RT @NOTSportsCenter: The Duke-Wisconsin men's title game averaged 28 million viewers. \\n\\nThe UConn-Notre Dame women's title game averaged 28\\u2026\", \n",
      "  \"RT @itsHousePorn: Wow. This Woodwork. http://t.co/NhQtfB8vOv\"\n",
      "]\n",
      "Screen names:\n",
      "[\n",
      "  \"NOTSportsCenter\", \n",
      "  \"NOTSportsCenter\", \n",
      "  \"NOTSportsCenter\", \n",
      "  \"itsHousePorn\", \n",
      "  \"MeninistTweet\"\n",
      "]\n",
      "Hashtags:\n",
      "[\n",
      "  \"politics\", \n",
      "  \"dem\", \n",
      "  \"gop\", \n",
      "  \"NationalBeerDay\", \n",
      "  \"LunesDeLabia\"\n",
      "]\n"
     ]
    }
   ],
   "source": [
    "texts = [t.text for t in tweets]\n",
    "screen_names = [user_mention['screen_name']\n",
    "                    for t in tweets\n",
    "                         for user_mention in t.entities['user_mentions']\n",
    "               ]\n",
    "hashtags = [hashtag['text'] \n",
    "               for t in tweets\n",
    "                   for hashtag in t.entities['hashtags']\n",
    "           ]\n",
    "\n",
    "# Explore the first 5 items for each...\n",
    "print 'Texts:'\n",
    "print_friendly_json(texts[: 5])\n",
    "print 'Screen names:'\n",
    "print_friendly_json(screen_names[: 5])\n",
    "print 'Hashtags:'\n",
    "print_friendly_json(hashtags[: 5])"
   ]
  },
  {
   "cell_type": "markdown",
   "metadata": {},
   "source": [
    "####Exercise 3\n",
    "Given a timeline assigned to the variable `tweets`, get the list of all the words from the first 5 tweets. "
   ]
  },
  {
   "cell_type": "code",
   "execution_count": 29,
   "metadata": {
    "collapsed": false
   },
   "outputs": [
    {
     "data": {
      "text/plain": [
       "[u'RT',\n",
       " u'@NOTSportsCenter:',\n",
       " u'The',\n",
       " u'Duke-Wisconsin',\n",
       " u\"men's\",\n",
       " u'title',\n",
       " u'game',\n",
       " u'averaged',\n",
       " u'28',\n",
       " u'million',\n",
       " u'viewers.',\n",
       " u'The',\n",
       " u'UConn-Notre',\n",
       " u'Dame',\n",
       " u\"women's\",\n",
       " u'title',\n",
       " u'game',\n",
       " u'averaged',\n",
       " u'28\\u2026',\n",
       " u'RT',\n",
       " u'@NOTSportsCenter:',\n",
       " u'The',\n",
       " u'Duke-Wisconsin',\n",
       " u\"men's\",\n",
       " u'title',\n",
       " u'game',\n",
       " u'averaged',\n",
       " u'28',\n",
       " u'million',\n",
       " u'viewers.',\n",
       " u'The',\n",
       " u'UConn-Notre',\n",
       " u'Dame',\n",
       " u\"women's\",\n",
       " u'title',\n",
       " u'game',\n",
       " u'averaged',\n",
       " u'28\\u2026',\n",
       " u'Justice',\n",
       " u'Ann',\n",
       " u'Walsh',\n",
       " u'Bradley',\n",
       " u'wins',\n",
       " u're-election',\n",
       " u'to',\n",
       " u'Wisconsin',\n",
       " u'Supreme',\n",
       " u'Court:',\n",
       " u'Bradley',\n",
       " u'defeated',\n",
       " u'Ro...',\n",
       " u'http://t.co/uI1qAq0f3d',\n",
       " u'#politics',\n",
       " u'#dem',\n",
       " u'#gop',\n",
       " u'RT',\n",
       " u'@NOTSportsCenter:',\n",
       " u'The',\n",
       " u'Duke-Wisconsin',\n",
       " u\"men's\",\n",
       " u'title',\n",
       " u'game',\n",
       " u'averaged',\n",
       " u'28',\n",
       " u'million',\n",
       " u'viewers.',\n",
       " u'The',\n",
       " u'UConn-Notre',\n",
       " u'Dame',\n",
       " u\"women's\",\n",
       " u'title',\n",
       " u'game',\n",
       " u'averaged',\n",
       " u'28\\u2026',\n",
       " u'RT',\n",
       " u'@itsHousePorn:',\n",
       " u'Wow.',\n",
       " u'This',\n",
       " u'Woodwork.',\n",
       " u'http://t.co/NhQtfB8vOv']"
      ]
     },
     "execution_count": 29,
     "metadata": {},
     "output_type": "execute_result"
    }
   ],
   "source": [
    "[w for t in tweets[: 5] for w in t.text.split()]"
   ]
  },
  {
   "cell_type": "markdown",
   "metadata": {},
   "source": [
    "####Exercise 4\n",
    "Given a timeline assigned to the variable `tweets`, get the hastags frequency distribution from the first 20 tweets. The function `histogram` written in [the exercise 6 of the class 06](class06.ipynb#Exercise-6) can be used for any iterable sequence (strings, lists, etc.)."
   ]
  },
  {
   "cell_type": "code",
   "execution_count": 30,
   "metadata": {
    "collapsed": false
   },
   "outputs": [
    {
     "data": {
      "text/plain": [
       "{u'NationalBeerDay': 1, u'dem': 1, u'gop': 1, u'politics': 1}"
      ]
     },
     "execution_count": 30,
     "metadata": {},
     "output_type": "execute_result"
    }
   ],
   "source": [
    "def histogram(sequence):\n",
    "    d = {}\n",
    "    for elem in sequence:\n",
    "        if elem in d:\n",
    "            d[elem] += 1\n",
    "        else:\n",
    "            d[elem] = 1\n",
    "    return d\n",
    "\n",
    "hashtags = [hashtag['text'] \n",
    "               for t in tweets[: 20]\n",
    "                   for hashtag in t.entities['hashtags']\n",
    "           ]\n",
    "\n",
    "histogram(hashtags)"
   ]
  }
 ],
 "metadata": {
  "kernelspec": {
   "display_name": "Python 2",
   "language": "python",
   "name": "python2"
  },
  "language_info": {
   "codemirror_mode": {
    "name": "ipython",
    "version": 2
   },
   "file_extension": ".py",
   "mimetype": "text/x-python",
   "name": "python",
   "nbconvert_exporter": "python",
   "pygments_lexer": "ipython2",
   "version": "2.7.6"
  }
 },
 "nbformat": 4,
 "nbformat_minor": 0
}
