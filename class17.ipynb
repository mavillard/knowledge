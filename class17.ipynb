{
 "cells": [
  {
   "cell_type": "markdown",
   "metadata": {},
   "source": [
    "<div align=\"center\">\n",
    "    <h1><a href=\"index.ipynb\">Knowledge Discovery in Digital Humanities</a></h1>\n",
    "</div>"
   ]
  },
  {
   "cell_type": "markdown",
   "metadata": {},
   "source": [
    "<div align=\"center\">\n",
    "    <h2>Class 17. Word tagging and categorization</h2>\n",
    "    <img src=\"img/tag.svg\" width=\"300\">\n",
    "</div>"
   ]
  },
  {
   "cell_type": "markdown",
   "metadata": {},
   "source": [
    "###Table of contents\n",
    "\n",
    "- [Lexical categories](#Lexical-categories)\n",
    "- [POS tagger](#POS-tagger)\n",
    "- [Automatic tagging](#Automatic-tagging)\n",
    "- [n-gram tagging](#n-gram-tagging)"
   ]
  },
  {
   "cell_type": "markdown",
   "metadata": {},
   "source": [
    "###Lexical categories\n",
    "\n",
    "- **nouns**: people, places, things, concepts\n",
    "- **verbs**: actions\n",
    "- **adjectives**: describes nouns\n",
    "- **adverbs**: modifies adjectives and verbs\n",
    "- ...\n",
    "\n",
    "<br/>\n",
    "<div align=\"center\">\n",
    "    <figure>\n",
    "        <img src=\"img/pos.png\" width=\"800\">\n",
    "        <figcaption>Lexical categories</figcaption>\n",
    "    </figure>\n",
    "</div>\n",
    "\n",
    "- These word classes are also known as parts-of-speech (POS)\n",
    "- They arise from simple analysis of the distribution of words in text"
   ]
  },
  {
   "cell_type": "markdown",
   "metadata": {},
   "source": [
    "###POS tagger\n",
    "\n",
    "The process of classifying words into their parts-of-speech and labeling them accordingly is known as *part-of-speech tagging*, *POS tagging*, or simply *tagging*.\n",
    "\n",
    "POS tagging is the third step in the typical natural language processing (NLP) pipeline, following tokenization.\n",
    "\n",
    "<br/>\n",
    "<div align=\"center\">\n",
    "    <figure>\n",
    "        <img src=\"img/nlp-pipeline.png\" width=\"600\">\n",
    "        <figcaption>NLP pipeline</figcaption>\n",
    "    </figure>\n",
    "</div>\n",
    "\n",
    "A POS tagger processes a sequence of words, and attaches a part of speech tag to each word. Steps:\n",
    "1. Tokenization\n",
    "2. Tagging\n",
    "\n",
    "Note: import the `nltk` package"
   ]
  },
  {
   "cell_type": "code",
   "execution_count": 5,
   "metadata": {
    "collapsed": true
   },
   "outputs": [],
   "source": [
    "import nltk"
   ]
  },
  {
   "cell_type": "markdown",
   "metadata": {},
   "source": [
    "and run only once the next code (use an IPython shell rather than an IPython notebook)...\n",
    "```\n",
    "nltk.download()\n",
    "```\n",
    "... choose `d) Download` for the downloader and then `all` as identifier to download all packages. This will download all the corpora and data needed to work with `nltk`.\n",
    "\n",
    "Example 1:"
   ]
  },
  {
   "cell_type": "code",
   "execution_count": 6,
   "metadata": {
    "collapsed": false
   },
   "outputs": [
    {
     "data": {
      "text/plain": [
       "[('And', 'CC'),\n",
       " ('now', 'RB'),\n",
       " ('for', 'IN'),\n",
       " ('something', 'NN'),\n",
       " ('completely', 'RB'),\n",
       " ('different', 'JJ')]"
      ]
     },
     "execution_count": 6,
     "metadata": {},
     "output_type": "execute_result"
    }
   ],
   "source": [
    "text = 'And now for something completely different'\n",
    "tokens = nltk.word_tokenize(text)\n",
    "nltk.pos_tag(tokens)"
   ]
  },
  {
   "cell_type": "markdown",
   "metadata": {},
   "source": [
    "<table align=\"left\">\n",
    "    <caption>Meaning of abbreviations (I)</caption>\n",
    "    <thead>\n",
    "        <th>Abbreviation</th><th>Lexical catefory</th>\n",
    "    </thead>\n",
    "    <tbody>\n",
    "        <tr><td>CC</td><td>coordinating conjunction</td></tr>\n",
    "        <tr><td>RB</td><td>adverb</td></tr>\n",
    "        <tr><td>IN</td><td>preposition</td></tr>\n",
    "        <tr><td>NN</td><td>noun</td></tr>\n",
    "        <tr><td>JJ</td><td>adjective</td></tr>\n",
    "    </tbody>\n",
    "</table>"
   ]
  },
  {
   "cell_type": "markdown",
   "metadata": {},
   "source": [
    "Example 2:"
   ]
  },
  {
   "cell_type": "code",
   "execution_count": 7,
   "metadata": {
    "collapsed": false
   },
   "outputs": [
    {
     "data": {
      "text/plain": [
       "[('They', 'PRP'),\n",
       " ('refuse', 'VBP'),\n",
       " ('to', 'TO'),\n",
       " ('permit', 'VB'),\n",
       " ('us', 'PRP'),\n",
       " ('to', 'TO'),\n",
       " ('obtain', 'VB'),\n",
       " ('the', 'DT'),\n",
       " ('refuse', 'NN'),\n",
       " ('permit', 'NN')]"
      ]
     },
     "execution_count": 7,
     "metadata": {},
     "output_type": "execute_result"
    }
   ],
   "source": [
    "text = 'They refuse to permit us to obtain the refuse permit'\n",
    "tokens = nltk.word_tokenize(text)\n",
    "nltk.pos_tag(tokens)"
   ]
  },
  {
   "cell_type": "markdown",
   "metadata": {},
   "source": [
    "<table align=\"left\">\n",
    "    <caption>Meaning of abbreviations (II)</caption>\n",
    "    <thead>\n",
    "        <th>Abbreviation</th><th>Lexical catefory</th>\n",
    "    </thead>\n",
    "    <tbody>\n",
    "        <tr><td>PRP</td><td>personal pronoun</td></tr>\n",
    "        <tr><td>VBP</td><td>verb in present tense</td></tr>\n",
    "        <tr><td>TO</td><td>preposition *to*</td></tr>\n",
    "        <tr><td>VB</td><td>verb</td></tr>\n",
    "        <tr><td>DT</td><td>determiner</td></tr>\n",
    "    </tbody>\n",
    "</table>"
   ]
  },
  {
   "cell_type": "markdown",
   "metadata": {},
   "source": [
    "Notice that *refuse* and *permit* both appear as a present tense verb (VBP) and a noun (NN). NLTK provides documentation for each tag, which can be queried using the function `nltk.help.upenn_tagset(tag)`. For example:"
   ]
  },
  {
   "cell_type": "code",
   "execution_count": 8,
   "metadata": {
    "collapsed": false
   },
   "outputs": [
    {
     "name": "stdout",
     "output_type": "stream",
     "text": [
      "RB: adverb\n",
      "    occasionally unabatingly maddeningly adventurously professedly\n",
      "    stirringly prominently technologically magisterially predominately\n",
      "    swiftly fiscally pitilessly ...\n"
     ]
    }
   ],
   "source": [
    "nltk.help.upenn_tagset('RB')"
   ]
  },
  {
   "cell_type": "markdown",
   "metadata": {},
   "source": [
    "###Automatic tagging"
   ]
  }
 ],
 "metadata": {
  "kernelspec": {
   "display_name": "Python 2",
   "language": "python",
   "name": "python2"
  },
  "language_info": {
   "codemirror_mode": {
    "name": "ipython",
    "version": 2
   },
   "file_extension": ".py",
   "mimetype": "text/x-python",
   "name": "python",
   "nbconvert_exporter": "python",
   "pygments_lexer": "ipython2",
   "version": "2.7.6"
  }
 },
 "nbformat": 4,
 "nbformat_minor": 0
}
