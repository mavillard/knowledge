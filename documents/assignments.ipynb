{
 "cells": [
  {
   "cell_type": "markdown",
   "metadata": {},
   "source": [
    "<div align=\"center\">\n",
    "    <h1><a href=\"../index.ipynb\">Knowledge Discovery in Digital Humanities</a></h1>\n",
    "    <h2>Assignments and final project</h2>\n",
    "</div>"
   ]
  },
  {
   "cell_type": "markdown",
   "metadata": {
    "collapsed": true
   },
   "source": [
    "###Assignment 1\n",
    "***Reputation and trust in the social web***\n",
    "\n",
    "How reputation and trust are affecting the way knowledge is constructed on sites like [StackOverflow](http://stackoverflow.com/), in opposition to sites with no reputation system such as [Wikipedia](http://en.wikipedia.org/)? Why do you think Wikipedia has not implemented a reputation system? How would you implement a reputation system for [Wikipedia](http://en.wikipedia.org/)? How this system would change the way [Wikipedia](http://en.wikipedia.org/) works? Do you think its performance would get better or worse? Why? How would this system deal with trolls?\n",
    "\n",
    "Write an essay (1,500-3,000 words / 3-6 single-spaced pages) about reputation and trust on [StackOverflow](http://stackoverflow.com/) and the way they affect the community in creating knowledge. Include answers for the previous questions. The article *[Welcome to the new reputation economy](http://www.wired.co.uk/magazine/archive/2012/09/features/welcome-to-the-new-reputation-economy)* ([Wired UK](http://www.wired.co.uk/), 2012) is a highly recommended start point."
   ]
  },
  {
   "cell_type": "markdown",
   "metadata": {},
   "source": [
    "###Assignment 2\n",
    "***Comparing vocabularies on [Facebook](https://www.facebook.com/) communities***\n",
    "\n",
    "Assignment in teams.\n",
    "\n",
    "Individually, each member of the team:\n",
    "- Choose your 10 closest friends (or those 10 you most interact with) on [Facebook](https://www.facebook.com/). Your 10 friends and you form a *community*.\n",
    "- Collect your community's most recent posts\n",
    "- Extract the list of all words. Keep duplicate words in the list (in order to count them), normalize capitalization (all words in lower case), remove punctuation marks, numbers and stop words. Stop words are too frequent words. A list of stop words can be found here:"
   ]
  },
  {
   "cell_type": "code",
   "execution_count": 1,
   "metadata": {
    "collapsed": false
   },
   "outputs": [
    {
     "name": "stdout",
     "output_type": "stream",
     "text": [
      "['i', 'me', 'my', 'myself', 'we', 'our', 'ours', 'ourselves', 'you', 'your', 'yours', 'yourself', 'yourselves', 'he', 'him', 'his', 'himself', 'she', 'her', 'hers', 'herself', 'it', 'its', 'itself', 'they', 'them', 'their', 'theirs', 'themselves', 'what', 'which', 'who', 'whom', 'this', 'that', 'these', 'those', 'am', 'is', 'are', 'was', 'were', 'be', 'been', 'being', 'have', 'has', 'had', 'having', 'do', 'does', 'did', 'doing', 'a', 'an', 'the', 'and', 'but', 'if', 'or', 'because', 'as', 'until', 'while', 'of', 'at', 'by', 'for', 'with', 'about', 'against', 'between', 'into', 'through', 'during', 'before', 'after', 'above', 'below', 'to', 'from', 'up', 'down', 'in', 'out', 'on', 'off', 'over', 'under', 'again', 'further', 'then', 'once', 'here', 'there', 'when', 'where', 'why', 'how', 'all', 'any', 'both', 'each', 'few', 'more', 'most', 'other', 'some', 'such', 'no', 'nor', 'not', 'only', 'own', 'same', 'so', 'than', 'too', 'very', 's', 't', 'can', 'will', 'just', 'don', 'should', 'now']\n"
     ]
    }
   ],
   "source": [
    "from nltk.corpus import stopwords\n",
    "print map(str, stopwords.words('english'))"
   ]
  },
  {
   "cell_type": "markdown",
   "metadata": {
    "collapsed": true
   },
   "source": [
    "- Create a frequency distribution of your words\n",
    "- Represent the distribution in a histogram\n",
    "\n",
    "In group:\n",
    "- Put all the distributions together\n",
    "- Contrast them in a histogram\n",
    "- Analyze the results: What are the most common words for all the communities? Do your communities have many words in common? Is there any word very frequent in one community but rare in the others? Give reasons to justify the similarities or differences on the vocabulary used by each community."
   ]
  },
  {
   "cell_type": "markdown",
   "metadata": {
    "collapsed": true
   },
   "source": [
    "###Assignment 3"
   ]
  },
  {
   "cell_type": "markdown",
   "metadata": {
    "collapsed": true
   },
   "source": [
    "###Final project"
   ]
  }
 ],
 "metadata": {
  "kernelspec": {
   "display_name": "Python 2",
   "language": "python",
   "name": "python2"
  },
  "language_info": {
   "codemirror_mode": {
    "name": "ipython",
    "version": 2
   },
   "file_extension": ".py",
   "mimetype": "text/x-python",
   "name": "python",
   "nbconvert_exporter": "python",
   "pygments_lexer": "ipython2",
   "version": "2.7.6"
  }
 },
 "nbformat": 4,
 "nbformat_minor": 0
}
