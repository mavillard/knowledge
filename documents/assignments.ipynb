{
 "cells": [
  {
   "cell_type": "markdown",
   "metadata": {},
   "source": [
    "<div align=\"center\">\n",
    "    <h1><a href=\"../index.ipynb\">Knowledge Discovery in Digital Humanities</a></h1>\n",
    "    <h2>Assignments and final project</h2>\n",
    "</div>"
   ]
  },
  {
   "cell_type": "markdown",
   "metadata": {
    "collapsed": true
   },
   "source": [
    "###Assignment 1\n",
    "***Reputation and trust in the social web***\n",
    "\n",
    "How reputation and trust are affecting the way knowledge is constructed on sites like [StackOverflow](http://stackoverflow.com/), in opposition to sites with no reputation system such as [Wikipedia](http://en.wikipedia.org/)? Why do you think Wikipedia has not implemented a reputation system? How would you implement a reputation system for [Wikipedia](http://en.wikipedia.org/)? How this system would change the way [Wikipedia](http://en.wikipedia.org/) works? Do you think its performance would get better or worse? Why? How would this system deal with trolls?\n",
    "\n",
    "Write an essay (1,500-3,000 words / 3-6 single-spaced pages) about reputation and trust on [StackOverflow](http://stackoverflow.com/) and the way they affect the community in creating knowledge. Include answers for the previous questions. The article *[Welcome to the new reputation economy](http://www.wired.co.uk/magazine/archive/2012/09/features/welcome-to-the-new-reputation-economy)* ([Wired UK](http://www.wired.co.uk/), 2012) is a highly recommended start point."
   ]
  },
  {
   "cell_type": "markdown",
   "metadata": {
    "collapsed": true
   },
   "source": [
    "###Assignment 2"
   ]
  },
  {
   "cell_type": "markdown",
   "metadata": {
    "collapsed": true
   },
   "source": [
    "###Assignment 3"
   ]
  },
  {
   "cell_type": "markdown",
   "metadata": {
    "collapsed": true
   },
   "source": [
    "###Final project"
   ]
  }
 ],
 "metadata": {
  "kernelspec": {
   "display_name": "Python 2",
   "language": "python",
   "name": "python2"
  },
  "language_info": {
   "codemirror_mode": {
    "name": "ipython",
    "version": 2
   },
   "file_extension": ".py",
   "mimetype": "text/x-python",
   "name": "python",
   "nbconvert_exporter": "python",
   "pygments_lexer": "ipython2",
   "version": "2.7.6"
  }
 },
 "nbformat": 4,
 "nbformat_minor": 0
}
