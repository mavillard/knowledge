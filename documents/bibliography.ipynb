{
 "cells": [
  {
   "cell_type": "markdown",
   "metadata": {},
   "source": [
    "<div align=\"center\">\n",
    "    <h1><a href=\"index.ipynb\">Knowledge Discovery in Digital Humanities</a></h1>\n",
    "    <h2>Course plan</h2>\n",
    "</div>"
   ]
  },
  {
   "cell_type": "markdown",
   "metadata": {
    "collapsed": true
   },
   "source": [
    "###Module I: Knowledge\n",
    "\n",
    "- Class 01\n",
    "- Class 02\n",
    "- Class 03\n",
    "\n",
    "###Module II: Python\n",
    "\n",
    "- Class 04\n",
    "- Class 05\n",
    "- Class 06\n",
    "- Class 07\n",
    "\n",
    "###Module III: \n",
    "\n",
    "- Class 08\n",
    "- Class 09\n",
    "- Class 10\n",
    "- Class 11\n",
    "- Class 12\n",
    "- Class 13\n",
    "- Class 14\n",
    "- Class 15\n",
    "- Class 16\n",
    "- Class 17\n",
    "- Class 18\n",
    "- Class 19\n",
    "- Class 20\n",
    "- Class 21\n",
    "- Class 22\n",
    "- Class 07\n",
    "\n",
    "###Module IV"
   ]
  }
 ],
 "metadata": {
  "kernelspec": {
   "display_name": "Python 2",
   "language": "python",
   "name": "python2"
  },
  "language_info": {
   "codemirror_mode": {
    "name": "ipython",
    "version": 2
   },
   "file_extension": ".py",
   "mimetype": "text/x-python",
   "name": "python",
   "nbconvert_exporter": "python",
   "pygments_lexer": "ipython2",
   "version": "2.7.6"
  }
 },
 "nbformat": 4,
 "nbformat_minor": 0
}
