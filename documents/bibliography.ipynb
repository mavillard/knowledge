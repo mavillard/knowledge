{
 "cells": [
  {
   "cell_type": "markdown",
   "metadata": {},
   "source": [
    "<div align=\"center\">\n",
    "    <h1><a href=\"../index.ipynb\">Knowledge Discovery in Digital Humanities</a></h1>\n",
    "    <h2>Bibliography</h2>\n",
    "</div>"
   ]
  },
  {
   "cell_type": "markdown",
   "metadata": {
    "collapsed": true
   },
   "source": [
    "###Knowledge\n",
    "\n",
    "<html xmlns=\"http://www.w3.org/1999/xhtml\" xml:lang=\"en\">\n",
    "<head>\n",
    "<meta http-equiv=\"Content-Type\" content=\"text/html; charset=utf-8\"/>\n",
    "<title>Bibliography</title>\n",
    "</head>\n",
    "<body>\n",
    "<div style=\"line-height: 2; padding-left: 2em; text-indent:-2em;\" class=\"csl-bib-body\">\n",
    "  <div class=\"csl-entry\">Davenport, Thomas H., and Laurence Prusak. <i>Working Knowledge</i>. 2nd edition. Boston, Mass: Harvard Business Review Press, 2000. Print.</div>\n",
    "  <span class=\"Z3988\" title=\"url_ver=Z39.88-2004&amp;ctx_ver=Z39.88-2004&amp;rfr_id=info%3Asid%2Fzotero.org%3A2&amp;rft_id=urn%3Aisbn%3A9781578513017&amp;rft_val_fmt=info%3Aofi%2Ffmt%3Akev%3Amtx%3Abook&amp;rft.genre=book&amp;rft.btitle=Working%20Knowledge&amp;rft.place=Boston%2C%20Mass&amp;rft.publisher=Harvard%20Business%20Review%20Press&amp;rft.edition=2nd%20edition&amp;rft.aufirst=Thomas%20H.&amp;rft.aulast=Davenport&amp;rft.au=Thomas%20H.%20Davenport&amp;rft.au=Laurence%20Prusak&amp;rft.date=2000-05&amp;rft.tpages=240&amp;rft.isbn=9781578513017&amp;rft.language=English\"></span>\n",
    "  <div class=\"csl-entry\">Fantl, Jeremy. “Knowledge How.” <i>The Stanford Encyclopedia of Philosophy</i>. Ed. Edward N. Zalta. Fall 2014. N.p., 2014. <i>Stanford Encyclopedia of Philosophy</i>. Web. 7 Apr. 2015.</div>\n",
    "  <span class=\"Z3988\" title=\"url_ver=Z39.88-2004&amp;ctx_ver=Z39.88-2004&amp;rfr_id=info%3Asid%2Fzotero.org%3A2&amp;rft_val_fmt=info%3Aofi%2Ffmt%3Akev%3Amtx%3Abook&amp;rft.genre=bookitem&amp;rft.atitle=Knowledge%20How&amp;rft.edition=Fall%202014&amp;rft.aufirst=Jeremy&amp;rft.aulast=Fantl&amp;rft.au=Jeremy%20Fantl&amp;rft.au=Edward%20N.%20Zalta&amp;rft.date=2014\"></span>\n",
    "  <div class=\"csl-entry\">Hardwig, John. “The Role of Trust in Knowledge.” <i>The Journal of Philosophy</i> 88.12 (1991): 693–708. <i>JSTOR</i>. Web. 7 Apr. 2015.</div>\n",
    "  <span class=\"Z3988\" title=\"url_ver=Z39.88-2004&amp;ctx_ver=Z39.88-2004&amp;rfr_id=info%3Asid%2Fzotero.org%3A2&amp;rft_id=info%3Adoi%2F10.2307%2F2027007&amp;rft_val_fmt=info%3Aofi%2Ffmt%3Akev%3Amtx%3Ajournal&amp;rft.genre=article&amp;rft.atitle=The%20Role%20of%20Trust%20in%20Knowledge&amp;rft.jtitle=The%20Journal%20of%20Philosophy&amp;rft.stitle=The%20Journal%20of%20Philosophy&amp;rft.volume=88&amp;rft.issue=12&amp;rft.aufirst=John&amp;rft.aulast=Hardwig&amp;rft.au=John%20Hardwig&amp;rft.date=1991-12-01&amp;rft.pages=693-708&amp;rft.spage=693&amp;rft.epage=708&amp;rft.issn=0022-362X\"></span>\n",
    "  <div class=\"csl-entry\">Madison, Michael J. “Beyond Creativity:&nbsp; Copyright as Knowledge Law.” <i>Vanderbilt Journal of Entertainment &amp; Technology Law</i> 12.4 (2010): 817–851. Print.</div>\n",
    "  <span class=\"Z3988\" title=\"url_ver=Z39.88-2004&amp;ctx_ver=Z39.88-2004&amp;rfr_id=info%3Asid%2Fzotero.org%3A2&amp;rft_val_fmt=info%3Aofi%2Ffmt%3Akev%3Amtx%3Ajournal&amp;rft.genre=article&amp;rft.atitle=Beyond%20Creativity%3A%20%20Copyright%20as%20Knowledge%20Law&amp;rft.jtitle=Vanderbilt%20Journal%20of%20Entertainment%20%26%20Technology%20Law&amp;rft.volume=12&amp;rft.issue=4&amp;rft.aufirst=Michael%20J.&amp;rft.aulast=Madison&amp;rft.au=Michael%20J.%20Madison&amp;rft.date=2010&amp;rft.pages=817-851&amp;rft.spage=817&amp;rft.epage=851\"></span>\n",
    "  <div class=\"csl-entry\">Quinn, Alexander J., and Benjamin B. Bederson. “Human Computation: A Survey and Taxonomy of a Growing Field.” <i>Proceedings of the SIGCHI Conference on Human Factors in Computing Systems</i>. New York, NY, USA: ACM, 2011. 1403–1412. <i>ACM Digital Library</i>. Web. 7 Apr. 2015. CHI ’11.</div>\n",
    "  <span class=\"Z3988\" title=\"url_ver=Z39.88-2004&amp;ctx_ver=Z39.88-2004&amp;rfr_id=info%3Asid%2Fzotero.org%3A2&amp;rft_id=info%3Adoi%2F10.1145%2F1978942.1979148&amp;rft_id=urn%3Aisbn%3A978-1-4503-0228-9&amp;rft_val_fmt=info%3Aofi%2Ffmt%3Akev%3Amtx%3Abook&amp;rft.genre=proceeding&amp;rft.atitle=Human%20Computation%3A%20A%20Survey%20and%20Taxonomy%20of%20a%20Growing%20Field&amp;rft.btitle=Proceedings%20of%20the%20SIGCHI%20Conference%20on%20Human%20Factors%20in%20Computing%20Systems&amp;rft.place=New%20York%2C%20NY%2C%20USA&amp;rft.publisher=ACM&amp;rft.series=CHI%20'11&amp;rft.aufirst=Alexander%20J.&amp;rft.aulast=Quinn&amp;rft.au=Alexander%20J.%20Quinn&amp;rft.au=Benjamin%20B.%20Bederson&amp;rft.date=2011&amp;rft.pages=1403%E2%80%931412&amp;rft.isbn=978-1-4503-0228-9\"></span>\n",
    "  <div class=\"csl-entry\">Repko, Allen F. <i>Interdisciplinary Research: Process and Theory</i>. 2 edition. Thousand Oaks, Calif: Sage Publications, 2011. Print.</div>\n",
    "  <span class=\"Z3988\" title=\"url_ver=Z39.88-2004&amp;ctx_ver=Z39.88-2004&amp;rfr_id=info%3Asid%2Fzotero.org%3A2&amp;rft_id=urn%3Aisbn%3A9781412988773&amp;rft_val_fmt=info%3Aofi%2Ffmt%3Akev%3Amtx%3Abook&amp;rft.genre=book&amp;rft.btitle=Interdisciplinary%20Research%3A%20Process%20and%20Theory&amp;rft.place=Thousand%20Oaks%2C%20Calif&amp;rft.publisher=Sage%20Publications&amp;rft.edition=2%20edition&amp;rft.aufirst=Allen%20F.&amp;rft.aulast=Repko&amp;rft.au=Allen%20F.%20Repko&amp;rft.date=2011-10-12&amp;rft.tpages=544&amp;rft.isbn=9781412988773&amp;rft.language=English\"></span>\n",
    "  <div class=\"csl-entry\">Steup, Matthias. “Epistemology.” <i>The Stanford Encyclopedia of Philosophy</i>. Ed. Edward N. Zalta. Spring 2014. N.p., 2014. <i>Stanford Encyclopedia of Philosophy</i>. Web. 7 Apr. 2015.</div>\n",
    "  <span class=\"Z3988\" title=\"url_ver=Z39.88-2004&amp;ctx_ver=Z39.88-2004&amp;rfr_id=info%3Asid%2Fzotero.org%3A2&amp;rft_val_fmt=info%3Aofi%2Ffmt%3Akev%3Amtx%3Abook&amp;rft.genre=bookitem&amp;rft.atitle=Epistemology&amp;rft.edition=Spring%202014&amp;rft.aufirst=Matthias&amp;rft.aulast=Steup&amp;rft.au=Matthias%20Steup&amp;rft.au=Edward%20N.%20Zalta&amp;rft.date=2014\"></span>\n",
    "  <div class=\"csl-entry\">Surowiecki, James. <i>The Wisdom of Crowds</i>. Reprint edition. New York: Anchor, 2005. Print.</div>\n",
    "  <span class=\"Z3988\" title=\"url_ver=Z39.88-2004&amp;ctx_ver=Z39.88-2004&amp;rfr_id=info%3Asid%2Fzotero.org%3A2&amp;rft_id=urn%3Aisbn%3A9780385721707&amp;rft_val_fmt=info%3Aofi%2Ffmt%3Akev%3Amtx%3Abook&amp;rft.genre=book&amp;rft.btitle=The%20Wisdom%20of%20Crowds&amp;rft.place=New%20York&amp;rft.publisher=Anchor&amp;rft.edition=Reprint%20edition&amp;rft.aufirst=James&amp;rft.aulast=Surowiecki&amp;rft.au=James%20Surowiecki&amp;rft.date=2005-08-16&amp;rft.tpages=336&amp;rft.isbn=9780385721707&amp;rft.language=English\"></span>\n",
    "  <div class=\"csl-entry\">Thagard, Paul. “Collaborative Knowledge.” <i>Noûs</i> 31.2 (1997): 242–261. Print.</div>\n",
    "  <span class=\"Z3988\" title=\"url_ver=Z39.88-2004&amp;ctx_ver=Z39.88-2004&amp;rfr_id=info%3Asid%2Fzotero.org%3A2&amp;rft_val_fmt=info%3Aofi%2Ffmt%3Akev%3Amtx%3Ajournal&amp;rft.genre=article&amp;rft.atitle=Collaborative%20knowledge&amp;rft.jtitle=No%C3%BBs&amp;rft.volume=31&amp;rft.issue=2&amp;rft.aufirst=Paul&amp;rft.aulast=Thagard&amp;rft.au=Paul%20Thagard&amp;rft.date=1997-06&amp;rft.pages=242-261&amp;rft.spage=242&amp;rft.epage=261\"></span>\n",
    "  <div class=\"csl-entry\">Thierauf, Robert J. <i>Knowledge Management Systems for Business</i>. Greenwood Publishing Group, 1999. Print.</div>\n",
    "  <span class=\"Z3988\" title=\"url_ver=Z39.88-2004&amp;ctx_ver=Z39.88-2004&amp;rfr_id=info%3Asid%2Fzotero.org%3A2&amp;rft_id=urn%3Aisbn%3A9781567202182&amp;rft_val_fmt=info%3Aofi%2Ffmt%3Akev%3Amtx%3Abook&amp;rft.genre=book&amp;rft.btitle=Knowledge%20Management%20Systems%20for%20Business&amp;rft.publisher=Greenwood%20Publishing%20Group&amp;rft.aufirst=Robert%20J.&amp;rft.aulast=Thierauf&amp;rft.au=Robert%20J.%20Thierauf&amp;rft.date=1999-01-01&amp;rft.tpages=380&amp;rft.isbn=9781567202182&amp;rft.language=en\"></span>\n",
    "</div></body>\n",
    "</html>"
   ]
  },
  {
   "cell_type": "markdown",
   "metadata": {},
   "source": [
    "###Python\n",
    "\n",
    "<html xmlns=\"http://www.w3.org/1999/xhtml\" xml:lang=\"en\">\n",
    "<head>\n",
    "<meta http-equiv=\"Content-Type\" content=\"text/html; charset=utf-8\"/>\n",
    "<title>Bibliography</title>\n",
    "</head>\n",
    "<body>\n",
    "<div style=\"line-height: 2; padding-left: 2em; text-indent:-2em;\" class=\"csl-bib-body\">\n",
    "  <div class=\"csl-entry\">Downey, Allen B. <i>Think Python</i>. Sebastopol, CA: O’Reilly Media, 2012. Print.</div>\n",
    "  <span class=\"Z3988\" title=\"url_ver=Z39.88-2004&amp;ctx_ver=Z39.88-2004&amp;rfr_id=info%3Asid%2Fzotero.org%3A2&amp;rft_id=urn%3Aisbn%3A9781449330729&amp;rft_val_fmt=info%3Aofi%2Ffmt%3Akev%3Amtx%3Abook&amp;rft.genre=book&amp;rft.btitle=Think%20Python&amp;rft.place=Sebastopol%2C%20CA&amp;rft.publisher=O'Reilly%20Media&amp;rft.aufirst=Allen%20B.&amp;rft.aulast=Downey&amp;rft.au=Allen%20B.%20Downey&amp;rft.date=2012-08-23&amp;rft.tpages=300&amp;rft.isbn=9781449330729&amp;rft.language=English\"></span>\n",
    "</div></body>\n",
    "</html>"
   ]
  },
  {
   "cell_type": "markdown",
   "metadata": {},
   "source": [
    "###Social web\n",
    "\n",
    "<html xmlns=\"http://www.w3.org/1999/xhtml\" xml:lang=\"en\">\n",
    "<head>\n",
    "<meta http-equiv=\"Content-Type\" content=\"text/html; charset=utf-8\"/>\n",
    "<title>Bibliography</title>\n",
    "</head>\n",
    "<body>\n",
    "<div style=\"line-height: 2; padding-left: 2em; text-indent:-2em;\" class=\"csl-bib-body\">\n",
    "  <div class=\"csl-entry\">Russell, Matthew A. <i>Mining the Social Web: Data Mining Facebook, Twitter, LinkedIn, Google+, GitHub, and More</i>. Second edition. O’Reilly Media, 2013. Print.</div>\n",
    "  <span class=\"Z3988\" title=\"url_ver=Z39.88-2004&amp;ctx_ver=Z39.88-2004&amp;rfr_id=info%3Asid%2Fzotero.org%3A2&amp;rft_id=urn%3Aisbn%3A9781449367619&amp;rft_val_fmt=info%3Aofi%2Ffmt%3Akev%3Amtx%3Abook&amp;rft.genre=book&amp;rft.btitle=Mining%20the%20Social%20Web%3A%20Data%20Mining%20Facebook%2C%20Twitter%2C%20LinkedIn%2C%20Google%2B%2C%20GitHub%2C%20and%20More&amp;rft.publisher=O'Reilly%20Media&amp;rft.edition=Second%20edition&amp;rft.aufirst=Matthew%20A.&amp;rft.aulast=Russell&amp;rft.au=Matthew%20A.%20Russell&amp;rft.date=2013-10-20&amp;rft.tpages=448&amp;rft.isbn=9781449367619&amp;rft.language=English\"></span>\n",
    "</div></body>\n",
    "</html>"
   ]
  },
  {
   "cell_type": "markdown",
   "metadata": {},
   "source": [
    "###Text mining\n",
    "\n",
    "<html xmlns=\"http://www.w3.org/1999/xhtml\" xml:lang=\"en\">\n",
    "<head>\n",
    "<meta http-equiv=\"Content-Type\" content=\"text/html; charset=utf-8\"/>\n",
    "<title>Bibliography</title>\n",
    "</head>\n",
    "<body>\n",
    "<div style=\"line-height: 2; padding-left: 2em; text-indent:-2em;\" class=\"csl-bib-body\">\n",
    "  <div class=\"csl-entry\">Bird, Steven, Ewan Klein, and Edward Loper. <i>Natural Language Processing with Python</i>. Beijing ; Cambridge Mass.: O’Reilly Media, 2009. Print.</div>\n",
    "  <span class=\"Z3988\" title=\"url_ver=Z39.88-2004&amp;ctx_ver=Z39.88-2004&amp;rfr_id=info%3Asid%2Fzotero.org%3A2&amp;rft_id=urn%3Aisbn%3A9780596516499&amp;rft_val_fmt=info%3Aofi%2Ffmt%3Akev%3Amtx%3Abook&amp;rft.genre=book&amp;rft.btitle=Natural%20Language%20Processing%20with%20Python&amp;rft.place=Beijing%20%3B%20Cambridge%20Mass.&amp;rft.publisher=O'Reilly%20Media&amp;rft.aufirst=Steven&amp;rft.aulast=Bird&amp;rft.au=Steven%20Bird&amp;rft.au=Ewan%20Klein&amp;rft.au=Edward%20Loper&amp;rft.date=2009-07-10&amp;rft.tpages=504&amp;rft.isbn=9780596516499&amp;rft.language=English\"></span>\n",
    "  <div class=\"csl-entry\">Liu, Bing. <i>Sentiment Analysis and Opinion Mining</i>. San Rafael, Calif.: Morgan &amp; Claypool Publishers, 2012. Print.</div>\n",
    "  <span class=\"Z3988\" title=\"url_ver=Z39.88-2004&amp;ctx_ver=Z39.88-2004&amp;rfr_id=info%3Asid%2Fzotero.org%3A2&amp;rft_id=urn%3Aisbn%3A9781608458844&amp;rft_val_fmt=info%3Aofi%2Ffmt%3Akev%3Amtx%3Abook&amp;rft.genre=book&amp;rft.btitle=Sentiment%20Analysis%20and%20Opinion%20Mining&amp;rft.place=San%20Rafael%2C%20Calif.&amp;rft.publisher=Morgan%20%26%20Claypool%20Publishers&amp;rft.aufirst=Bing&amp;rft.aulast=Liu&amp;rft.au=Bing%20Liu&amp;rft.date=2012-05-23&amp;rft.tpages=180&amp;rft.isbn=9781608458844&amp;rft.language=English\"></span>\n",
    "  <div class=\"csl-entry\">Loria, Steven. “TextBlob: Simplified Text Processing.” N.p., n.d. Web. 7 Apr. 2015.</div>\n",
    "  <span class=\"Z3988\" title=\"url_ver=Z39.88-2004&amp;ctx_ver=Z39.88-2004&amp;rfr_id=info%3Asid%2Fzotero.org%3A2&amp;rft_val_fmt=info%3Aofi%2Ffmt%3Akev%3Amtx%3Adc&amp;rft.type=webpage&amp;rft.title=TextBlob%3A%20Simplified%20Text%20Processing&amp;rft.identifier=http%3A%2F%2Ftextblob.readthedocs.org%2Fen%2Fdev%2F&amp;rft.aufirst=Steven&amp;rft.aulast=Loria&amp;rft.au=Steven%20Loria\"></span>\n",
    "</div></body>\n",
    "</html>"
   ]
  }
 ],
 "metadata": {
  "kernelspec": {
   "display_name": "Python 2",
   "language": "python",
   "name": "python2"
  },
  "language_info": {
   "codemirror_mode": {
    "name": "ipython",
    "version": 2
   },
   "file_extension": ".py",
   "mimetype": "text/x-python",
   "name": "python",
   "nbconvert_exporter": "python",
   "pygments_lexer": "ipython2",
   "version": "2.7.6"
  }
 },
 "nbformat": 4,
 "nbformat_minor": 0
}
