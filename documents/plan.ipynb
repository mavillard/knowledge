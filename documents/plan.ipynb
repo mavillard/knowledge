{
 "cells": [
  {
   "cell_type": "markdown",
   "metadata": {},
   "source": [
    "<div align=\"center\">\n",
    "    <h1><a href=\"index.ipynb\">Knowledge Discovery in Digital Humanities</a></h1>\n",
    "    <h2>Course plan</h2>\n",
    "</div>"
   ]
  },
  {
   "cell_type": "markdown",
   "metadata": {
    "collapsed": true
   },
   "source": [
    "###Module I: Knowledge\n",
    "\n",
    "- [Class 01. Course overview](../class01.ipynb)\n",
    "    - Topics:\n",
    "        - Introduction to the course\n",
    "        - Content samples\n",
    "        - Syllabus overview\n",
    "- [Class 02. What is knowledge?](../class02.ipynb)\n",
    "    - Topics:\n",
    "        - Knowledge definition\n",
    "        - Areas of knowledge\n",
    "        - Types of knowledge\n",
    "        - Levels of knowing\n",
    "        - Sources of knowledge\n",
    "        - Sources of information\n",
    "- [Class 03. The social nature of knowledge](../class03.ipynb)\n",
    "    - Topics:\n",
    "        - Social knowledge\n",
    "        - The nature of collaboration\n",
    "        - Crowdsourcing and the participatory culture\n",
    "        - Motivations to contribute\n",
    "        - The rol of trust in knowledge\n",
    "\n",
    "###Module II: Python\n",
    "\n",
    "- [Class 04. Python I: Preliminary](../class04.ipynb)\n",
    "    - Topics:\n",
    "        - Setup\n",
    "        - IPython notebook\n",
    "        - Hello world!, the first program in Python\n",
    "        - Variables, expressions, and statements\n",
    "- [Class 05. Python II: Flow control](../class05.ipynb)\n",
    "    - Topics:\n",
    "        - Conditionals and iterations\n",
    "        - Functions\n",
    "        - Debugging code\n",
    "- [Class 06. Python III: Data types](../class06.ipynb)\n",
    "    - Topics:\n",
    "        - Basic data types\n",
    "        - Strings\n",
    "        - Lists\n",
    "        - Typles\n",
    "        - Dictionaries\n",
    "- [Class 07. Python IV: Files](../class07.ipynb)¶\n",
    "    - Topics:\n",
    "        - Oriented-object programming\n",
    "        - Text files\n",
    "        - CSV files\n",
    "        - Web files\n",
    "\n",
    "###Module III: Text\n",
    "\n",
    "- Class 08\n",
    "- Class 09\n",
    "- Class 10\n",
    "- Class 11\n",
    "- Class 12\n",
    "- Class 13\n",
    "- Class 14\n",
    "- Class 15\n",
    "- Class 16\n",
    "- Class 17\n",
    "- Class 18\n",
    "- Class 19\n",
    "- Class 20\n",
    "- Class 21\n",
    "- Class 22\n",
    "- Class 23\n",
    "\n",
    "###Module IV: Projects\n",
    "\n",
    "- Class 24\n",
    "- Class 25\n",
    "- Class 26"
   ]
  },
  {
   "cell_type": "code",
   "execution_count": null,
   "metadata": {
    "collapsed": true
   },
   "outputs": [],
   "source": []
  }
 ],
 "metadata": {
  "kernelspec": {
   "display_name": "Python 2",
   "language": "python",
   "name": "python2"
  },
  "language_info": {
   "codemirror_mode": {
    "name": "ipython",
    "version": 2
   },
   "file_extension": ".py",
   "mimetype": "text/x-python",
   "name": "python",
   "nbconvert_exporter": "python",
   "pygments_lexer": "ipython2",
   "version": "2.7.6"
  }
 },
 "nbformat": 4,
 "nbformat_minor": 0
}
