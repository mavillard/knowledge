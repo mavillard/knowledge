{
 "cells": [
  {
   "cell_type": "markdown",
   "metadata": {},
   "source": [
    "<div align=\"center\">\n",
    "    <h1><a href=\"index.ipynb\">Knowledge Discovery in Digital Humanities</a></h1>\n",
    "    <h2>Course plan</h2>\n",
    "</div>"
   ]
  },
  {
   "cell_type": "markdown",
   "metadata": {
    "collapsed": true
   },
   "source": [
    "###Module I: Knowledge\n",
    "\n",
    "- [Class 01. Course overview](../class01.ipynb)\n",
    "- [Class 02. What is knowledge?](../class02.ipynb)\n",
    "- [Class 03. The social nature of knowledge](../class03.ipynb)\n",
    "\n",
    "###Module II: Python\n",
    "\n",
    "- [Class 04. Python I: Preliminary](../class04.ipynb)\n",
    "- [Class 05. Python II: Flow control](../class05.ipynb)\n",
    "- [Class 06. Python III: Data types](../class06.ipynb)\n",
    "- [Class 07. Python IV: Files](../class07.ipynb)\n",
    "\n",
    "###Module III: Text\n",
    "\n",
    "- Class 08\n",
    "- Class 09\n",
    "- Class 10\n",
    "- Class 11\n",
    "- Class 12\n",
    "- Class 13\n",
    "- Class 14\n",
    "- Class 15\n",
    "- Class 16\n",
    "- Class 17\n",
    "- Class 18\n",
    "- Class 19\n",
    "- Class 20\n",
    "- Class 21\n",
    "- Class 22\n",
    "\n",
    "###Module IV: Projects\n",
    "\n",
    "- Class 23\n",
    "- Class 24\n",
    "- Class 25\n",
    "- Class 26"
   ]
  },
  {
   "cell_type": "code",
   "execution_count": null,
   "metadata": {
    "collapsed": true
   },
   "outputs": [],
   "source": []
  }
 ],
 "metadata": {
  "kernelspec": {
   "display_name": "Python 2",
   "language": "python",
   "name": "python2"
  },
  "language_info": {
   "codemirror_mode": {
    "name": "ipython",
    "version": 2
   },
   "file_extension": ".py",
   "mimetype": "text/x-python",
   "name": "python",
   "nbconvert_exporter": "python",
   "pygments_lexer": "ipython2",
   "version": "2.7.6"
  }
 },
 "nbformat": 4,
 "nbformat_minor": 0
}
