{
 "cells": [
  {
   "cell_type": "markdown",
   "metadata": {},
   "source": [
    "<div align=\"center\">\n",
    "    <h1><a href=\"index.ipynb\">Knowledge Discovery in Digital Humanities</a></h1>\n",
    "    <h2>Syllabus</h2>\n",
    "</div>"
   ]
  },
  {
   "cell_type": "markdown",
   "metadata": {},
   "source": [
    "###Table of contents\n",
    "\n",
    "- [Course description](#Course-description)\n",
    "- [Objectives](#Objectives)\n",
    "- [Learning outcomes](#Learning-outcomes)\n",
    "- [Prerequisite and antirequesite](#Prerequisite-and-antirequesite)\n",
    "- [Evaluation](#Evaluation)\n",
    "- [Plagiarism](#Plagiarism)\n",
    "- [Absenteeism](#Absenteeism)\n",
    "- [Course plan](#Course-plan)\n",
    "- [Bibliography](#Bibliography)"
   ]
  },
  {
   "cell_type": "markdown",
   "metadata": {},
   "source": [
    "###Course description\n",
    "\n",
    "This course aims to teach how to obtain valuable knowledge from a variety of online sources of information. It starts with an introduction to knowledge and ways of creating it, including how technology and new media are affecting traditional means of its production and dissemination. In particular, the course examines the social nature of knowledge, that claims that human knowledge is created and transmitted through social processes, against more traditional theories of knowledge that argue that it is produced by individuals.\n",
    "\n",
    "In this context of collectivity, the course provides an overview of crowdsourcing (that is, the act of outsourcing a task to the crowd), collaboration and interdisciplinarity. It also outlines some of the existing mechanisms to incentive the community to participate, as well as the rol of reputation and trust in the process of collaborative creation and sharing of knowledge. The exploration of certain online communities formed on Facebook, Twitter or Stack Overflow around specific topics exemplifies these concepts.\n",
    "\n",
    "The course shows how to extract knowledge from such communities by means of two combined approaches: social media mining and text processing. In order to address these topics, it begins with a general programming guide in Python. Then it covers some useful methods to mine social media like Twitter or Facebook, and websites, and also explores powerful Python libraries to visualize the data extracted like Matplotlib or Pandas. Finally, it showcases major techniques for text processing, namely, information retrieval, text classification or sentiment analysis, which demonstrate it is possible to discover interesting patterns and support decision making from knowledge previously extracted, with an emphasis on practical applications."
   ]
  },
  {
   "cell_type": "markdown",
   "metadata": {},
   "source": [
    "###Objectives\n",
    "\n",
    "The main goals of this course are:\n",
    "- Understand human knowledge as a social construct, and the specific role of crowdsourcing, interdisciplinary collaboration, and new technologies.\n",
    "- Be aware of the valuable knowledge contained in new media such as social networks and online knowledge communities.\n",
    "- Highlight existing mechanisms to identify reliable knowledge, in particular, reputation and trust.\n",
    "- Create the next generation of skilled researchers by means of programming applied to text processing."
   ]
  },
  {
   "cell_type": "markdown",
   "metadata": {},
   "source": [
    "###Learning outcomes\n",
    "\n",
    "Upon completing this course, students will be able to effectively:\n",
    "- Critically judge the validity of online sources of knowledge.\n",
    "- Write programs in Python in order to solve problems.\n",
    "- Access a varied range of online resources to extract information.\n",
    "- Be able to discover knowledge from online knowledge communities."
   ]
  },
  {
   "cell_type": "markdown",
   "metadata": {},
   "source": [
    "###Prerequisite and antirequesite\n",
    "There are no prerequisites or antirequesites for this course. However, previous programming skills are advised."
   ]
  },
  {
   "cell_type": "markdown",
   "metadata": {},
   "source": [
    "###Evaluation\n",
    "\n",
    "<table align=\"left\">\n",
    "    <tr><td>attendance</td><td>students can miss up to 3 classes</td><td>15%</td></tr>\n",
    "    <tr><td>assignments</td><td>3 assignments, 15% each</td><td>45%</td></tr>\n",
    "    <tr><td>final project</td><td>proposal: 10%, code: 10%, essay: 10%, presentation: 10%</td><td>40%</td></tr>\n",
    "</table>\n",
    "<br/><br/><br/><br/><br/>\n",
    "\n",
    "####Attendance (15%)\n",
    "The students are expected to attende class regularly. Attendance grade can be calculated after this formula:\n",
    "```\n",
    "if absences <= 3:\n",
    "    grade = 15%\n",
    "else:\n",
    "    grade = 0%\n",
    "```\n",
    "\n",
    "####Assignments (35%)\n",
    "There are 3 assignments in this course (one for module I and two for module III) graded with 15% each.\n",
    "\n",
    "####Final project (45%):\n",
    "The students must choose a problem of their interest and an appropiate dataset, and apply some of the techniques covered in the course. The final project evaluation is divided into 4 parts:\n",
    "- Interest and viability of the proposal (10%)\n",
    "- Code of the solution written in IPython notebook (10%)\n",
    "- Memory of the project (10%)\n",
    "- Presentation in class (10%)"
   ]
  },
  {
   "cell_type": "markdown",
   "metadata": {},
   "source": [
    "###Plagiarism\n",
    "\n",
    "Plagiarism is a major academic offense (see Scholastic Offense Policy in the Western Academic\n",
    "Calendar at http://www.westerncalendar.uwo.ca/2015/pg113.html). Plagiarism is the inclusion of someone else's verbatim or paraphrased text in one's own written work without immediate reference. Verbatim text must be surrounded by quotation marks or indented if it is longer than four lines. A reference must follow right after borrowed material (usually the author's name and page number). Without immediate reference to borrowed material, a list of sources at the end of a written assignment does not protect a writer against a possible charge of plagiarism. This also applies to work facilitated or written for students by third parties. Submit all essays to Turnitin."
   ]
  },
  {
   "cell_type": "markdown",
   "metadata": {},
   "source": [
    "###Absenteeism\n",
    "\n",
    "Students seeking academic accommodation on medical grounds for any missed tests, exams, participation components and/or assignments must apply to the Academic Counseling office of their home Faculty and provide documentation. Academic accommodation cannot be granted by the instructor or department.\n",
    "- Accommodation for Medical Illness: https://studentservices.uwo.ca/secure/medical_accommodations_link_for_OOR.pdf\n",
    "- Downloadable Medical Certificate: https://studentservices.uwo.ca/"
   ]
  },
  {
   "cell_type": "markdown",
   "metadata": {},
   "source": [
    "###Course plan\n",
    "\n",
    "[Go to the course plan](plan.ipynb)."
   ]
  },
  {
   "cell_type": "markdown",
   "metadata": {},
   "source": [
    "###Bibliography\n",
    "\n"
   ]
  }
 ],
 "metadata": {
  "kernelspec": {
   "display_name": "Python 2",
   "language": "python",
   "name": "python2"
  },
  "language_info": {
   "codemirror_mode": {
    "name": "ipython",
    "version": 2
   },
   "file_extension": ".py",
   "mimetype": "text/x-python",
   "name": "python",
   "nbconvert_exporter": "python",
   "pygments_lexer": "ipython2",
   "version": "2.7.6"
  }
 },
 "nbformat": 4,
 "nbformat_minor": 0
}
