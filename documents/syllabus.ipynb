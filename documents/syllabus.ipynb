{
 "cells": [
  {
   "cell_type": "markdown",
   "metadata": {},
   "source": [
    "<div align=\"center\">\n",
    "    <h1><a href=\"../index.ipynb\">Knowledge Discovery in Digital Humanities</a></h1>\n",
    "    <h2>Syllabus</h2>\n",
    "</div>"
   ]
  },
  {
   "cell_type": "markdown",
   "metadata": {},
   "source": [
    "###Table of contents\n",
    "\n",
    "- [Course description](#Course-description)\n",
    "- [Objectives](#Objectives)\n",
    "- [Learning outcomes](#Learning-outcomes)\n",
    "- [Prerequisite and antirequesite](#Prerequisite-and-antirequesite)\n",
    "- [Evaluation](#Evaluation)\n",
    "- [Plagiarism](#Plagiarism)\n",
    "- [Absenteeism](#Absenteeism)\n",
    "- [Course plan](#Course-plan)\n",
    "- [Bibliography](#Bibliography)"
   ]
  },
  {
   "cell_type": "markdown",
   "metadata": {},
   "source": [
    "###Course description\n",
    "\n",
    "This course aims to teach how to obtain valuable knowledge from a variety of online sources of information. It starts with an introduction to knowledge and ways of creating it, including how technology and new media are affecting traditional means of its production and dissemination. In particular, the course examines the social nature of knowledge, that claims that human knowledge is created and transmitted through social processes, against more traditional theories of knowledge that argue that it is produced by individuals.\n",
    "\n",
    "In this context of collectivity, the course provides an overview of crowdsourcing (that is, the act of outsourcing a task to the crowd), collaboration and interdisciplinarity. It also outlines some of the existing mechanisms to incentive the community to participate, as well as the rol of reputation and trust in the process of collaborative creation and sharing of knowledge. The exploration of certain online communities formed on Facebook, Twitter or Stack Overflow around specific topics exemplifies these concepts.\n",
    "\n",
    "The course shows how to extract knowledge from such communities by means of two combined approaches: social media mining and text processing. In order to address these topics, it begins with a general programming guide in Python. Then it covers some useful methods to mine social media like Twitter or Facebook, and websites, and also explores powerful Python libraries to visualize the data extracted like Matplotlib or Pandas. Finally, it showcases major techniques for text processing, namely, information retrieval, text classification or sentiment analysis, which demonstrate it is possible to discover interesting patterns and support decision making from knowledge previously extracted, with an emphasis on practical applications."
   ]
  },
  {
   "cell_type": "markdown",
   "metadata": {},
   "source": [
    "###Objectives\n",
    "\n",
    "The main goals of this course are:\n",
    "- Understand human knowledge as a social construct, and the specific role of crowdsourcing, interdisciplinary collaboration, and new technologies.\n",
    "- Be aware of the valuable knowledge contained in new media such as social networks and online knowledge communities.\n",
    "- Highlight existing mechanisms to identify reliable knowledge, in particular, reputation and trust.\n",
    "- Create the next generation of skilled researchers by means of programming applied to text processing."
   ]
  },
  {
   "cell_type": "markdown",
   "metadata": {},
   "source": [
    "###Learning outcomes\n",
    "\n",
    "Upon completing this course, students will be able to effectively:\n",
    "- Critically judge the validity of online sources of knowledge.\n",
    "- Write programs in Python in order to solve problems.\n",
    "- Access a varied range of online resources to extract information.\n",
    "- Be able to discover knowledge from online knowledge communities."
   ]
  },
  {
   "cell_type": "markdown",
   "metadata": {},
   "source": [
    "###Prerequisite and antirequesite\n",
    "There are no prerequisites or antirequesites for this course. However, previous programming skills are advised."
   ]
  },
  {
   "cell_type": "markdown",
   "metadata": {},
   "source": [
    "###Evaluation\n",
    "\n",
    "<table align=\"left\">\n",
    "    <tr><td>attendance</td><td>students can miss up to 3 classes</td><td>15%</td></tr>\n",
    "    <tr><td>assignments</td><td>3 assignments, 15% each</td><td>45%</td></tr>\n",
    "    <tr><td>final project</td><td>proposal: 10%, code: 10%, essay: 10%, presentation: 10%</td><td>40%</td></tr>\n",
    "</table>\n",
    "<br/><br/><br/><br/><br/>\n",
    "\n",
    "####Attendance (15%)\n",
    "The students are expected to attende class regularly. Attendance grade can be calculated after this formula:\n",
    "```\n",
    "if absences <= 3:\n",
    "    grade = 15%\n",
    "else:\n",
    "    grade = 0%\n",
    "```\n",
    "\n",
    "####Assignments (35%)\n",
    "There are 3 assignments in this course (one for module I and two for module III) graded with 15% each.\n",
    "\n",
    "####Final project (45%):\n",
    "The students must choose a problem of their interest and an appropiate dataset, and apply some of the techniques covered in the course. The final project evaluation is divided into 4 parts:\n",
    "- Interest and viability of the proposal (10%)\n",
    "- Code of the solution written in IPython notebook (10%)\n",
    "- Memory of the project (10%)\n",
    "- Presentation in class (10%)"
   ]
  },
  {
   "cell_type": "markdown",
   "metadata": {},
   "source": [
    "###Plagiarism\n",
    "\n",
    "Plagiarism is a major academic offense (see Scholastic Offense Policy in the Western Academic\n",
    "Calendar at http://www.westerncalendar.uwo.ca/2015/pg113.html). Plagiarism is the inclusion of someone else's verbatim or paraphrased text in one's own written work without immediate reference. Verbatim text must be surrounded by quotation marks or indented if it is longer than four lines. A reference must follow right after borrowed material (usually the author's name and page number). Without immediate reference to borrowed material, a list of sources at the end of a written assignment does not protect a writer against a possible charge of plagiarism. This also applies to work facilitated or written for students by third parties. Submit all essays to Turnitin."
   ]
  },
  {
   "cell_type": "markdown",
   "metadata": {},
   "source": [
    "###Absenteeism\n",
    "\n",
    "Students seeking academic accommodation on medical grounds for any missed tests, exams, participation components and/or assignments must apply to the Academic Counseling office of their home Faculty and provide documentation. Academic accommodation cannot be granted by the instructor or department.\n",
    "- Accommodation for Medical Illness: https://studentservices.uwo.ca/secure/medical_accommodations_link_for_OOR.pdf\n",
    "- Downloadable Medical Certificate: https://studentservices.uwo.ca/"
   ]
  },
  {
   "cell_type": "markdown",
   "metadata": {},
   "source": [
    "###Course plan\n",
    "\n",
    "[Go to the course plan](plan.ipynb)."
   ]
  },
  {
   "cell_type": "markdown",
   "metadata": {},
   "source": [
    "###Bibliography\n",
    "\n",
    "<html xmlns=\"http://www.w3.org/1999/xhtml\" xml:lang=\"en\">\n",
    "<head>\n",
    "<meta http-equiv=\"Content-Type\" content=\"text/html; charset=utf-8\"/>\n",
    "<title>Bibliography</title>\n",
    "</head>\n",
    "<body>\n",
    "<div style=\"line-height: 2; padding-left: 2em; text-indent:-2em;\" class=\"csl-bib-body\">\n",
    "  <div class=\"csl-entry\">Bird, Steven, Ewan Klein, and Edward Loper. <i>Natural Language Processing with Python</i>. Beijing ; Cambridge Mass.: O’Reilly Media, 2009. Print.</div>\n",
    "  <span class=\"Z3988\" title=\"url_ver=Z39.88-2004&amp;ctx_ver=Z39.88-2004&amp;rfr_id=info%3Asid%2Fzotero.org%3A2&amp;rft_id=urn%3Aisbn%3A9780596516499&amp;rft_val_fmt=info%3Aofi%2Ffmt%3Akev%3Amtx%3Abook&amp;rft.genre=book&amp;rft.btitle=Natural%20Language%20Processing%20with%20Python&amp;rft.place=Beijing%20%3B%20Cambridge%20Mass.&amp;rft.publisher=O'Reilly%20Media&amp;rft.aufirst=Steven&amp;rft.aulast=Bird&amp;rft.au=Steven%20Bird&amp;rft.au=Ewan%20Klein&amp;rft.au=Edward%20Loper&amp;rft.date=2009-07-10&amp;rft.tpages=504&amp;rft.isbn=9780596516499&amp;rft.language=English\"></span>\n",
    "  <div class=\"csl-entry\">Botsman, Rachel. “Welcome to the New Reputation Economy.” <i>Wired UK</i> Aug. 2012. Web. 7 Apr. 2015.</div>\n",
    "  <span class=\"Z3988\" title=\"url_ver=Z39.88-2004&amp;ctx_ver=Z39.88-2004&amp;rfr_id=info%3Asid%2Fzotero.org%3A2&amp;rft_val_fmt=info%3Aofi%2Ffmt%3Akev%3Amtx%3Adc&amp;rft.type=magazineArticle&amp;rft.title=Welcome%20to%20the%20new%20reputation%20economy&amp;rft.source=Wired%20UK&amp;rft.description=Your%20every%20online%20transaction%20requires%20you%20to%20establish%20your%20trustworthiness.%20That%E2%80%99s%20why%20your%20personal%20reputation%20dashboard%20will%20soon%20matter%20more%20than%20your%20credit%20record&amp;rft.identifier=http%3A%2F%2Fwww.wired.co.uk%2Fmagazine%2Farchive%2F2012%2F09%2Ffeatures%2Fwelcome-to-the-new-reputation-economy&amp;rft.aufirst=Rachel&amp;rft.aulast=Botsman&amp;rft.au=Rachel%20Botsman&amp;rft.date=2012-08\"></span>\n",
    "  <div class=\"csl-entry\">Downey, Allen B. <i>Think Python</i>. Sebastopol, CA: O’Reilly Media, 2012. Print.</div>\n",
    "  <span class=\"Z3988\" title=\"url_ver=Z39.88-2004&amp;ctx_ver=Z39.88-2004&amp;rfr_id=info%3Asid%2Fzotero.org%3A2&amp;rft_id=urn%3Aisbn%3A9781449330729&amp;rft_val_fmt=info%3Aofi%2Ffmt%3Akev%3Amtx%3Abook&amp;rft.genre=book&amp;rft.btitle=Think%20Python&amp;rft.place=Sebastopol%2C%20CA&amp;rft.publisher=O'Reilly%20Media&amp;rft.aufirst=Allen%20B.&amp;rft.aulast=Downey&amp;rft.au=Allen%20B.%20Downey&amp;rft.date=2012-08-23&amp;rft.tpages=300&amp;rft.isbn=9781449330729&amp;rft.language=English\"></span>\n",
    "  <div class=\"csl-entry\">Liu, Bing. <i>Sentiment Analysis and Opinion Mining</i>. San Rafael, Calif.: Morgan &amp; Claypool Publishers, 2012. Print.</div>\n",
    "  <span class=\"Z3988\" title=\"url_ver=Z39.88-2004&amp;ctx_ver=Z39.88-2004&amp;rfr_id=info%3Asid%2Fzotero.org%3A2&amp;rft_id=urn%3Aisbn%3A9781608458844&amp;rft_val_fmt=info%3Aofi%2Ffmt%3Akev%3Amtx%3Abook&amp;rft.genre=book&amp;rft.btitle=Sentiment%20Analysis%20and%20Opinion%20Mining&amp;rft.place=San%20Rafael%2C%20Calif.&amp;rft.publisher=Morgan%20%26%20Claypool%20Publishers&amp;rft.aufirst=Bing&amp;rft.aulast=Liu&amp;rft.au=Bing%20Liu&amp;rft.date=2012-05-23&amp;rft.tpages=180&amp;rft.isbn=9781608458844&amp;rft.language=English\"></span>\n",
    "  <div class=\"csl-entry\">Russell, Matthew A. <i>Mining the Social Web: Data Mining Facebook, Twitter, LinkedIn, Google+, GitHub, and More</i>. Second edition. O’Reilly Media, 2013. Print.</div>\n",
    "  <span class=\"Z3988\" title=\"url_ver=Z39.88-2004&amp;ctx_ver=Z39.88-2004&amp;rfr_id=info%3Asid%2Fzotero.org%3A2&amp;rft_id=urn%3Aisbn%3A9781449367619&amp;rft_val_fmt=info%3Aofi%2Ffmt%3Akev%3Amtx%3Abook&amp;rft.genre=book&amp;rft.btitle=Mining%20the%20Social%20Web%3A%20Data%20Mining%20Facebook%2C%20Twitter%2C%20LinkedIn%2C%20Google%2B%2C%20GitHub%2C%20and%20More&amp;rft.publisher=O'Reilly%20Media&amp;rft.edition=Second%20edition&amp;rft.aufirst=Matthew%20A.&amp;rft.aulast=Russell&amp;rft.au=Matthew%20A.%20Russell&amp;rft.date=2013-10-20&amp;rft.tpages=448&amp;rft.isbn=9781449367619&amp;rft.language=English\"></span>\n",
    "  <div class=\"csl-entry\">Steup, Matthias. “Epistemology.” <i>The Stanford Encyclopedia of Philosophy</i>. Ed. Edward N. Zalta. Spring 2014. N.p., 2014. <i>Stanford Encyclopedia of Philosophy</i>. Web. 7 Apr. 2015.</div>\n",
    "  <span class=\"Z3988\" title=\"url_ver=Z39.88-2004&amp;ctx_ver=Z39.88-2004&amp;rfr_id=info%3Asid%2Fzotero.org%3A2&amp;rft_val_fmt=info%3Aofi%2Ffmt%3Akev%3Amtx%3Abook&amp;rft.genre=bookitem&amp;rft.atitle=Epistemology&amp;rft.edition=Spring%202014&amp;rft.aufirst=Matthias&amp;rft.aulast=Steup&amp;rft.au=Matthias%20Steup&amp;rft.au=Edward%20N.%20Zalta&amp;rft.date=2014\"></span>\n",
    "</div></body>\n",
    "</html>"
   ]
  }
 ],
 "metadata": {
  "kernelspec": {
   "display_name": "Python 2",
   "language": "python",
   "name": "python2"
  },
  "language_info": {
   "codemirror_mode": {
    "name": "ipython",
    "version": 2
   },
   "file_extension": ".py",
   "mimetype": "text/x-python",
   "name": "python",
   "nbconvert_exporter": "python",
   "pygments_lexer": "ipython2",
   "version": "2.7.6"
  }
 },
 "nbformat": 4,
 "nbformat_minor": 0
}
