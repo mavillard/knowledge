{
 "cells": [
  {
   "cell_type": "markdown",
   "metadata": {},
   "source": [
    "<div align=\"center\">\n",
    "    <h1><a href=\"index.ipynb\">Knowledge Discovery in Digital Humanities</a></h1>\n",
    "    <br/>\n",
    "    <img src=\"img/labyrinth.png\" width=\"300\">\n",
    "</div>\n",
    "<p>Antonio Jiménez Mavillard<br/>Supervisor: Prof. Juan Luis Suárez</p>"
   ]
  },
  {
   "cell_type": "markdown",
   "metadata": {},
   "source": [
    "###Table of contents\n",
    "\n",
    "- [Course description](#Course-description)\n",
    "- [Objectives](#Objectives)\n",
    "- [Structure and methodology](#Structure-and-methodology)\n",
    "- [Evaluation](#Evaluation)\n",
    "- [Bibliography](#Bibliography)"
   ]
  },
  {
   "cell_type": "markdown",
   "metadata": {},
   "source": [
    "###Course description\n",
    "\n",
    "- **What?** Extract and discover knowledge\n",
    "- **Where from?** From online sources of information:\n",
    "    - Text corpora (e. g., [Project Gutenberg](https://www.gutenberg.org/), 46,000+ free ebooks)\n",
    "    - The social web (e. g., [Twitter](https://twitter.com/), 500+ million registered users)\n",
    "- **How?** Web mining and text mining in Python\n",
    "- **When?** Right now!\n",
    "- **Who?** Everybody!\n",
    "- **Why?** Because:\n",
    "    - Knowledge encoded in text\n",
    "    - The web is a valuable source of knowledge"
   ]
  },
  {
   "cell_type": "markdown",
   "metadata": {},
   "source": [
    "###Objectives\n",
    "\n",
    "- Understand human knowledge as a product of social interactions\n",
    "- Be aware of the value of the web as a source of information\n",
    "- Be able to extract valuable knowledge from text corpora and the social web"
   ]
  },
  {
   "cell_type": "markdown",
   "metadata": {},
   "source": [
    "###Structure and methodology\n",
    "\n",
    "1. Knowledge\n",
    "2. Python\n",
    "3. Social web\n",
    "    1. Concepts\n",
    "    2. Case study\n",
    "4. Text mining\n",
    "    1. Concepts\n",
    "    2. Case study\n",
    "5. Projects\n"
   ]
  },
  {
   "cell_type": "markdown",
   "metadata": {},
   "source": [
    "###Evaluation\n",
    "\n",
    "<table align=\"left\">\n",
    "    <tr><td>progress and participation</td><td>in-class example and exercises</td><td>15%</td></tr>\n",
    "    <tr><td>assignments</td><td>3 assignments, 15% each</td><td>45%</td></tr>\n",
    "    <tr><td>final project</td><td>proposal: 10%, code: 10%, essay: 10%, presentation: 10%</td><td>40%</td></tr>\n",
    "</table>"
   ]
  }
 ],
 "metadata": {
  "kernelspec": {
   "display_name": "Python 2",
   "language": "python",
   "name": "python2"
  },
  "language_info": {
   "codemirror_mode": {
    "name": "ipython",
    "version": 2
   },
   "file_extension": ".py",
   "mimetype": "text/x-python",
   "name": "python",
   "nbconvert_exporter": "python",
   "pygments_lexer": "ipython2",
   "version": "2.7.6"
  }
 },
 "nbformat": 4,
 "nbformat_minor": 0
}
